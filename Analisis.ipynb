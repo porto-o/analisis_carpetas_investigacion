{
 "cells": [
  {
   "cell_type": "markdown",
   "id": "dea74723-10c2-49f4-a1c7-2d72e1c3d76d",
   "metadata": {},
   "source": [
    "# Análisis de las carpetas de investigación"
   ]
  },
  {
   "cell_type": "code",
   "execution_count": 2,
   "id": "bec5af78-5a53-4506-8592-46b32b32e23f",
   "metadata": {},
   "outputs": [],
   "source": [
    "import pandas as pd\n",
    "import numpy as np\n",
    "import matplotlib.pyplot as plt\n",
    "import seaborn as sb"
   ]
  },
  {
   "cell_type": "markdown",
   "id": "ee33caf6-3c72-4750-9881-99723e2efa9b",
   "metadata": {},
   "source": [
    "## Personas físicas"
   ]
  },
  {
   "cell_type": "code",
   "execution_count": 3,
   "id": "bbf79531-d19c-4be0-8ef1-cbfd564f5a99",
   "metadata": {},
   "outputs": [],
   "source": [
    "df_fisica = pd.read_csv('data/fisicas.csv')"
   ]
  },
  {
   "cell_type": "code",
   "execution_count": 5,
   "id": "279d80e5-1f13-4ac1-b9d1-ac78e68a197b",
   "metadata": {},
   "outputs": [
    {
     "data": {
      "text/html": [
       "<div>\n",
       "<style scoped>\n",
       "    .dataframe tbody tr th:only-of-type {\n",
       "        vertical-align: middle;\n",
       "    }\n",
       "\n",
       "    .dataframe tbody tr th {\n",
       "        vertical-align: top;\n",
       "    }\n",
       "\n",
       "    .dataframe thead th {\n",
       "        text-align: right;\n",
       "    }\n",
       "</style>\n",
       "<table border=\"1\" class=\"dataframe\">\n",
       "  <thead>\n",
       "    <tr style=\"text-align: right;\">\n",
       "      <th></th>\n",
       "      <th>Unnamed: 0</th>\n",
       "      <th>delito</th>\n",
       "      <th>categoria</th>\n",
       "      <th>sexo</th>\n",
       "      <th>edad</th>\n",
       "      <th>calidad</th>\n",
       "      <th>competencia</th>\n",
       "      <th>año</th>\n",
       "      <th>mes</th>\n",
       "      <th>fecha</th>\n",
       "      <th>hora</th>\n",
       "      <th>alcaldia</th>\n",
       "      <th>colonia</th>\n",
       "    </tr>\n",
       "  </thead>\n",
       "  <tbody>\n",
       "    <tr>\n",
       "      <th>0</th>\n",
       "      <td>1</td>\n",
       "      <td>ROBO A TRANSEUNTE EN VIA PUBLICA CON VIOLENCIA</td>\n",
       "      <td>ROBO A TRANSEUNTE EN VÍA PÚBLICA CON Y SIN VIO...</td>\n",
       "      <td>Masculino</td>\n",
       "      <td>50</td>\n",
       "      <td>VICTIMA Y DENUNCIANTE</td>\n",
       "      <td>FUERO COMUN</td>\n",
       "      <td>2022</td>\n",
       "      <td>Diciembre</td>\n",
       "      <td>2022-12-31</td>\n",
       "      <td>23:50:00</td>\n",
       "      <td>VENUSTIANO CARRANZA</td>\n",
       "      <td>MOCTEZUMA 2A SECCION IV</td>\n",
       "    </tr>\n",
       "    <tr>\n",
       "      <th>1</th>\n",
       "      <td>2</td>\n",
       "      <td>ROBO DE VEHICULO DE SERVICIO PARTICULAR CON VI...</td>\n",
       "      <td>ROBO DE VEHÍCULO CON Y SIN VIOLENCIA</td>\n",
       "      <td>Masculino</td>\n",
       "      <td>34</td>\n",
       "      <td>VICTIMA Y DENUNCIANTE</td>\n",
       "      <td>FUERO COMUN</td>\n",
       "      <td>2022</td>\n",
       "      <td>Diciembre</td>\n",
       "      <td>2022-12-31</td>\n",
       "      <td>20:30:00</td>\n",
       "      <td>GUSTAVO A. MADERO</td>\n",
       "      <td>SAN JUAN DE ARAGON 3A SECCION (U HAB) I</td>\n",
       "    </tr>\n",
       "    <tr>\n",
       "      <th>2</th>\n",
       "      <td>3</td>\n",
       "      <td>LESIONES CULPOSAS POR TRANSITO VEHICULAR EN CO...</td>\n",
       "      <td>DELITO DE BAJO IMPACTO</td>\n",
       "      <td>Masculino</td>\n",
       "      <td>34</td>\n",
       "      <td>LESIONADO</td>\n",
       "      <td>FUERO COMUN</td>\n",
       "      <td>2022</td>\n",
       "      <td>Diciembre</td>\n",
       "      <td>2022-12-31</td>\n",
       "      <td>23:30:00</td>\n",
       "      <td>COYOACAN</td>\n",
       "      <td>XOTEPINGO</td>\n",
       "    </tr>\n",
       "    <tr>\n",
       "      <th>3</th>\n",
       "      <td>5</td>\n",
       "      <td>ROBO DE OBJETOS</td>\n",
       "      <td>DELITO DE BAJO IMPACTO</td>\n",
       "      <td>Masculino</td>\n",
       "      <td>41</td>\n",
       "      <td>VICTIMA Y DENUNCIANTE</td>\n",
       "      <td>FUERO COMUN</td>\n",
       "      <td>2022</td>\n",
       "      <td>Diciembre</td>\n",
       "      <td>2022-12-31</td>\n",
       "      <td>23:15:00</td>\n",
       "      <td>IZTAPALAPA</td>\n",
       "      <td>PASEOS DE CHURUBUSCO</td>\n",
       "    </tr>\n",
       "    <tr>\n",
       "      <th>4</th>\n",
       "      <td>6</td>\n",
       "      <td>DAÑO EN PROPIEDAD AJENA CULPOSA POR TRÁNSITO V...</td>\n",
       "      <td>DELITO DE BAJO IMPACTO</td>\n",
       "      <td>Masculino</td>\n",
       "      <td>58</td>\n",
       "      <td>VICTIMA Y DENUNCIANTE</td>\n",
       "      <td>FUERO COMUN</td>\n",
       "      <td>2022</td>\n",
       "      <td>Diciembre</td>\n",
       "      <td>2022-12-31</td>\n",
       "      <td>22:47:00</td>\n",
       "      <td>IZTAPALAPA</td>\n",
       "      <td>CULHUACAN (PBLO)</td>\n",
       "    </tr>\n",
       "  </tbody>\n",
       "</table>\n",
       "</div>"
      ],
      "text/plain": [
       "   Unnamed: 0                                             delito  \\\n",
       "0           1     ROBO A TRANSEUNTE EN VIA PUBLICA CON VIOLENCIA   \n",
       "1           2  ROBO DE VEHICULO DE SERVICIO PARTICULAR CON VI...   \n",
       "2           3  LESIONES CULPOSAS POR TRANSITO VEHICULAR EN CO...   \n",
       "3           5                                    ROBO DE OBJETOS   \n",
       "4           6  DAÑO EN PROPIEDAD AJENA CULPOSA POR TRÁNSITO V...   \n",
       "\n",
       "                                           categoria       sexo  edad  \\\n",
       "0  ROBO A TRANSEUNTE EN VÍA PÚBLICA CON Y SIN VIO...  Masculino    50   \n",
       "1               ROBO DE VEHÍCULO CON Y SIN VIOLENCIA  Masculino    34   \n",
       "2                             DELITO DE BAJO IMPACTO  Masculino    34   \n",
       "3                             DELITO DE BAJO IMPACTO  Masculino    41   \n",
       "4                             DELITO DE BAJO IMPACTO  Masculino    58   \n",
       "\n",
       "                 calidad  competencia   año        mes       fecha      hora  \\\n",
       "0  VICTIMA Y DENUNCIANTE  FUERO COMUN  2022  Diciembre  2022-12-31  23:50:00   \n",
       "1  VICTIMA Y DENUNCIANTE  FUERO COMUN  2022  Diciembre  2022-12-31  20:30:00   \n",
       "2              LESIONADO  FUERO COMUN  2022  Diciembre  2022-12-31  23:30:00   \n",
       "3  VICTIMA Y DENUNCIANTE  FUERO COMUN  2022  Diciembre  2022-12-31  23:15:00   \n",
       "4  VICTIMA Y DENUNCIANTE  FUERO COMUN  2022  Diciembre  2022-12-31  22:47:00   \n",
       "\n",
       "              alcaldia                                  colonia  \n",
       "0  VENUSTIANO CARRANZA                  MOCTEZUMA 2A SECCION IV  \n",
       "1    GUSTAVO A. MADERO  SAN JUAN DE ARAGON 3A SECCION (U HAB) I  \n",
       "2             COYOACAN                                XOTEPINGO  \n",
       "3           IZTAPALAPA                     PASEOS DE CHURUBUSCO  \n",
       "4           IZTAPALAPA                         CULHUACAN (PBLO)  "
      ]
     },
     "execution_count": 5,
     "metadata": {},
     "output_type": "execute_result"
    }
   ],
   "source": [
    "df_fisica.head()"
   ]
  },
  {
   "cell_type": "code",
   "execution_count": 31,
   "id": "7a3d85b3-a068-48fc-9b26-8a63218ca3d6",
   "metadata": {},
   "outputs": [
    {
     "data": {
      "image/png": "[encoded data removed]",
      "text/plain": [
       "<Figure size 640x480 with 1 Axes>"
      ]
     },
     "metadata": {},
     "output_type": "display_data"
    }
   ],
   "source": [
    "x = df_fisica.edad\n",
    "plt.hist(x)\n",
    "plt.show()"
   ]
  },
  {
   "cell_type": "code",
   "execution_count": null,
   "id": "d39e03d5-3613-45a6-b8e7-02ffcd1ba48a",
   "metadata": {},
   "outputs": [],
   "source": []
  }
 ],
 "metadata": {
  "kernelspec": {
   "display_name": "Python 3 (ipykernel)",
   "language": "python",
   "name": "python3"
  },
  "language_info": {
   "codemirror_mode": {
    "name": "ipython",
    "version": 3
   },
   "file_extension": ".py",
   "mimetype": "text/x-python",
   "name": "python",
   "nbconvert_exporter": "python",
   "pygments_lexer": "ipython3",
   "version": "3.10.9"
  }
 },
 "nbformat": 4,
 "nbformat_minor": 5
}
