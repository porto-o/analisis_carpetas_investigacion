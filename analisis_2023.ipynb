{
 "cells": [
  {
   "cell_type": "markdown",
   "id": "dd2c2f36",
   "metadata": {},
   "source": [
    "# Análsis de carpetas de investigación del 2023\n",
    "\n",
    "Estos datos corresponden al periodo del 01/Enero/2023 al 31/Marzo/2023"
   ]
  },
  {
   "cell_type": "code",
   "execution_count": 1,
   "id": "1624d0a2",
   "metadata": {
    "tags": []
   },
   "outputs": [],
   "source": [
    "import pandas as pd\n",
    "import numpy as np\n",
    "import matplotlib.pyplot as plt\n",
    "import seaborn as sb\n",
    "from sklearn.impute import KNNImputer\n",
    "import math"
   ]
  },
  {
   "cell_type": "markdown",
   "id": "6597331c",
   "metadata": {},
   "source": [
    "### Entendimiento de los datos"
   ]
  },
  {
   "cell_type": "code",
   "execution_count": 2,
   "id": "4681abf2",
   "metadata": {
    "tags": []
   },
   "outputs": [
    {
     "data": {
      "text/plain": [
       "(64344, 22)"
      ]
     },
     "execution_count": 2,
     "metadata": {},
     "output_type": "execute_result"
    }
   ],
   "source": [
    "df = pd.read_csv('data/da_2023.csv')\n",
    "df.shape"
   ]
  },
  {
   "cell_type": "code",
   "execution_count": 3,
   "id": "1374a292",
   "metadata": {
    "tags": []
   },
   "outputs": [
    {
     "data": {
      "text/plain": [
       "Index(['idCarpeta', 'Año_inicio', 'Mes_inicio', 'FechaInicio', 'Delito',\n",
       "       'Categoria', 'Sexo', 'Edad', 'TipoPersona', 'CalidadJuridica',\n",
       "       'competencia', 'Año_hecho', 'Mes_hecho', 'FechaHecho', 'HoraHecho',\n",
       "       'HoraInicio', 'alcaldia_hechos', 'municipio_hechos', 'colonia_datos',\n",
       "       'fgj_colonia_registro', 'latitud', 'longitud'],\n",
       "      dtype='object')"
      ]
     },
     "execution_count": 3,
     "metadata": {},
     "output_type": "execute_result"
    }
   ],
   "source": [
    "df.columns"
   ]
  },
  {
   "cell_type": "code",
   "execution_count": 4,
   "id": "3cc503b6",
   "metadata": {
    "tags": []
   },
   "outputs": [
    {
     "data": {
      "text/html": [
       "<div>\n",
       "<style scoped>\n",
       "    .dataframe tbody tr th:only-of-type {\n",
       "        vertical-align: middle;\n",
       "    }\n",
       "\n",
       "    .dataframe tbody tr th {\n",
       "        vertical-align: top;\n",
       "    }\n",
       "\n",
       "    .dataframe thead th {\n",
       "        text-align: right;\n",
       "    }\n",
       "</style>\n",
       "<table border=\"1\" class=\"dataframe\">\n",
       "  <thead>\n",
       "    <tr style=\"text-align: right;\">\n",
       "      <th></th>\n",
       "      <th>idCarpeta</th>\n",
       "      <th>Año_inicio</th>\n",
       "      <th>Mes_inicio</th>\n",
       "      <th>FechaInicio</th>\n",
       "      <th>Delito</th>\n",
       "      <th>Categoria</th>\n",
       "      <th>Sexo</th>\n",
       "      <th>Edad</th>\n",
       "      <th>TipoPersona</th>\n",
       "      <th>CalidadJuridica</th>\n",
       "      <th>...</th>\n",
       "      <th>Mes_hecho</th>\n",
       "      <th>FechaHecho</th>\n",
       "      <th>HoraHecho</th>\n",
       "      <th>HoraInicio</th>\n",
       "      <th>alcaldia_hechos</th>\n",
       "      <th>municipio_hechos</th>\n",
       "      <th>colonia_datos</th>\n",
       "      <th>fgj_colonia_registro</th>\n",
       "      <th>latitud</th>\n",
       "      <th>longitud</th>\n",
       "    </tr>\n",
       "  </thead>\n",
       "  <tbody>\n",
       "    <tr>\n",
       "      <th>0</th>\n",
       "      <td>9361878</td>\n",
       "      <td>2023</td>\n",
       "      <td>Enero</td>\n",
       "      <td>2023-01-01</td>\n",
       "      <td>LESIONES CULPOSAS POR TRANSITO VEHICULAR EN CO...</td>\n",
       "      <td>DELITO DE BAJO IMPACTO</td>\n",
       "      <td>NaN</td>\n",
       "      <td>NaN</td>\n",
       "      <td>MORAL</td>\n",
       "      <td>OFENDIDO</td>\n",
       "      <td>...</td>\n",
       "      <td>Diciembre</td>\n",
       "      <td>2022-12-31</td>\n",
       "      <td>22:08:00</td>\n",
       "      <td>00:09:00</td>\n",
       "      <td>COYOACAN</td>\n",
       "      <td>NaN</td>\n",
       "      <td>INSURGENTES CUICUILCO</td>\n",
       "      <td>INSURGENTES CUICUILCO</td>\n",
       "      <td>19.305532</td>\n",
       "      <td>-99.186308</td>\n",
       "    </tr>\n",
       "    <tr>\n",
       "      <th>1</th>\n",
       "      <td>9361879</td>\n",
       "      <td>2023</td>\n",
       "      <td>Enero</td>\n",
       "      <td>2023-01-01</td>\n",
       "      <td>ROBO A TRANSEUNTE EN VIA PUBLICA CON VIOLENCIA</td>\n",
       "      <td>ROBO A TRANSEUNTE EN VÍA PÚBLICA CON Y SIN VIO...</td>\n",
       "      <td>Masculino</td>\n",
       "      <td>50.0</td>\n",
       "      <td>FISICA</td>\n",
       "      <td>VICTIMA Y DENUNCIANTE</td>\n",
       "      <td>...</td>\n",
       "      <td>Diciembre</td>\n",
       "      <td>2022-12-31</td>\n",
       "      <td>23:50:00</td>\n",
       "      <td>00:41:00</td>\n",
       "      <td>VENUSTIANO CARRANZA</td>\n",
       "      <td>NaN</td>\n",
       "      <td>MOCTEZUMA 2A SECCION IV</td>\n",
       "      <td>MOCTEZUMA 2A SECCIÓN</td>\n",
       "      <td>19.429797</td>\n",
       "      <td>-99.098672</td>\n",
       "    </tr>\n",
       "    <tr>\n",
       "      <th>2</th>\n",
       "      <td>9361880</td>\n",
       "      <td>2023</td>\n",
       "      <td>Enero</td>\n",
       "      <td>2023-01-01</td>\n",
       "      <td>ROBO DE VEHICULO DE SERVICIO PARTICULAR CON VI...</td>\n",
       "      <td>ROBO DE VEHÍCULO CON Y SIN VIOLENCIA</td>\n",
       "      <td>Masculino</td>\n",
       "      <td>34.0</td>\n",
       "      <td>FISICA</td>\n",
       "      <td>VICTIMA Y DENUNCIANTE</td>\n",
       "      <td>...</td>\n",
       "      <td>Diciembre</td>\n",
       "      <td>2022-12-31</td>\n",
       "      <td>20:30:00</td>\n",
       "      <td>00:44:00</td>\n",
       "      <td>GUSTAVO A. MADERO</td>\n",
       "      <td>NaN</td>\n",
       "      <td>SAN JUAN DE ARAGON 3A SECCION (U HAB) I</td>\n",
       "      <td>SAN JUAN DE ARAGÓN III SECCIÓN</td>\n",
       "      <td>19.451641</td>\n",
       "      <td>-99.076529</td>\n",
       "    </tr>\n",
       "    <tr>\n",
       "      <th>3</th>\n",
       "      <td>9361881</td>\n",
       "      <td>2023</td>\n",
       "      <td>Enero</td>\n",
       "      <td>2023-01-01</td>\n",
       "      <td>LESIONES CULPOSAS POR TRANSITO VEHICULAR EN CO...</td>\n",
       "      <td>DELITO DE BAJO IMPACTO</td>\n",
       "      <td>Masculino</td>\n",
       "      <td>NaN</td>\n",
       "      <td>FISICA</td>\n",
       "      <td>LESIONADO</td>\n",
       "      <td>...</td>\n",
       "      <td>Diciembre</td>\n",
       "      <td>2022-12-31</td>\n",
       "      <td>23:30:00</td>\n",
       "      <td>00:47:00</td>\n",
       "      <td>COYOACAN</td>\n",
       "      <td>NaN</td>\n",
       "      <td>XOTEPINGO</td>\n",
       "      <td>XOTEPINGO</td>\n",
       "      <td>19.323245</td>\n",
       "      <td>-99.138016</td>\n",
       "    </tr>\n",
       "    <tr>\n",
       "      <th>4</th>\n",
       "      <td>9361882</td>\n",
       "      <td>2023</td>\n",
       "      <td>Enero</td>\n",
       "      <td>2023-01-01</td>\n",
       "      <td>PERDIDA DE LA VIDA POR OTRAS CAUSAS</td>\n",
       "      <td>HECHO NO DELICTIVO</td>\n",
       "      <td>Masculino</td>\n",
       "      <td>90.0</td>\n",
       "      <td>FISICA</td>\n",
       "      <td>CADAVER</td>\n",
       "      <td>...</td>\n",
       "      <td>Diciembre</td>\n",
       "      <td>2022-12-31</td>\n",
       "      <td>10:30:00</td>\n",
       "      <td>00:56:00</td>\n",
       "      <td>GUSTAVO A. MADERO</td>\n",
       "      <td>NaN</td>\n",
       "      <td>NaN</td>\n",
       "      <td>NaN</td>\n",
       "      <td>NaN</td>\n",
       "      <td>NaN</td>\n",
       "    </tr>\n",
       "    <tr>\n",
       "      <th>...</th>\n",
       "      <td>...</td>\n",
       "      <td>...</td>\n",
       "      <td>...</td>\n",
       "      <td>...</td>\n",
       "      <td>...</td>\n",
       "      <td>...</td>\n",
       "      <td>...</td>\n",
       "      <td>...</td>\n",
       "      <td>...</td>\n",
       "      <td>...</td>\n",
       "      <td>...</td>\n",
       "      <td>...</td>\n",
       "      <td>...</td>\n",
       "      <td>...</td>\n",
       "      <td>...</td>\n",
       "      <td>...</td>\n",
       "      <td>...</td>\n",
       "      <td>...</td>\n",
       "      <td>...</td>\n",
       "      <td>...</td>\n",
       "      <td>...</td>\n",
       "    </tr>\n",
       "    <tr>\n",
       "      <th>64339</th>\n",
       "      <td>9429532</td>\n",
       "      <td>2023</td>\n",
       "      <td>Marzo</td>\n",
       "      <td>2023-03-31</td>\n",
       "      <td>ROBO S/V DENTRO DE NEGOCIOS, AUTOSERVICIOS, CO...</td>\n",
       "      <td>DELITO DE BAJO IMPACTO</td>\n",
       "      <td>Femenino</td>\n",
       "      <td>69.0</td>\n",
       "      <td>FISICA</td>\n",
       "      <td>VICTIMA Y DENUNCIANTE</td>\n",
       "      <td>...</td>\n",
       "      <td>Marzo</td>\n",
       "      <td>2023-03-31</td>\n",
       "      <td>07:30:00</td>\n",
       "      <td>23:48:00</td>\n",
       "      <td>BENITO JUAREZ</td>\n",
       "      <td>NaN</td>\n",
       "      <td>DEL VALLE VII</td>\n",
       "      <td>DEL VALLE CENTRO</td>\n",
       "      <td>19.372612</td>\n",
       "      <td>-99.174058</td>\n",
       "    </tr>\n",
       "    <tr>\n",
       "      <th>64340</th>\n",
       "      <td>9429533</td>\n",
       "      <td>2023</td>\n",
       "      <td>Marzo</td>\n",
       "      <td>2023-03-31</td>\n",
       "      <td>VIOLENCIA FAMILIAR</td>\n",
       "      <td>DELITO DE BAJO IMPACTO</td>\n",
       "      <td>Femenino</td>\n",
       "      <td>17.0</td>\n",
       "      <td>FISICA</td>\n",
       "      <td>VICTIMA</td>\n",
       "      <td>...</td>\n",
       "      <td>Marzo</td>\n",
       "      <td>2023-03-30</td>\n",
       "      <td>22:00:00</td>\n",
       "      <td>23:49:00</td>\n",
       "      <td>IZTAPALAPA</td>\n",
       "      <td>NaN</td>\n",
       "      <td>MIGUEL DE LA MADRID HURTADO</td>\n",
       "      <td>MIGUEL DE LA MADRID</td>\n",
       "      <td>19.347189</td>\n",
       "      <td>-99.003079</td>\n",
       "    </tr>\n",
       "    <tr>\n",
       "      <th>64341</th>\n",
       "      <td>9429534</td>\n",
       "      <td>2023</td>\n",
       "      <td>Marzo</td>\n",
       "      <td>2023-03-31</td>\n",
       "      <td>ROBO DE OBJETOS DEL INTERIOR DE UN VEHICULO</td>\n",
       "      <td>DELITO DE BAJO IMPACTO</td>\n",
       "      <td>Femenino</td>\n",
       "      <td>43.0</td>\n",
       "      <td>FISICA</td>\n",
       "      <td>VICTIMA Y DENUNCIANTE</td>\n",
       "      <td>...</td>\n",
       "      <td>Marzo</td>\n",
       "      <td>2023-03-31</td>\n",
       "      <td>07:00:00</td>\n",
       "      <td>23:51:00</td>\n",
       "      <td>ALVARO OBREGON</td>\n",
       "      <td>NaN</td>\n",
       "      <td>LOMAS DE SANTA FE II</td>\n",
       "      <td>ZEDEC SANTA FE</td>\n",
       "      <td>19.369135</td>\n",
       "      <td>-99.260935</td>\n",
       "    </tr>\n",
       "    <tr>\n",
       "      <th>64342</th>\n",
       "      <td>9429535</td>\n",
       "      <td>2023</td>\n",
       "      <td>Marzo</td>\n",
       "      <td>2023-03-31</td>\n",
       "      <td>ROBO DE OBJETOS</td>\n",
       "      <td>DELITO DE BAJO IMPACTO</td>\n",
       "      <td>Femenino</td>\n",
       "      <td>39.0</td>\n",
       "      <td>FISICA</td>\n",
       "      <td>VICTIMA Y DENUNCIANTE</td>\n",
       "      <td>...</td>\n",
       "      <td>Marzo</td>\n",
       "      <td>2023-03-31</td>\n",
       "      <td>10:01:00</td>\n",
       "      <td>23:54:00</td>\n",
       "      <td>TLALPAN</td>\n",
       "      <td>NaN</td>\n",
       "      <td>SAN PEDRO MARTIR (PBLO)</td>\n",
       "      <td>SAN PEDRO MÁRTIR</td>\n",
       "      <td>19.267265</td>\n",
       "      <td>-99.175255</td>\n",
       "    </tr>\n",
       "    <tr>\n",
       "      <th>64343</th>\n",
       "      <td>9429536</td>\n",
       "      <td>2023</td>\n",
       "      <td>Marzo</td>\n",
       "      <td>2023-03-31</td>\n",
       "      <td>VIOLENCIA FAMILIAR</td>\n",
       "      <td>DELITO DE BAJO IMPACTO</td>\n",
       "      <td>Femenino</td>\n",
       "      <td>41.0</td>\n",
       "      <td>FISICA</td>\n",
       "      <td>VICTIMA Y DENUNCIANTE</td>\n",
       "      <td>...</td>\n",
       "      <td>Marzo</td>\n",
       "      <td>2023-03-31</td>\n",
       "      <td>17:30:00</td>\n",
       "      <td>23:55:00</td>\n",
       "      <td>AZCAPOTZALCO</td>\n",
       "      <td>NaN</td>\n",
       "      <td>PATRIMONIO FAMILIAR</td>\n",
       "      <td>PATRIMONIO FAMILIAR</td>\n",
       "      <td>19.467405</td>\n",
       "      <td>-99.150559</td>\n",
       "    </tr>\n",
       "  </tbody>\n",
       "</table>\n",
       "<p>64344 rows × 22 columns</p>\n",
       "</div>"
      ],
      "text/plain": [
       "       idCarpeta  Año_inicio Mes_inicio FechaInicio  \\\n",
       "0        9361878        2023      Enero  2023-01-01   \n",
       "1        9361879        2023      Enero  2023-01-01   \n",
       "2        9361880        2023      Enero  2023-01-01   \n",
       "3        9361881        2023      Enero  2023-01-01   \n",
       "4        9361882        2023      Enero  2023-01-01   \n",
       "...          ...         ...        ...         ...   \n",
       "64339    9429532        2023      Marzo  2023-03-31   \n",
       "64340    9429533        2023      Marzo  2023-03-31   \n",
       "64341    9429534        2023      Marzo  2023-03-31   \n",
       "64342    9429535        2023      Marzo  2023-03-31   \n",
       "64343    9429536        2023      Marzo  2023-03-31   \n",
       "\n",
       "                                                  Delito  \\\n",
       "0      LESIONES CULPOSAS POR TRANSITO VEHICULAR EN CO...   \n",
       "1         ROBO A TRANSEUNTE EN VIA PUBLICA CON VIOLENCIA   \n",
       "2      ROBO DE VEHICULO DE SERVICIO PARTICULAR CON VI...   \n",
       "3      LESIONES CULPOSAS POR TRANSITO VEHICULAR EN CO...   \n",
       "4                    PERDIDA DE LA VIDA POR OTRAS CAUSAS   \n",
       "...                                                  ...   \n",
       "64339  ROBO S/V DENTRO DE NEGOCIOS, AUTOSERVICIOS, CO...   \n",
       "64340                                 VIOLENCIA FAMILIAR   \n",
       "64341        ROBO DE OBJETOS DEL INTERIOR DE UN VEHICULO   \n",
       "64342                                    ROBO DE OBJETOS   \n",
       "64343                                 VIOLENCIA FAMILIAR   \n",
       "\n",
       "                                               Categoria       Sexo  Edad  \\\n",
       "0                                 DELITO DE BAJO IMPACTO        NaN   NaN   \n",
       "1      ROBO A TRANSEUNTE EN VÍA PÚBLICA CON Y SIN VIO...  Masculino  50.0   \n",
       "2                   ROBO DE VEHÍCULO CON Y SIN VIOLENCIA  Masculino  34.0   \n",
       "3                                 DELITO DE BAJO IMPACTO  Masculino   NaN   \n",
       "4                                     HECHO NO DELICTIVO  Masculino  90.0   \n",
       "...                                                  ...        ...   ...   \n",
       "64339                             DELITO DE BAJO IMPACTO   Femenino  69.0   \n",
       "64340                             DELITO DE BAJO IMPACTO   Femenino  17.0   \n",
       "64341                             DELITO DE BAJO IMPACTO   Femenino  43.0   \n",
       "64342                             DELITO DE BAJO IMPACTO   Femenino  39.0   \n",
       "64343                             DELITO DE BAJO IMPACTO   Femenino  41.0   \n",
       "\n",
       "      TipoPersona        CalidadJuridica  ...  Mes_hecho  FechaHecho  \\\n",
       "0           MORAL               OFENDIDO  ...  Diciembre  2022-12-31   \n",
       "1          FISICA  VICTIMA Y DENUNCIANTE  ...  Diciembre  2022-12-31   \n",
       "2          FISICA  VICTIMA Y DENUNCIANTE  ...  Diciembre  2022-12-31   \n",
       "3          FISICA              LESIONADO  ...  Diciembre  2022-12-31   \n",
       "4          FISICA                CADAVER  ...  Diciembre  2022-12-31   \n",
       "...           ...                    ...  ...        ...         ...   \n",
       "64339      FISICA  VICTIMA Y DENUNCIANTE  ...      Marzo  2023-03-31   \n",
       "64340      FISICA                VICTIMA  ...      Marzo  2023-03-30   \n",
       "64341      FISICA  VICTIMA Y DENUNCIANTE  ...      Marzo  2023-03-31   \n",
       "64342      FISICA  VICTIMA Y DENUNCIANTE  ...      Marzo  2023-03-31   \n",
       "64343      FISICA  VICTIMA Y DENUNCIANTE  ...      Marzo  2023-03-31   \n",
       "\n",
       "      HoraHecho HoraInicio      alcaldia_hechos municipio_hechos  \\\n",
       "0      22:08:00   00:09:00             COYOACAN              NaN   \n",
       "1      23:50:00   00:41:00  VENUSTIANO CARRANZA              NaN   \n",
       "2      20:30:00   00:44:00    GUSTAVO A. MADERO              NaN   \n",
       "3      23:30:00   00:47:00             COYOACAN              NaN   \n",
       "4      10:30:00   00:56:00    GUSTAVO A. MADERO              NaN   \n",
       "...         ...        ...                  ...              ...   \n",
       "64339  07:30:00   23:48:00        BENITO JUAREZ              NaN   \n",
       "64340  22:00:00   23:49:00           IZTAPALAPA              NaN   \n",
       "64341  07:00:00   23:51:00       ALVARO OBREGON              NaN   \n",
       "64342  10:01:00   23:54:00              TLALPAN              NaN   \n",
       "64343  17:30:00   23:55:00         AZCAPOTZALCO              NaN   \n",
       "\n",
       "                                 colonia_datos  \\\n",
       "0                        INSURGENTES CUICUILCO   \n",
       "1                      MOCTEZUMA 2A SECCION IV   \n",
       "2      SAN JUAN DE ARAGON 3A SECCION (U HAB) I   \n",
       "3                                    XOTEPINGO   \n",
       "4                                          NaN   \n",
       "...                                        ...   \n",
       "64339                            DEL VALLE VII   \n",
       "64340              MIGUEL DE LA MADRID HURTADO   \n",
       "64341                     LOMAS DE SANTA FE II   \n",
       "64342                  SAN PEDRO MARTIR (PBLO)   \n",
       "64343                      PATRIMONIO FAMILIAR   \n",
       "\n",
       "                 fgj_colonia_registro    latitud   longitud  \n",
       "0               INSURGENTES CUICUILCO  19.305532 -99.186308  \n",
       "1                MOCTEZUMA 2A SECCIÓN  19.429797 -99.098672  \n",
       "2      SAN JUAN DE ARAGÓN III SECCIÓN  19.451641 -99.076529  \n",
       "3                           XOTEPINGO  19.323245 -99.138016  \n",
       "4                                 NaN        NaN        NaN  \n",
       "...                               ...        ...        ...  \n",
       "64339                DEL VALLE CENTRO  19.372612 -99.174058  \n",
       "64340             MIGUEL DE LA MADRID  19.347189 -99.003079  \n",
       "64341                  ZEDEC SANTA FE  19.369135 -99.260935  \n",
       "64342                SAN PEDRO MÁRTIR  19.267265 -99.175255  \n",
       "64343             PATRIMONIO FAMILIAR  19.467405 -99.150559  \n",
       "\n",
       "[64344 rows x 22 columns]"
      ]
     },
     "execution_count": 4,
     "metadata": {},
     "output_type": "execute_result"
    }
   ],
   "source": [
    "df"
   ]
  },
  {
   "cell_type": "code",
   "execution_count": 5,
   "id": "62cbd878",
   "metadata": {
    "tags": []
   },
   "outputs": [
    {
     "data": {
      "text/plain": [
       "idCarpeta                 int64\n",
       "Año_inicio                int64\n",
       "Mes_inicio               object\n",
       "FechaInicio              object\n",
       "Delito                   object\n",
       "Categoria                object\n",
       "Sexo                     object\n",
       "Edad                    float64\n",
       "TipoPersona              object\n",
       "CalidadJuridica          object\n",
       "competencia              object\n",
       "Año_hecho               float64\n",
       "Mes_hecho                object\n",
       "FechaHecho               object\n",
       "HoraHecho                object\n",
       "HoraInicio               object\n",
       "alcaldia_hechos          object\n",
       "municipio_hechos         object\n",
       "colonia_datos            object\n",
       "fgj_colonia_registro     object\n",
       "latitud                 float64\n",
       "longitud                float64\n",
       "dtype: object"
      ]
     },
     "execution_count": 5,
     "metadata": {},
     "output_type": "execute_result"
    }
   ],
   "source": [
    "df.dtypes"
   ]
  },
  {
   "cell_type": "code",
   "execution_count": 6,
   "id": "0e2edddc",
   "metadata": {
    "tags": []
   },
   "outputs": [
    {
     "data": {
      "text/plain": [
       "idCarpeta               61333\n",
       "Año_inicio                  1\n",
       "Mes_inicio                  3\n",
       "FechaInicio                90\n",
       "Delito                    255\n",
       "Categoria                  16\n",
       "Sexo                        2\n",
       "Edad                      100\n",
       "TipoPersona                 2\n",
       "CalidadJuridica             5\n",
       "competencia                 3\n",
       "Año_hecho                  39\n",
       "Mes_hecho                  12\n",
       "FechaHecho               1434\n",
       "HoraHecho                1441\n",
       "HoraInicio               1455\n",
       "alcaldia_hechos            18\n",
       "municipio_hechos           91\n",
       "colonia_datos            1655\n",
       "fgj_colonia_registro     1538\n",
       "latitud                 57654\n",
       "longitud                57653\n",
       "dtype: int64"
      ]
     },
     "execution_count": 6,
     "metadata": {},
     "output_type": "execute_result"
    }
   ],
   "source": [
    "df.nunique()"
   ]
  },
  {
   "cell_type": "code",
   "execution_count": 7,
   "id": "081dac64",
   "metadata": {
    "tags": []
   },
   "outputs": [
    {
     "data": {
      "text/plain": [
       "count    64337.000000\n",
       "mean      2022.731616\n",
       "std          1.271916\n",
       "min       1962.000000\n",
       "25%       2023.000000\n",
       "50%       2023.000000\n",
       "75%       2023.000000\n",
       "max       2023.000000\n",
       "Name: Año_hecho, dtype: float64"
      ]
     },
     "execution_count": 7,
     "metadata": {},
     "output_type": "execute_result"
    }
   ],
   "source": [
    "df[\"Año_hecho\"].describe()"
   ]
  },
  {
   "cell_type": "markdown",
   "id": "8fd4964f",
   "metadata": {},
   "source": [
    "### Tenemos delitos cometidos desde el año **1962** a los cuáles se les abrió carpetas de investigación hasta el año **2023**"
   ]
  },
  {
   "cell_type": "code",
   "execution_count": 8,
   "id": "6f1c0a3e",
   "metadata": {
    "tags": []
   },
   "outputs": [
    {
     "data": {
      "text/plain": [
       "array([2022., 2023., 2021., 2018., 2019., 2020., 2013., 1998., 2007.,\n",
       "       2017., 2014., 2015., 2010., 2011.,   nan, 2003., 2016., 2005.,\n",
       "       2000., 2006., 1993., 1995., 2012., 2002., 2008., 1969., 1987.,\n",
       "       2009., 1967., 1990., 1999., 2004., 1994., 1974., 1976., 1985.,\n",
       "       1962., 1991., 1972., 2001.])"
      ]
     },
     "execution_count": 8,
     "metadata": {},
     "output_type": "execute_result"
    }
   ],
   "source": [
    "df[\"Año_hecho\"].unique()"
   ]
  },
  {
   "cell_type": "code",
   "execution_count": 9,
   "id": "a3942110",
   "metadata": {
    "tags": []
   },
   "outputs": [
    {
     "data": {
      "text/plain": [
       "array(['DELITO DE BAJO IMPACTO',\n",
       "       'ROBO A TRANSEUNTE EN VÍA PÚBLICA CON Y SIN VIOLENCIA',\n",
       "       'ROBO DE VEHÍCULO CON Y SIN VIOLENCIA', 'HECHO NO DELICTIVO',\n",
       "       'LESIONES DOLOSAS POR DISPARO DE ARMA DE FUEGO', 'VIOLACIÓN',\n",
       "       'ROBO A NEGOCIO CON VIOLENCIA',\n",
       "       'ROBO A REPARTIDOR CON Y SIN VIOLENCIA', 'HOMICIDIO DOLOSO',\n",
       "       'ROBO A PASAJERO A BORDO DE MICROBUS CON Y SIN VIOLENCIA',\n",
       "       'ROBO A PASAJERO A BORDO DEL METRO CON Y SIN VIOLENCIA',\n",
       "       'ROBO A PASAJERO A BORDO DE TAXI CON VIOLENCIA',\n",
       "       'ROBO A CUENTAHABIENTE SALIENDO DEL CAJERO CON VIOLENCIA',\n",
       "       'ROBO A CASA HABITACIÓN CON VIOLENCIA',\n",
       "       'ROBO A TRANSPORTISTA CON Y SIN VIOLENCIA', 'SECUESTRO'],\n",
       "      dtype=object)"
      ]
     },
     "execution_count": 9,
     "metadata": {},
     "output_type": "execute_result"
    }
   ],
   "source": [
    "df[\"Categoria\"].unique()"
   ]
  },
  {
   "cell_type": "code",
   "execution_count": 10,
   "id": "d6950310",
   "metadata": {
    "tags": []
   },
   "outputs": [
    {
     "data": {
      "text/html": [
       "<div>\n",
       "<style scoped>\n",
       "    .dataframe tbody tr th:only-of-type {\n",
       "        vertical-align: middle;\n",
       "    }\n",
       "\n",
       "    .dataframe tbody tr th {\n",
       "        vertical-align: top;\n",
       "    }\n",
       "\n",
       "    .dataframe thead th {\n",
       "        text-align: right;\n",
       "    }\n",
       "</style>\n",
       "<table border=\"1\" class=\"dataframe\">\n",
       "  <thead>\n",
       "    <tr style=\"text-align: right;\">\n",
       "      <th></th>\n",
       "      <th>idCarpeta</th>\n",
       "      <th>Año_inicio</th>\n",
       "      <th>Mes_inicio</th>\n",
       "      <th>FechaInicio</th>\n",
       "      <th>Delito</th>\n",
       "      <th>Categoria</th>\n",
       "      <th>Sexo</th>\n",
       "      <th>Edad</th>\n",
       "      <th>TipoPersona</th>\n",
       "      <th>CalidadJuridica</th>\n",
       "      <th>...</th>\n",
       "      <th>Mes_hecho</th>\n",
       "      <th>FechaHecho</th>\n",
       "      <th>HoraHecho</th>\n",
       "      <th>HoraInicio</th>\n",
       "      <th>alcaldia_hechos</th>\n",
       "      <th>municipio_hechos</th>\n",
       "      <th>colonia_datos</th>\n",
       "      <th>fgj_colonia_registro</th>\n",
       "      <th>latitud</th>\n",
       "      <th>longitud</th>\n",
       "    </tr>\n",
       "  </thead>\n",
       "  <tbody>\n",
       "    <tr>\n",
       "      <th>44757</th>\n",
       "      <td>9408996</td>\n",
       "      <td>2023</td>\n",
       "      <td>Marzo</td>\n",
       "      <td>2023-03-06</td>\n",
       "      <td>AMENAZAS</td>\n",
       "      <td>DELITO DE BAJO IMPACTO</td>\n",
       "      <td>Masculino</td>\n",
       "      <td>60.0</td>\n",
       "      <td>FISICA</td>\n",
       "      <td>VICTIMA Y DENUNCIANTE</td>\n",
       "      <td>...</td>\n",
       "      <td>Septiembre</td>\n",
       "      <td>1962-09-11</td>\n",
       "      <td>13:45:00</td>\n",
       "      <td>18:39:00</td>\n",
       "      <td>COYOACAN</td>\n",
       "      <td>NaN</td>\n",
       "      <td>DEL CARMEN</td>\n",
       "      <td>DEL CARMEN</td>\n",
       "      <td>19.351477</td>\n",
       "      <td>-99.158951</td>\n",
       "    </tr>\n",
       "  </tbody>\n",
       "</table>\n",
       "<p>1 rows × 22 columns</p>\n",
       "</div>"
      ],
      "text/plain": [
       "       idCarpeta  Año_inicio Mes_inicio FechaInicio    Delito  \\\n",
       "44757    9408996        2023      Marzo  2023-03-06  AMENAZAS   \n",
       "\n",
       "                    Categoria       Sexo  Edad TipoPersona  \\\n",
       "44757  DELITO DE BAJO IMPACTO  Masculino  60.0      FISICA   \n",
       "\n",
       "             CalidadJuridica  ...   Mes_hecho  FechaHecho HoraHecho  \\\n",
       "44757  VICTIMA Y DENUNCIANTE  ...  Septiembre  1962-09-11  13:45:00   \n",
       "\n",
       "      HoraInicio alcaldia_hechos municipio_hechos colonia_datos  \\\n",
       "44757   18:39:00        COYOACAN              NaN    DEL CARMEN   \n",
       "\n",
       "      fgj_colonia_registro    latitud   longitud  \n",
       "44757           DEL CARMEN  19.351477 -99.158951  \n",
       "\n",
       "[1 rows x 22 columns]"
      ]
     },
     "execution_count": 10,
     "metadata": {},
     "output_type": "execute_result"
    }
   ],
   "source": [
    "df.loc[df[\"Año_hecho\"]==1962]"
   ]
  },
  {
   "cell_type": "code",
   "execution_count": 11,
   "id": "9344bd98",
   "metadata": {
    "tags": []
   },
   "outputs": [
    {
     "data": {
      "text/plain": [
       "array(['FUERO COMUN', 'HECHOS NO DELICTIVOS', 'INCOMPETENCIAS'],\n",
       "      dtype=object)"
      ]
     },
     "execution_count": 11,
     "metadata": {},
     "output_type": "execute_result"
    }
   ],
   "source": [
    "df[\"competencia\"].unique()"
   ]
  },
  {
   "cell_type": "markdown",
   "id": "f3c3ac25",
   "metadata": {},
   "source": [
    "## Resumen del entendimiento de los datos\n",
    "\n",
    "1. Existen carpetas de investigación sobre delitos cometidos desde 1962, abiertas hasta el 2023.\n",
    "\n",
    "2. Tenemos **16 categorías de delitos**.\n",
    "\n",
    "3. Hay **5 tipos de calidades jurídicas**.\n",
    "\n",
    "4. Describiendo los **3 competencias de delitos**:\n",
    "    \n",
    "    * Fuero común: Aquellos delitos que afectas directamente a la persona.\n",
    "    * Hechos no delictivos: No son delitos.\n",
    "    * Incompetencias: La persona es incapaz de ser juzgada o de ser responsable de sus acciones debido a condiciones físicas o mentales.\n",
    "    \n",
    "    \n",
    "    \n",
    "5. En la columna de alcaldías estamos considerando un **extra llamado 'fuera de la ciudad de méxico'**\n",
    "\n",
    "6. Tenemos **255 tipos de delitos**.\n",
    "\n",
    "---\n",
    "\n",
    "#### Recomendaciones en el proceso de limpieza\n",
    "\n",
    "- Eliminar las siguientes columnas:\n",
    "    \n",
    "        1. idCarpeta\n",
    "        \n",
    "        \n",
    "- Renombrar las siguientes columnas:\n",
    "\n",
    "        1. Año_hecho\n",
    "        2. Año_inicio\n",
    "        3.fgj_colonia_registro\n",
    "        \n",
    "\n",
    "- Cambiar el tipo de dato a la columna edades y al año_hecho\n",
    "\n",
    "- Estandarizar los nombres de las columnas a minusculas"
   ]
  },
  {
   "cell_type": "code",
   "execution_count": 12,
   "id": "7b029d4a",
   "metadata": {
    "tags": []
   },
   "outputs": [],
   "source": [
    "df.drop(columns=\"fgj_colonia_registro\", inplace=True)\n",
    "\n",
    "df.rename(columns= lambda x: x.lower(), inplace=True)\n"
   ]
  },
  {
   "cell_type": "code",
   "execution_count": 13,
   "id": "419518ce",
   "metadata": {
    "tags": []
   },
   "outputs": [
    {
     "data": {
      "text/plain": [
       "Index(['idcarpeta', 'año_inicio', 'mes_inicio', 'fechainicio', 'delito',\n",
       "       'categoria', 'sexo', 'edad', 'tipopersona', 'calidadjuridica',\n",
       "       'competencia', 'año_hecho', 'mes_hecho', 'fechahecho', 'horahecho',\n",
       "       'horainicio', 'alcaldia_hechos', 'municipio_hechos', 'colonia_datos',\n",
       "       'latitud', 'longitud'],\n",
       "      dtype='object')"
      ]
     },
     "execution_count": 13,
     "metadata": {},
     "output_type": "execute_result"
    }
   ],
   "source": [
    "df.columns"
   ]
  },
  {
   "cell_type": "code",
   "execution_count": 14,
   "id": "664234ab-3808-4a7d-8b9a-a2cfe0a77fcf",
   "metadata": {},
   "outputs": [
    {
     "data": {
      "text/html": [
       "<div>\n",
       "<style scoped>\n",
       "    .dataframe tbody tr th:only-of-type {\n",
       "        vertical-align: middle;\n",
       "    }\n",
       "\n",
       "    .dataframe tbody tr th {\n",
       "        vertical-align: top;\n",
       "    }\n",
       "\n",
       "    .dataframe thead th {\n",
       "        text-align: right;\n",
       "    }\n",
       "</style>\n",
       "<table border=\"1\" class=\"dataframe\">\n",
       "  <thead>\n",
       "    <tr style=\"text-align: right;\">\n",
       "      <th></th>\n",
       "      <th>idcarpeta</th>\n",
       "      <th>año_inicio</th>\n",
       "      <th>mes_inicio</th>\n",
       "      <th>fechainicio</th>\n",
       "      <th>delito</th>\n",
       "      <th>categoria</th>\n",
       "      <th>sexo</th>\n",
       "      <th>edad</th>\n",
       "      <th>tipopersona</th>\n",
       "      <th>calidadjuridica</th>\n",
       "      <th>...</th>\n",
       "      <th>año_hecho</th>\n",
       "      <th>mes_hecho</th>\n",
       "      <th>fechahecho</th>\n",
       "      <th>horahecho</th>\n",
       "      <th>horainicio</th>\n",
       "      <th>alcaldia_hechos</th>\n",
       "      <th>municipio_hechos</th>\n",
       "      <th>colonia_datos</th>\n",
       "      <th>latitud</th>\n",
       "      <th>longitud</th>\n",
       "    </tr>\n",
       "  </thead>\n",
       "  <tbody>\n",
       "    <tr>\n",
       "      <th>0</th>\n",
       "      <td>9361878</td>\n",
       "      <td>2023</td>\n",
       "      <td>Enero</td>\n",
       "      <td>2023-01-01</td>\n",
       "      <td>LESIONES CULPOSAS POR TRANSITO VEHICULAR EN CO...</td>\n",
       "      <td>DELITO DE BAJO IMPACTO</td>\n",
       "      <td>NaN</td>\n",
       "      <td>NaN</td>\n",
       "      <td>MORAL</td>\n",
       "      <td>OFENDIDO</td>\n",
       "      <td>...</td>\n",
       "      <td>2022.0</td>\n",
       "      <td>Diciembre</td>\n",
       "      <td>2022-12-31</td>\n",
       "      <td>22:08:00</td>\n",
       "      <td>00:09:00</td>\n",
       "      <td>COYOACAN</td>\n",
       "      <td>NaN</td>\n",
       "      <td>INSURGENTES CUICUILCO</td>\n",
       "      <td>19.305532</td>\n",
       "      <td>-99.186308</td>\n",
       "    </tr>\n",
       "    <tr>\n",
       "      <th>1</th>\n",
       "      <td>9361879</td>\n",
       "      <td>2023</td>\n",
       "      <td>Enero</td>\n",
       "      <td>2023-01-01</td>\n",
       "      <td>ROBO A TRANSEUNTE EN VIA PUBLICA CON VIOLENCIA</td>\n",
       "      <td>ROBO A TRANSEUNTE EN VÍA PÚBLICA CON Y SIN VIO...</td>\n",
       "      <td>Masculino</td>\n",
       "      <td>50.0</td>\n",
       "      <td>FISICA</td>\n",
       "      <td>VICTIMA Y DENUNCIANTE</td>\n",
       "      <td>...</td>\n",
       "      <td>2022.0</td>\n",
       "      <td>Diciembre</td>\n",
       "      <td>2022-12-31</td>\n",
       "      <td>23:50:00</td>\n",
       "      <td>00:41:00</td>\n",
       "      <td>VENUSTIANO CARRANZA</td>\n",
       "      <td>NaN</td>\n",
       "      <td>MOCTEZUMA 2A SECCION IV</td>\n",
       "      <td>19.429797</td>\n",
       "      <td>-99.098672</td>\n",
       "    </tr>\n",
       "  </tbody>\n",
       "</table>\n",
       "<p>2 rows × 21 columns</p>\n",
       "</div>"
      ],
      "text/plain": [
       "   idcarpeta  año_inicio mes_inicio fechainicio  \\\n",
       "0    9361878        2023      Enero  2023-01-01   \n",
       "1    9361879        2023      Enero  2023-01-01   \n",
       "\n",
       "                                              delito  \\\n",
       "0  LESIONES CULPOSAS POR TRANSITO VEHICULAR EN CO...   \n",
       "1     ROBO A TRANSEUNTE EN VIA PUBLICA CON VIOLENCIA   \n",
       "\n",
       "                                           categoria       sexo  edad  \\\n",
       "0                             DELITO DE BAJO IMPACTO        NaN   NaN   \n",
       "1  ROBO A TRANSEUNTE EN VÍA PÚBLICA CON Y SIN VIO...  Masculino  50.0   \n",
       "\n",
       "  tipopersona        calidadjuridica  ... año_hecho  mes_hecho  fechahecho  \\\n",
       "0       MORAL               OFENDIDO  ...    2022.0  Diciembre  2022-12-31   \n",
       "1      FISICA  VICTIMA Y DENUNCIANTE  ...    2022.0  Diciembre  2022-12-31   \n",
       "\n",
       "  horahecho horainicio      alcaldia_hechos municipio_hechos  \\\n",
       "0  22:08:00   00:09:00             COYOACAN              NaN   \n",
       "1  23:50:00   00:41:00  VENUSTIANO CARRANZA              NaN   \n",
       "\n",
       "             colonia_datos    latitud   longitud  \n",
       "0    INSURGENTES CUICUILCO  19.305532 -99.186308  \n",
       "1  MOCTEZUMA 2A SECCION IV  19.429797 -99.098672  \n",
       "\n",
       "[2 rows x 21 columns]"
      ]
     },
     "execution_count": 14,
     "metadata": {},
     "output_type": "execute_result"
    }
   ],
   "source": [
    "df.head(2)"
   ]
  },
  {
   "cell_type": "code",
   "execution_count": 15,
   "id": "0309cf57-1f31-4df0-8498-7e3674ce43a8",
   "metadata": {},
   "outputs": [
    {
     "data": {
      "text/plain": [
       "0       2022-12-31\n",
       "1       2022-12-31\n",
       "2       2022-12-31\n",
       "3       2022-12-31\n",
       "4       2022-12-31\n",
       "           ...    \n",
       "64339   2023-03-31\n",
       "64340   2023-03-30\n",
       "64341   2023-03-31\n",
       "64342   2023-03-31\n",
       "64343   2023-03-31\n",
       "Name: fechahecho, Length: 64344, dtype: datetime64[ns]"
      ]
     },
     "execution_count": 15,
     "metadata": {},
     "output_type": "execute_result"
    }
   ],
   "source": [
    "#df.groupby(\"delito\", observed=True)[\"\"]\n",
    "pd.to_datetime(df.fechahecho)"
   ]
  },
  {
   "cell_type": "code",
   "execution_count": 17,
   "id": "050645f2-4123-4877-bc6c-396911724ead",
   "metadata": {},
   "outputs": [
    {
     "data": {
      "text/plain": [
       "(54855, 21)"
      ]
     },
     "execution_count": 17,
     "metadata": {},
     "output_type": "execute_result"
    }
   ],
   "source": [
    "df_fisica = df.query('tipopersona == \"FISICA\"')\n",
    "df_moral = df.query('tipopersona == \"MORAL\"')\n",
    "df_moral = df_moral.loc[:, ~df_moral.columns.isin([\"sexo\", \"edad\"])]\n",
    "df_fisica.shape"
   ]
  },
  {
   "cell_type": "code",
   "execution_count": null,
   "id": "a740d5fe-6c86-46a4-ae7e-a77a632a7dd7",
   "metadata": {},
   "outputs": [],
   "source": []
  },
  {
   "cell_type": "code",
   "execution_count": null,
   "id": "fad8a8e8-99a1-475b-8b03-82ccfc389349",
   "metadata": {},
   "outputs": [],
   "source": []
  }
 ],
 "metadata": {
  "kernelspec": {
   "display_name": "Python 3 (ipykernel)",
   "language": "python",
   "name": "python3"
  },
  "language_info": {
   "codemirror_mode": {
    "name": "ipython",
    "version": 3
   },
   "file_extension": ".py",
   "mimetype": "text/x-python",
   "name": "python",
   "nbconvert_exporter": "python",
   "pygments_lexer": "ipython3",
   "version": "3.10.9"
  }
 },
 "nbformat": 4,
 "nbformat_minor": 5
}
