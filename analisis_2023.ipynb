{
 "cells": [
  {
   "cell_type": "markdown",
   "id": "dd2c2f36",
   "metadata": {},
   "source": [
    "# Análsis de carpetas de investigación del 2023\n",
    "\n",
    "Estos datos corresponden al periodo del 01/Enero/2023 al 31/Marzo/2023"
   ]
  },
  {
   "cell_type": "code",
   "execution_count": 1,
   "id": "1624d0a2",
   "metadata": {
    "tags": []
   },
   "outputs": [],
   "source": [
    "import pandas as pd\n",
    "import numpy as np\n",
    "import matplotlib.pyplot as plt\n",
    "import seaborn as sb\n",
    "from sklearn.impute import KNNImputer\n",
    "import math\n",
    "import re"
   ]
  },
  {
   "cell_type": "markdown",
   "id": "6597331c",
   "metadata": {
    "tags": []
   },
   "source": [
    "## Entendimiento de los datos"
   ]
  },
  {
   "cell_type": "code",
   "execution_count": 2,
   "id": "4681abf2",
   "metadata": {
    "tags": []
   },
   "outputs": [
    {
     "data": {
      "text/plain": [
       "(64344, 22)"
      ]
     },
     "execution_count": 2,
     "metadata": {},
     "output_type": "execute_result"
    }
   ],
   "source": [
    "df = pd.read_csv('data/da_2023.csv')\n",
    "df.shape"
   ]
  },
  {
   "cell_type": "code",
   "execution_count": 3,
   "id": "1374a292",
   "metadata": {
    "tags": []
   },
   "outputs": [
    {
     "data": {
      "text/plain": [
       "Index(['idCarpeta', 'Año_inicio', 'Mes_inicio', 'FechaInicio', 'Delito',\n",
       "       'Categoria', 'Sexo', 'Edad', 'TipoPersona', 'CalidadJuridica',\n",
       "       'competencia', 'Año_hecho', 'Mes_hecho', 'FechaHecho', 'HoraHecho',\n",
       "       'HoraInicio', 'alcaldia_hechos', 'municipio_hechos', 'colonia_datos',\n",
       "       'fgj_colonia_registro', 'latitud', 'longitud'],\n",
       "      dtype='object')"
      ]
     },
     "execution_count": 3,
     "metadata": {},
     "output_type": "execute_result"
    }
   ],
   "source": [
    "df.columns"
   ]
  },
  {
   "cell_type": "code",
   "execution_count": 4,
   "id": "3cc503b6",
   "metadata": {
    "tags": []
   },
   "outputs": [
    {
     "data": {
      "text/html": [
       "<div>\n",
       "<style scoped>\n",
       "    .dataframe tbody tr th:only-of-type {\n",
       "        vertical-align: middle;\n",
       "    }\n",
       "\n",
       "    .dataframe tbody tr th {\n",
       "        vertical-align: top;\n",
       "    }\n",
       "\n",
       "    .dataframe thead th {\n",
       "        text-align: right;\n",
       "    }\n",
       "</style>\n",
       "<table border=\"1\" class=\"dataframe\">\n",
       "  <thead>\n",
       "    <tr style=\"text-align: right;\">\n",
       "      <th></th>\n",
       "      <th>idCarpeta</th>\n",
       "      <th>Año_inicio</th>\n",
       "      <th>Mes_inicio</th>\n",
       "      <th>FechaInicio</th>\n",
       "      <th>Delito</th>\n",
       "      <th>Categoria</th>\n",
       "      <th>Sexo</th>\n",
       "      <th>Edad</th>\n",
       "      <th>TipoPersona</th>\n",
       "      <th>CalidadJuridica</th>\n",
       "      <th>...</th>\n",
       "      <th>Mes_hecho</th>\n",
       "      <th>FechaHecho</th>\n",
       "      <th>HoraHecho</th>\n",
       "      <th>HoraInicio</th>\n",
       "      <th>alcaldia_hechos</th>\n",
       "      <th>municipio_hechos</th>\n",
       "      <th>colonia_datos</th>\n",
       "      <th>fgj_colonia_registro</th>\n",
       "      <th>latitud</th>\n",
       "      <th>longitud</th>\n",
       "    </tr>\n",
       "  </thead>\n",
       "  <tbody>\n",
       "    <tr>\n",
       "      <th>0</th>\n",
       "      <td>9361878</td>\n",
       "      <td>2023</td>\n",
       "      <td>Enero</td>\n",
       "      <td>2023-01-01</td>\n",
       "      <td>LESIONES CULPOSAS POR TRANSITO VEHICULAR EN CO...</td>\n",
       "      <td>DELITO DE BAJO IMPACTO</td>\n",
       "      <td>NaN</td>\n",
       "      <td>NaN</td>\n",
       "      <td>MORAL</td>\n",
       "      <td>OFENDIDO</td>\n",
       "      <td>...</td>\n",
       "      <td>Diciembre</td>\n",
       "      <td>2022-12-31</td>\n",
       "      <td>22:08:00</td>\n",
       "      <td>00:09:00</td>\n",
       "      <td>COYOACAN</td>\n",
       "      <td>NaN</td>\n",
       "      <td>INSURGENTES CUICUILCO</td>\n",
       "      <td>INSURGENTES CUICUILCO</td>\n",
       "      <td>19.305532</td>\n",
       "      <td>-99.186308</td>\n",
       "    </tr>\n",
       "    <tr>\n",
       "      <th>1</th>\n",
       "      <td>9361879</td>\n",
       "      <td>2023</td>\n",
       "      <td>Enero</td>\n",
       "      <td>2023-01-01</td>\n",
       "      <td>ROBO A TRANSEUNTE EN VIA PUBLICA CON VIOLENCIA</td>\n",
       "      <td>ROBO A TRANSEUNTE EN VÍA PÚBLICA CON Y SIN VIO...</td>\n",
       "      <td>Masculino</td>\n",
       "      <td>50.0</td>\n",
       "      <td>FISICA</td>\n",
       "      <td>VICTIMA Y DENUNCIANTE</td>\n",
       "      <td>...</td>\n",
       "      <td>Diciembre</td>\n",
       "      <td>2022-12-31</td>\n",
       "      <td>23:50:00</td>\n",
       "      <td>00:41:00</td>\n",
       "      <td>VENUSTIANO CARRANZA</td>\n",
       "      <td>NaN</td>\n",
       "      <td>MOCTEZUMA 2A SECCION IV</td>\n",
       "      <td>MOCTEZUMA 2A SECCIÓN</td>\n",
       "      <td>19.429797</td>\n",
       "      <td>-99.098672</td>\n",
       "    </tr>\n",
       "    <tr>\n",
       "      <th>2</th>\n",
       "      <td>9361880</td>\n",
       "      <td>2023</td>\n",
       "      <td>Enero</td>\n",
       "      <td>2023-01-01</td>\n",
       "      <td>ROBO DE VEHICULO DE SERVICIO PARTICULAR CON VI...</td>\n",
       "      <td>ROBO DE VEHÍCULO CON Y SIN VIOLENCIA</td>\n",
       "      <td>Masculino</td>\n",
       "      <td>34.0</td>\n",
       "      <td>FISICA</td>\n",
       "      <td>VICTIMA Y DENUNCIANTE</td>\n",
       "      <td>...</td>\n",
       "      <td>Diciembre</td>\n",
       "      <td>2022-12-31</td>\n",
       "      <td>20:30:00</td>\n",
       "      <td>00:44:00</td>\n",
       "      <td>GUSTAVO A. MADERO</td>\n",
       "      <td>NaN</td>\n",
       "      <td>SAN JUAN DE ARAGON 3A SECCION (U HAB) I</td>\n",
       "      <td>SAN JUAN DE ARAGÓN III SECCIÓN</td>\n",
       "      <td>19.451641</td>\n",
       "      <td>-99.076529</td>\n",
       "    </tr>\n",
       "    <tr>\n",
       "      <th>3</th>\n",
       "      <td>9361881</td>\n",
       "      <td>2023</td>\n",
       "      <td>Enero</td>\n",
       "      <td>2023-01-01</td>\n",
       "      <td>LESIONES CULPOSAS POR TRANSITO VEHICULAR EN CO...</td>\n",
       "      <td>DELITO DE BAJO IMPACTO</td>\n",
       "      <td>Masculino</td>\n",
       "      <td>NaN</td>\n",
       "      <td>FISICA</td>\n",
       "      <td>LESIONADO</td>\n",
       "      <td>...</td>\n",
       "      <td>Diciembre</td>\n",
       "      <td>2022-12-31</td>\n",
       "      <td>23:30:00</td>\n",
       "      <td>00:47:00</td>\n",
       "      <td>COYOACAN</td>\n",
       "      <td>NaN</td>\n",
       "      <td>XOTEPINGO</td>\n",
       "      <td>XOTEPINGO</td>\n",
       "      <td>19.323245</td>\n",
       "      <td>-99.138016</td>\n",
       "    </tr>\n",
       "    <tr>\n",
       "      <th>4</th>\n",
       "      <td>9361882</td>\n",
       "      <td>2023</td>\n",
       "      <td>Enero</td>\n",
       "      <td>2023-01-01</td>\n",
       "      <td>PERDIDA DE LA VIDA POR OTRAS CAUSAS</td>\n",
       "      <td>HECHO NO DELICTIVO</td>\n",
       "      <td>Masculino</td>\n",
       "      <td>90.0</td>\n",
       "      <td>FISICA</td>\n",
       "      <td>CADAVER</td>\n",
       "      <td>...</td>\n",
       "      <td>Diciembre</td>\n",
       "      <td>2022-12-31</td>\n",
       "      <td>10:30:00</td>\n",
       "      <td>00:56:00</td>\n",
       "      <td>GUSTAVO A. MADERO</td>\n",
       "      <td>NaN</td>\n",
       "      <td>NaN</td>\n",
       "      <td>NaN</td>\n",
       "      <td>NaN</td>\n",
       "      <td>NaN</td>\n",
       "    </tr>\n",
       "    <tr>\n",
       "      <th>5</th>\n",
       "      <td>9361883</td>\n",
       "      <td>2023</td>\n",
       "      <td>Enero</td>\n",
       "      <td>2023-01-01</td>\n",
       "      <td>ROBO DE OBJETOS</td>\n",
       "      <td>DELITO DE BAJO IMPACTO</td>\n",
       "      <td>Masculino</td>\n",
       "      <td>NaN</td>\n",
       "      <td>FISICA</td>\n",
       "      <td>VICTIMA Y DENUNCIANTE</td>\n",
       "      <td>...</td>\n",
       "      <td>Diciembre</td>\n",
       "      <td>2022-12-31</td>\n",
       "      <td>23:15:00</td>\n",
       "      <td>01:04:00</td>\n",
       "      <td>IZTAPALAPA</td>\n",
       "      <td>NaN</td>\n",
       "      <td>PASEOS DE CHURUBUSCO</td>\n",
       "      <td>CENTRAL DE ABASTO</td>\n",
       "      <td>19.377017</td>\n",
       "      <td>-99.091991</td>\n",
       "    </tr>\n",
       "    <tr>\n",
       "      <th>6</th>\n",
       "      <td>9361885</td>\n",
       "      <td>2023</td>\n",
       "      <td>Enero</td>\n",
       "      <td>2023-01-01</td>\n",
       "      <td>DAÑO EN PROPIEDAD AJENA CULPOSA POR TRÁNSITO V...</td>\n",
       "      <td>DELITO DE BAJO IMPACTO</td>\n",
       "      <td>Masculino</td>\n",
       "      <td>58.0</td>\n",
       "      <td>FISICA</td>\n",
       "      <td>VICTIMA Y DENUNCIANTE</td>\n",
       "      <td>...</td>\n",
       "      <td>Diciembre</td>\n",
       "      <td>2022-12-31</td>\n",
       "      <td>22:47:00</td>\n",
       "      <td>01:33:00</td>\n",
       "      <td>IZTAPALAPA</td>\n",
       "      <td>NaN</td>\n",
       "      <td>CULHUACAN (PBLO)</td>\n",
       "      <td>PUEBLO CULHUACÁN</td>\n",
       "      <td>19.338649</td>\n",
       "      <td>-99.108793</td>\n",
       "    </tr>\n",
       "    <tr>\n",
       "      <th>7</th>\n",
       "      <td>9361888</td>\n",
       "      <td>2023</td>\n",
       "      <td>Enero</td>\n",
       "      <td>2023-01-01</td>\n",
       "      <td>VIOLENCIA FAMILIAR</td>\n",
       "      <td>DELITO DE BAJO IMPACTO</td>\n",
       "      <td>Femenino</td>\n",
       "      <td>32.0</td>\n",
       "      <td>FISICA</td>\n",
       "      <td>VICTIMA Y DENUNCIANTE</td>\n",
       "      <td>...</td>\n",
       "      <td>Diciembre</td>\n",
       "      <td>2022-12-31</td>\n",
       "      <td>23:00:00</td>\n",
       "      <td>01:43:00</td>\n",
       "      <td>MIGUEL HIDALGO</td>\n",
       "      <td>NaN</td>\n",
       "      <td>PENSIL SUR</td>\n",
       "      <td>PENSIL SUR</td>\n",
       "      <td>19.445881</td>\n",
       "      <td>-99.195806</td>\n",
       "    </tr>\n",
       "    <tr>\n",
       "      <th>8</th>\n",
       "      <td>9361889</td>\n",
       "      <td>2023</td>\n",
       "      <td>Enero</td>\n",
       "      <td>2023-01-01</td>\n",
       "      <td>PERSONAS EXTRAVIADAS Y AUSENTES</td>\n",
       "      <td>DELITO DE BAJO IMPACTO</td>\n",
       "      <td>Masculino</td>\n",
       "      <td>14.0</td>\n",
       "      <td>FISICA</td>\n",
       "      <td>VICTIMA</td>\n",
       "      <td>...</td>\n",
       "      <td>Diciembre</td>\n",
       "      <td>2022-12-31</td>\n",
       "      <td>16:00:00</td>\n",
       "      <td>01:48:00</td>\n",
       "      <td>IZTAPALAPA</td>\n",
       "      <td>NaN</td>\n",
       "      <td>STA MA AZTAHUACAN (PBLO)</td>\n",
       "      <td>SANTA MARIA AZTAHUACAN</td>\n",
       "      <td>19.347793</td>\n",
       "      <td>-99.019130</td>\n",
       "    </tr>\n",
       "    <tr>\n",
       "      <th>9</th>\n",
       "      <td>9361892</td>\n",
       "      <td>2023</td>\n",
       "      <td>Enero</td>\n",
       "      <td>2023-01-01</td>\n",
       "      <td>DAÑO EN PROPIEDAD AJENA CULPOSA POR TRÁNSITO V...</td>\n",
       "      <td>DELITO DE BAJO IMPACTO</td>\n",
       "      <td>Masculino</td>\n",
       "      <td>31.0</td>\n",
       "      <td>FISICA</td>\n",
       "      <td>VICTIMA Y DENUNCIANTE</td>\n",
       "      <td>...</td>\n",
       "      <td>Diciembre</td>\n",
       "      <td>2022-12-31</td>\n",
       "      <td>23:50:00</td>\n",
       "      <td>01:55:00</td>\n",
       "      <td>CUAUHTEMOC</td>\n",
       "      <td>NaN</td>\n",
       "      <td>PERALVILLO I</td>\n",
       "      <td>PERALVILLO</td>\n",
       "      <td>19.461487</td>\n",
       "      <td>-99.137570</td>\n",
       "    </tr>\n",
       "    <tr>\n",
       "      <th>10</th>\n",
       "      <td>9361894</td>\n",
       "      <td>2023</td>\n",
       "      <td>Enero</td>\n",
       "      <td>2023-01-01</td>\n",
       "      <td>AMENAZAS</td>\n",
       "      <td>DELITO DE BAJO IMPACTO</td>\n",
       "      <td>Femenino</td>\n",
       "      <td>46.0</td>\n",
       "      <td>FISICA</td>\n",
       "      <td>VICTIMA Y DENUNCIANTE</td>\n",
       "      <td>...</td>\n",
       "      <td>Diciembre</td>\n",
       "      <td>2022-12-31</td>\n",
       "      <td>14:00:00</td>\n",
       "      <td>01:56:00</td>\n",
       "      <td>MILPA ALTA</td>\n",
       "      <td>NaN</td>\n",
       "      <td>SAN ANTONIO TECOMITL (PBLO)</td>\n",
       "      <td>XALTIPAC (SAN ANTONIO TECOMITL)</td>\n",
       "      <td>19.220606</td>\n",
       "      <td>-98.992957</td>\n",
       "    </tr>\n",
       "    <tr>\n",
       "      <th>11</th>\n",
       "      <td>9361895</td>\n",
       "      <td>2023</td>\n",
       "      <td>Enero</td>\n",
       "      <td>2023-01-01</td>\n",
       "      <td>VIOLENCIA FAMILIAR</td>\n",
       "      <td>DELITO DE BAJO IMPACTO</td>\n",
       "      <td>Masculino</td>\n",
       "      <td>48.0</td>\n",
       "      <td>FISICA</td>\n",
       "      <td>VICTIMA Y DENUNCIANTE</td>\n",
       "      <td>...</td>\n",
       "      <td>Enero</td>\n",
       "      <td>2023-01-01</td>\n",
       "      <td>01:45:00</td>\n",
       "      <td>02:23:00</td>\n",
       "      <td>IZTAPALAPA</td>\n",
       "      <td>NaN</td>\n",
       "      <td>EL SIFON</td>\n",
       "      <td>EL SIFÓN</td>\n",
       "      <td>19.369862</td>\n",
       "      <td>-99.116635</td>\n",
       "    </tr>\n",
       "    <tr>\n",
       "      <th>12</th>\n",
       "      <td>9361896</td>\n",
       "      <td>2023</td>\n",
       "      <td>Enero</td>\n",
       "      <td>2023-01-01</td>\n",
       "      <td>LESIONES INTENCIONALES POR ARMA DE FUEGO</td>\n",
       "      <td>LESIONES DOLOSAS POR DISPARO DE ARMA DE FUEGO</td>\n",
       "      <td>Masculino</td>\n",
       "      <td>NaN</td>\n",
       "      <td>FISICA</td>\n",
       "      <td>LESIONADO</td>\n",
       "      <td>...</td>\n",
       "      <td>Diciembre</td>\n",
       "      <td>2022-12-31</td>\n",
       "      <td>20:00:00</td>\n",
       "      <td>03:02:00</td>\n",
       "      <td>TLALPAN</td>\n",
       "      <td>NaN</td>\n",
       "      <td>SAN MIGUEL TOPILEJO (PBLO)</td>\n",
       "      <td>SAN MIGUEL TOPILEJO</td>\n",
       "      <td>19.197803</td>\n",
       "      <td>-99.142288</td>\n",
       "    </tr>\n",
       "    <tr>\n",
       "      <th>13</th>\n",
       "      <td>9361897</td>\n",
       "      <td>2023</td>\n",
       "      <td>Enero</td>\n",
       "      <td>2023-01-01</td>\n",
       "      <td>HOMICIDIO CULPOSO POR TRÁNSITO VEHICULAR (COLI...</td>\n",
       "      <td>DELITO DE BAJO IMPACTO</td>\n",
       "      <td>Masculino</td>\n",
       "      <td>39.0</td>\n",
       "      <td>FISICA</td>\n",
       "      <td>LESIONADO</td>\n",
       "      <td>...</td>\n",
       "      <td>Diciembre</td>\n",
       "      <td>2022-12-31</td>\n",
       "      <td>23:54:00</td>\n",
       "      <td>03:15:00</td>\n",
       "      <td>COYOACAN</td>\n",
       "      <td>NaN</td>\n",
       "      <td>INSURGENTES CUICUILCO</td>\n",
       "      <td>INSURGENTES CUICUILCO</td>\n",
       "      <td>19.305476</td>\n",
       "      <td>-99.186294</td>\n",
       "    </tr>\n",
       "    <tr>\n",
       "      <th>14</th>\n",
       "      <td>9361898</td>\n",
       "      <td>2023</td>\n",
       "      <td>Enero</td>\n",
       "      <td>2023-01-01</td>\n",
       "      <td>PERDIDA DE LA VIDA POR OTRAS CAUSAS</td>\n",
       "      <td>HECHO NO DELICTIVO</td>\n",
       "      <td>Masculino</td>\n",
       "      <td>75.0</td>\n",
       "      <td>FISICA</td>\n",
       "      <td>CADAVER</td>\n",
       "      <td>...</td>\n",
       "      <td>Diciembre</td>\n",
       "      <td>2022-12-31</td>\n",
       "      <td>23:00:00</td>\n",
       "      <td>03:35:00</td>\n",
       "      <td>TLALPAN</td>\n",
       "      <td>NaN</td>\n",
       "      <td>LA FAMA</td>\n",
       "      <td>BARRIO LA FAMA</td>\n",
       "      <td>19.291740</td>\n",
       "      <td>-99.177114</td>\n",
       "    </tr>\n",
       "  </tbody>\n",
       "</table>\n",
       "<p>15 rows × 22 columns</p>\n",
       "</div>"
      ],
      "text/plain": [
       "    idCarpeta  Año_inicio Mes_inicio FechaInicio  \\\n",
       "0     9361878        2023      Enero  2023-01-01   \n",
       "1     9361879        2023      Enero  2023-01-01   \n",
       "2     9361880        2023      Enero  2023-01-01   \n",
       "3     9361881        2023      Enero  2023-01-01   \n",
       "4     9361882        2023      Enero  2023-01-01   \n",
       "5     9361883        2023      Enero  2023-01-01   \n",
       "6     9361885        2023      Enero  2023-01-01   \n",
       "7     9361888        2023      Enero  2023-01-01   \n",
       "8     9361889        2023      Enero  2023-01-01   \n",
       "9     9361892        2023      Enero  2023-01-01   \n",
       "10    9361894        2023      Enero  2023-01-01   \n",
       "11    9361895        2023      Enero  2023-01-01   \n",
       "12    9361896        2023      Enero  2023-01-01   \n",
       "13    9361897        2023      Enero  2023-01-01   \n",
       "14    9361898        2023      Enero  2023-01-01   \n",
       "\n",
       "                                               Delito  \\\n",
       "0   LESIONES CULPOSAS POR TRANSITO VEHICULAR EN CO...   \n",
       "1      ROBO A TRANSEUNTE EN VIA PUBLICA CON VIOLENCIA   \n",
       "2   ROBO DE VEHICULO DE SERVICIO PARTICULAR CON VI...   \n",
       "3   LESIONES CULPOSAS POR TRANSITO VEHICULAR EN CO...   \n",
       "4                 PERDIDA DE LA VIDA POR OTRAS CAUSAS   \n",
       "5                                     ROBO DE OBJETOS   \n",
       "6   DAÑO EN PROPIEDAD AJENA CULPOSA POR TRÁNSITO V...   \n",
       "7                                  VIOLENCIA FAMILIAR   \n",
       "8                     PERSONAS EXTRAVIADAS Y AUSENTES   \n",
       "9   DAÑO EN PROPIEDAD AJENA CULPOSA POR TRÁNSITO V...   \n",
       "10                                           AMENAZAS   \n",
       "11                                 VIOLENCIA FAMILIAR   \n",
       "12           LESIONES INTENCIONALES POR ARMA DE FUEGO   \n",
       "13  HOMICIDIO CULPOSO POR TRÁNSITO VEHICULAR (COLI...   \n",
       "14                PERDIDA DE LA VIDA POR OTRAS CAUSAS   \n",
       "\n",
       "                                            Categoria       Sexo  Edad  \\\n",
       "0                              DELITO DE BAJO IMPACTO        NaN   NaN   \n",
       "1   ROBO A TRANSEUNTE EN VÍA PÚBLICA CON Y SIN VIO...  Masculino  50.0   \n",
       "2                ROBO DE VEHÍCULO CON Y SIN VIOLENCIA  Masculino  34.0   \n",
       "3                              DELITO DE BAJO IMPACTO  Masculino   NaN   \n",
       "4                                  HECHO NO DELICTIVO  Masculino  90.0   \n",
       "5                              DELITO DE BAJO IMPACTO  Masculino   NaN   \n",
       "6                              DELITO DE BAJO IMPACTO  Masculino  58.0   \n",
       "7                              DELITO DE BAJO IMPACTO   Femenino  32.0   \n",
       "8                              DELITO DE BAJO IMPACTO  Masculino  14.0   \n",
       "9                              DELITO DE BAJO IMPACTO  Masculino  31.0   \n",
       "10                             DELITO DE BAJO IMPACTO   Femenino  46.0   \n",
       "11                             DELITO DE BAJO IMPACTO  Masculino  48.0   \n",
       "12      LESIONES DOLOSAS POR DISPARO DE ARMA DE FUEGO  Masculino   NaN   \n",
       "13                             DELITO DE BAJO IMPACTO  Masculino  39.0   \n",
       "14                                 HECHO NO DELICTIVO  Masculino  75.0   \n",
       "\n",
       "   TipoPersona        CalidadJuridica  ...  Mes_hecho  FechaHecho HoraHecho  \\\n",
       "0        MORAL               OFENDIDO  ...  Diciembre  2022-12-31  22:08:00   \n",
       "1       FISICA  VICTIMA Y DENUNCIANTE  ...  Diciembre  2022-12-31  23:50:00   \n",
       "2       FISICA  VICTIMA Y DENUNCIANTE  ...  Diciembre  2022-12-31  20:30:00   \n",
       "3       FISICA              LESIONADO  ...  Diciembre  2022-12-31  23:30:00   \n",
       "4       FISICA                CADAVER  ...  Diciembre  2022-12-31  10:30:00   \n",
       "5       FISICA  VICTIMA Y DENUNCIANTE  ...  Diciembre  2022-12-31  23:15:00   \n",
       "6       FISICA  VICTIMA Y DENUNCIANTE  ...  Diciembre  2022-12-31  22:47:00   \n",
       "7       FISICA  VICTIMA Y DENUNCIANTE  ...  Diciembre  2022-12-31  23:00:00   \n",
       "8       FISICA                VICTIMA  ...  Diciembre  2022-12-31  16:00:00   \n",
       "9       FISICA  VICTIMA Y DENUNCIANTE  ...  Diciembre  2022-12-31  23:50:00   \n",
       "10      FISICA  VICTIMA Y DENUNCIANTE  ...  Diciembre  2022-12-31  14:00:00   \n",
       "11      FISICA  VICTIMA Y DENUNCIANTE  ...      Enero  2023-01-01  01:45:00   \n",
       "12      FISICA              LESIONADO  ...  Diciembre  2022-12-31  20:00:00   \n",
       "13      FISICA              LESIONADO  ...  Diciembre  2022-12-31  23:54:00   \n",
       "14      FISICA                CADAVER  ...  Diciembre  2022-12-31  23:00:00   \n",
       "\n",
       "   HoraInicio      alcaldia_hechos municipio_hechos  \\\n",
       "0    00:09:00             COYOACAN              NaN   \n",
       "1    00:41:00  VENUSTIANO CARRANZA              NaN   \n",
       "2    00:44:00    GUSTAVO A. MADERO              NaN   \n",
       "3    00:47:00             COYOACAN              NaN   \n",
       "4    00:56:00    GUSTAVO A. MADERO              NaN   \n",
       "5    01:04:00           IZTAPALAPA              NaN   \n",
       "6    01:33:00           IZTAPALAPA              NaN   \n",
       "7    01:43:00       MIGUEL HIDALGO              NaN   \n",
       "8    01:48:00           IZTAPALAPA              NaN   \n",
       "9    01:55:00           CUAUHTEMOC              NaN   \n",
       "10   01:56:00           MILPA ALTA              NaN   \n",
       "11   02:23:00           IZTAPALAPA              NaN   \n",
       "12   03:02:00              TLALPAN              NaN   \n",
       "13   03:15:00             COYOACAN              NaN   \n",
       "14   03:35:00              TLALPAN              NaN   \n",
       "\n",
       "                              colonia_datos             fgj_colonia_registro  \\\n",
       "0                     INSURGENTES CUICUILCO            INSURGENTES CUICUILCO   \n",
       "1                   MOCTEZUMA 2A SECCION IV             MOCTEZUMA 2A SECCIÓN   \n",
       "2   SAN JUAN DE ARAGON 3A SECCION (U HAB) I   SAN JUAN DE ARAGÓN III SECCIÓN   \n",
       "3                                 XOTEPINGO                        XOTEPINGO   \n",
       "4                                       NaN                              NaN   \n",
       "5                      PASEOS DE CHURUBUSCO                CENTRAL DE ABASTO   \n",
       "6                          CULHUACAN (PBLO)                 PUEBLO CULHUACÁN   \n",
       "7                                PENSIL SUR                       PENSIL SUR   \n",
       "8                  STA MA AZTAHUACAN (PBLO)           SANTA MARIA AZTAHUACAN   \n",
       "9                              PERALVILLO I                       PERALVILLO   \n",
       "10              SAN ANTONIO TECOMITL (PBLO)  XALTIPAC (SAN ANTONIO TECOMITL)   \n",
       "11                                 EL SIFON                         EL SIFÓN   \n",
       "12               SAN MIGUEL TOPILEJO (PBLO)              SAN MIGUEL TOPILEJO   \n",
       "13                    INSURGENTES CUICUILCO            INSURGENTES CUICUILCO   \n",
       "14                                  LA FAMA                   BARRIO LA FAMA   \n",
       "\n",
       "      latitud   longitud  \n",
       "0   19.305532 -99.186308  \n",
       "1   19.429797 -99.098672  \n",
       "2   19.451641 -99.076529  \n",
       "3   19.323245 -99.138016  \n",
       "4         NaN        NaN  \n",
       "5   19.377017 -99.091991  \n",
       "6   19.338649 -99.108793  \n",
       "7   19.445881 -99.195806  \n",
       "8   19.347793 -99.019130  \n",
       "9   19.461487 -99.137570  \n",
       "10  19.220606 -98.992957  \n",
       "11  19.369862 -99.116635  \n",
       "12  19.197803 -99.142288  \n",
       "13  19.305476 -99.186294  \n",
       "14  19.291740 -99.177114  \n",
       "\n",
       "[15 rows x 22 columns]"
      ]
     },
     "execution_count": 4,
     "metadata": {},
     "output_type": "execute_result"
    }
   ],
   "source": [
    "df.head(15)"
   ]
  },
  {
   "cell_type": "code",
   "execution_count": 5,
   "id": "62cbd878",
   "metadata": {
    "tags": []
   },
   "outputs": [
    {
     "data": {
      "text/plain": [
       "idCarpeta                 int64\n",
       "Año_inicio                int64\n",
       "Mes_inicio               object\n",
       "FechaInicio              object\n",
       "Delito                   object\n",
       "Categoria                object\n",
       "Sexo                     object\n",
       "Edad                    float64\n",
       "TipoPersona              object\n",
       "CalidadJuridica          object\n",
       "competencia              object\n",
       "Año_hecho               float64\n",
       "Mes_hecho                object\n",
       "FechaHecho               object\n",
       "HoraHecho                object\n",
       "HoraInicio               object\n",
       "alcaldia_hechos          object\n",
       "municipio_hechos         object\n",
       "colonia_datos            object\n",
       "fgj_colonia_registro     object\n",
       "latitud                 float64\n",
       "longitud                float64\n",
       "dtype: object"
      ]
     },
     "execution_count": 5,
     "metadata": {},
     "output_type": "execute_result"
    }
   ],
   "source": [
    "df.dtypes"
   ]
  },
  {
   "cell_type": "code",
   "execution_count": 6,
   "id": "0e2edddc",
   "metadata": {
    "tags": []
   },
   "outputs": [
    {
     "data": {
      "text/plain": [
       "idCarpeta               61333\n",
       "Año_inicio                  1\n",
       "Mes_inicio                  3\n",
       "FechaInicio                90\n",
       "Delito                    255\n",
       "Categoria                  16\n",
       "Sexo                        2\n",
       "Edad                      100\n",
       "TipoPersona                 2\n",
       "CalidadJuridica             5\n",
       "competencia                 3\n",
       "Año_hecho                  39\n",
       "Mes_hecho                  12\n",
       "FechaHecho               1434\n",
       "HoraHecho                1441\n",
       "HoraInicio               1455\n",
       "alcaldia_hechos            18\n",
       "municipio_hechos           91\n",
       "colonia_datos            1655\n",
       "fgj_colonia_registro     1538\n",
       "latitud                 57654\n",
       "longitud                57653\n",
       "dtype: int64"
      ]
     },
     "execution_count": 6,
     "metadata": {},
     "output_type": "execute_result"
    }
   ],
   "source": [
    "df.nunique()"
   ]
  },
  {
   "cell_type": "code",
   "execution_count": 7,
   "id": "081dac64",
   "metadata": {
    "tags": []
   },
   "outputs": [
    {
     "data": {
      "text/plain": [
       "count    64337.000000\n",
       "mean      2022.731616\n",
       "std          1.271916\n",
       "min       1962.000000\n",
       "25%       2023.000000\n",
       "50%       2023.000000\n",
       "75%       2023.000000\n",
       "max       2023.000000\n",
       "Name: Año_hecho, dtype: float64"
      ]
     },
     "execution_count": 7,
     "metadata": {},
     "output_type": "execute_result"
    }
   ],
   "source": [
    "df[\"Año_hecho\"].describe()"
   ]
  },
  {
   "cell_type": "markdown",
   "id": "8fd4964f",
   "metadata": {
    "tags": []
   },
   "source": [
    "### Tenemos delitos cometidos desde el año **1962** a los cuáles se les abrió carpetas de investigación hasta el año **2023**"
   ]
  },
  {
   "cell_type": "code",
   "execution_count": 8,
   "id": "6f1c0a3e",
   "metadata": {
    "tags": []
   },
   "outputs": [
    {
     "data": {
      "text/plain": [
       "array([2022., 2023., 2021., 2018., 2019., 2020., 2013., 1998., 2007.,\n",
       "       2017., 2014., 2015., 2010., 2011.,   nan, 2003., 2016., 2005.,\n",
       "       2000., 2006., 1993., 1995., 2012., 2002., 2008., 1969., 1987.,\n",
       "       2009., 1967., 1990., 1999., 2004., 1994., 1974., 1976., 1985.,\n",
       "       1962., 1991., 1972., 2001.])"
      ]
     },
     "execution_count": 8,
     "metadata": {},
     "output_type": "execute_result"
    }
   ],
   "source": [
    "df[\"Año_hecho\"].unique()"
   ]
  },
  {
   "cell_type": "code",
   "execution_count": 9,
   "id": "a3942110",
   "metadata": {
    "tags": []
   },
   "outputs": [
    {
     "data": {
      "text/plain": [
       "array(['DELITO DE BAJO IMPACTO',\n",
       "       'ROBO A TRANSEUNTE EN VÍA PÚBLICA CON Y SIN VIOLENCIA',\n",
       "       'ROBO DE VEHÍCULO CON Y SIN VIOLENCIA', 'HECHO NO DELICTIVO',\n",
       "       'LESIONES DOLOSAS POR DISPARO DE ARMA DE FUEGO', 'VIOLACIÓN',\n",
       "       'ROBO A NEGOCIO CON VIOLENCIA',\n",
       "       'ROBO A REPARTIDOR CON Y SIN VIOLENCIA', 'HOMICIDIO DOLOSO',\n",
       "       'ROBO A PASAJERO A BORDO DE MICROBUS CON Y SIN VIOLENCIA',\n",
       "       'ROBO A PASAJERO A BORDO DEL METRO CON Y SIN VIOLENCIA',\n",
       "       'ROBO A PASAJERO A BORDO DE TAXI CON VIOLENCIA',\n",
       "       'ROBO A CUENTAHABIENTE SALIENDO DEL CAJERO CON VIOLENCIA',\n",
       "       'ROBO A CASA HABITACIÓN CON VIOLENCIA',\n",
       "       'ROBO A TRANSPORTISTA CON Y SIN VIOLENCIA', 'SECUESTRO'],\n",
       "      dtype=object)"
      ]
     },
     "execution_count": 9,
     "metadata": {},
     "output_type": "execute_result"
    }
   ],
   "source": [
    "df[\"Categoria\"].unique()"
   ]
  },
  {
   "cell_type": "code",
   "execution_count": 10,
   "id": "d6950310",
   "metadata": {
    "tags": []
   },
   "outputs": [
    {
     "data": {
      "text/html": [
       "<div>\n",
       "<style scoped>\n",
       "    .dataframe tbody tr th:only-of-type {\n",
       "        vertical-align: middle;\n",
       "    }\n",
       "\n",
       "    .dataframe tbody tr th {\n",
       "        vertical-align: top;\n",
       "    }\n",
       "\n",
       "    .dataframe thead th {\n",
       "        text-align: right;\n",
       "    }\n",
       "</style>\n",
       "<table border=\"1\" class=\"dataframe\">\n",
       "  <thead>\n",
       "    <tr style=\"text-align: right;\">\n",
       "      <th></th>\n",
       "      <th>idCarpeta</th>\n",
       "      <th>Año_inicio</th>\n",
       "      <th>Mes_inicio</th>\n",
       "      <th>FechaInicio</th>\n",
       "      <th>Delito</th>\n",
       "      <th>Categoria</th>\n",
       "      <th>Sexo</th>\n",
       "      <th>Edad</th>\n",
       "      <th>TipoPersona</th>\n",
       "      <th>CalidadJuridica</th>\n",
       "      <th>...</th>\n",
       "      <th>Mes_hecho</th>\n",
       "      <th>FechaHecho</th>\n",
       "      <th>HoraHecho</th>\n",
       "      <th>HoraInicio</th>\n",
       "      <th>alcaldia_hechos</th>\n",
       "      <th>municipio_hechos</th>\n",
       "      <th>colonia_datos</th>\n",
       "      <th>fgj_colonia_registro</th>\n",
       "      <th>latitud</th>\n",
       "      <th>longitud</th>\n",
       "    </tr>\n",
       "  </thead>\n",
       "  <tbody>\n",
       "    <tr>\n",
       "      <th>44757</th>\n",
       "      <td>9408996</td>\n",
       "      <td>2023</td>\n",
       "      <td>Marzo</td>\n",
       "      <td>2023-03-06</td>\n",
       "      <td>AMENAZAS</td>\n",
       "      <td>DELITO DE BAJO IMPACTO</td>\n",
       "      <td>Masculino</td>\n",
       "      <td>60.0</td>\n",
       "      <td>FISICA</td>\n",
       "      <td>VICTIMA Y DENUNCIANTE</td>\n",
       "      <td>...</td>\n",
       "      <td>Septiembre</td>\n",
       "      <td>1962-09-11</td>\n",
       "      <td>13:45:00</td>\n",
       "      <td>18:39:00</td>\n",
       "      <td>COYOACAN</td>\n",
       "      <td>NaN</td>\n",
       "      <td>DEL CARMEN</td>\n",
       "      <td>DEL CARMEN</td>\n",
       "      <td>19.351477</td>\n",
       "      <td>-99.158951</td>\n",
       "    </tr>\n",
       "  </tbody>\n",
       "</table>\n",
       "<p>1 rows × 22 columns</p>\n",
       "</div>"
      ],
      "text/plain": [
       "       idCarpeta  Año_inicio Mes_inicio FechaInicio    Delito  \\\n",
       "44757    9408996        2023      Marzo  2023-03-06  AMENAZAS   \n",
       "\n",
       "                    Categoria       Sexo  Edad TipoPersona  \\\n",
       "44757  DELITO DE BAJO IMPACTO  Masculino  60.0      FISICA   \n",
       "\n",
       "             CalidadJuridica  ...   Mes_hecho  FechaHecho HoraHecho  \\\n",
       "44757  VICTIMA Y DENUNCIANTE  ...  Septiembre  1962-09-11  13:45:00   \n",
       "\n",
       "      HoraInicio alcaldia_hechos municipio_hechos colonia_datos  \\\n",
       "44757   18:39:00        COYOACAN              NaN    DEL CARMEN   \n",
       "\n",
       "      fgj_colonia_registro    latitud   longitud  \n",
       "44757           DEL CARMEN  19.351477 -99.158951  \n",
       "\n",
       "[1 rows x 22 columns]"
      ]
     },
     "execution_count": 10,
     "metadata": {},
     "output_type": "execute_result"
    }
   ],
   "source": [
    "df.loc[df[\"Año_hecho\"]==1962]"
   ]
  },
  {
   "cell_type": "code",
   "execution_count": 11,
   "id": "9344bd98",
   "metadata": {
    "tags": []
   },
   "outputs": [
    {
     "data": {
      "text/plain": [
       "array(['FUERO COMUN', 'HECHOS NO DELICTIVOS', 'INCOMPETENCIAS'],\n",
       "      dtype=object)"
      ]
     },
     "execution_count": 11,
     "metadata": {},
     "output_type": "execute_result"
    }
   ],
   "source": [
    "df[\"competencia\"].unique()"
   ]
  },
  {
   "cell_type": "markdown",
   "id": "f3c3ac25",
   "metadata": {
    "tags": []
   },
   "source": [
    "### Resumen del entendimiento de los datos\n",
    "\n",
    "1. Existen carpetas de investigación sobre delitos cometidos desde 1962, abiertas hasta el 2023.\n",
    "\n",
    "2. Tenemos **16 categorías de delitos**.\n",
    "\n",
    "3. Hay **5 tipos de calidades jurídicas**.\n",
    "\n",
    "4. Describiendo los **3 competencias de delitos**:\n",
    "    \n",
    "    * Fuero común: Aquellos delitos que afectas directamente a la persona.\n",
    "    * Hechos no delictivos: No son delitos.\n",
    "    * Incompetencias: La persona es incapaz de ser juzgada o de ser responsable de sus acciones debido a condiciones físicas o mentales.\n",
    "    \n",
    "    \n",
    "    \n",
    "5. En la columna de alcaldías estamos considerando un **extra llamado 'fuera de la ciudad de méxico'**\n",
    "\n",
    "6. Tenemos **255 tipos de delitos**."
   ]
  },
  {
   "cell_type": "markdown",
   "id": "2d5193d4-e199-45af-8da5-45d5b80a1c2f",
   "metadata": {
    "tags": []
   },
   "source": [
    "## Limpieza"
   ]
  },
  {
   "cell_type": "markdown",
   "id": "911dc7a0-3724-463c-ba50-9e457f384b3c",
   "metadata": {},
   "source": [
    "1. [X] Eliminar columnas que se relacionen con el tiempo en que se hizo la denuncia\n",
    "2. [X] Estandarizar a minusculas las columnas restantes\n",
    "3. [X] Renombrar columnas a 1 sola palabra\n",
    "4. [X] Eliminar la palabra hecho de todas las columnas que la contengan\n",
    "5. [X] Convertir a formato de fecha si corresponde\n",
    "6. [X] Eliminar la columna de Municipio ya que solo vamos a analizar dentro de CDMX\n",
    "7. [ ] Rellenar los NaN  \n",
    "\n",
    "        7.1 [ ] 'sexo' no, hasta tener separados los dataframes  \n",
    "        \n",
    "        7.2 [ ] 'edad' no, hasta tener separados los dataframes  \n",
    "        \n",
    "        7.3 [X] 'persona' no, eliminar los registros que no tengan este campo  \n",
    "        \n",
    "        7.4 [X] 'año, mes, fecha y hora' no, son 7 entonces eliminemos  \n",
    "        \n",
    "        7.5 [ ] 'colonia' si, quizas teniendo en cuenta las colonias que mas se repiten por alcaldia  \n",
    "        \n",
    "        7.6 [X] 'latitud y longitud' borrar columnas (realmente no se usarán)\n",
    "        \n",
    "8. [X] Cambiar a enteros los años\n",
    "9. [X] Si existe un tipo de dato de \"hora\", cambiarlo en la que corresponda  \n",
    "\n",
    "        9.1 [X] Eliminar aquellos registros con categoria \"hecho no delictivo\" y calidad \"incompetencias\"\n",
    "        \n",
    "10. [X] Separar en 2 DataFrames teniendo en cuenta el tipo de persona\n",
    "11. [ ] En ambos dataframes mantener aquellos delitos con competencia de **fuero común e incompetencias (no estoy seguro del ultimo)**\n",
    "12. [X] Del dataframe de personas morales, eliminar las columnas de sexo, edad, tipopersona\n",
    "13. [ ] En la columna de edades de personas físicas, llenar los NA con algún **algoritmo de imputación**\n",
    "\n",
    "\n",
    "... Si hay más, apúntelos aquí"
   ]
  },
  {
   "cell_type": "markdown",
   "id": "dff20689-863d-40eb-825d-94347008adcc",
   "metadata": {
    "jp-MarkdownHeadingCollapsed": true,
    "tags": []
   },
   "source": [
    "### Paso 1"
   ]
  },
  {
   "cell_type": "code",
   "execution_count": 12,
   "id": "7b029d4a",
   "metadata": {
    "tags": []
   },
   "outputs": [],
   "source": [
    "df.drop(\n",
    "        columns=[\"fgj_colonia_registro\", \"idCarpeta\", \"Año_inicio\", \"Mes_inicio\", \"FechaInicio\", \"HoraInicio\"], \n",
    "        inplace=True\n",
    "        )"
   ]
  },
  {
   "cell_type": "markdown",
   "id": "9dd334dc-25cd-4bb5-8e3b-80e72adff79e",
   "metadata": {
    "jp-MarkdownHeadingCollapsed": true,
    "tags": []
   },
   "source": [
    "### Paso 2"
   ]
  },
  {
   "cell_type": "code",
   "execution_count": 13,
   "id": "5c766c4e-ecaa-4cc1-8a87-4d9b6afd4d1e",
   "metadata": {},
   "outputs": [],
   "source": [
    "df.rename(columns= lambda x: x.lower(), inplace=True)"
   ]
  },
  {
   "cell_type": "markdown",
   "id": "8c74c216-52bd-479e-9812-6576ad978cb2",
   "metadata": {
    "jp-MarkdownHeadingCollapsed": true,
    "tags": []
   },
   "source": [
    "### Paso 3"
   ]
  },
  {
   "cell_type": "code",
   "execution_count": 14,
   "id": "f081daba-2d74-4888-8485-d46fce7410e0",
   "metadata": {},
   "outputs": [],
   "source": [
    "df.rename(columns = \n",
    "         {\n",
    "             'tipopersona': 'persona',\n",
    "             'calidadjuridica': 'calidad',\n",
    "             'colonia_datos': 'colonia'\n",
    "         }, \n",
    "        inplace=True)"
   ]
  },
  {
   "cell_type": "markdown",
   "id": "a23551d7-07f9-4bdf-8bd3-b0b24fd36977",
   "metadata": {
    "jp-MarkdownHeadingCollapsed": true,
    "tags": []
   },
   "source": [
    "### Paso 4"
   ]
  },
  {
   "cell_type": "code",
   "execution_count": 15,
   "id": "9a00f8cc-6054-4b51-b52d-8a84d91d08bf",
   "metadata": {},
   "outputs": [],
   "source": [
    "def find(name):\n",
    "    return re.sub(r'_?hechos?$', '', name)\n",
    "\n",
    "df.columns = df.columns.to_frame()[0].agg(find)"
   ]
  },
  {
   "cell_type": "markdown",
   "id": "1b1883bd-29e2-4dd9-9f17-40cec8fa9ad6",
   "metadata": {
    "jp-MarkdownHeadingCollapsed": true,
    "tags": []
   },
   "source": [
    "### Paso 5"
   ]
  },
  {
   "cell_type": "code",
   "execution_count": null,
   "id": "7f59c138-1c10-4058-b36c-0fc6d7f33294",
   "metadata": {},
   "outputs": [],
   "source": []
  },
  {
   "cell_type": "markdown",
   "id": "3cc645ba-e2f7-4280-8d4f-c938ee050295",
   "metadata": {
    "jp-MarkdownHeadingCollapsed": true,
    "tags": []
   },
   "source": [
    "### Paso 6: Eliminar Municipio"
   ]
  },
  {
   "cell_type": "code",
   "execution_count": 16,
   "id": "d40fc989-04df-42b0-8b33-9c83919c19b2",
   "metadata": {},
   "outputs": [],
   "source": [
    "df.drop(columns=\"municipio\", inplace=True)"
   ]
  },
  {
   "cell_type": "markdown",
   "id": "d3463574-3782-4699-bc8d-98a26e35faa1",
   "metadata": {
    "tags": []
   },
   "source": [
    "### Paso 7.3, 7.4"
   ]
  },
  {
   "cell_type": "code",
   "execution_count": 17,
   "id": "de9b0e00-ca14-4261-b259-9a528baf6d0f",
   "metadata": {},
   "outputs": [],
   "source": [
    "# Borrar persona, año, mes fecha y hora nulos\n",
    "df.dropna(subset=[\"persona\", \"año\", \"mes\", \"fecha\", \"hora\"], inplace=True)"
   ]
  },
  {
   "cell_type": "markdown",
   "id": "7c7d7cb9-3e14-4fb1-b096-7087d883f873",
   "metadata": {},
   "source": [
    "### Paso 7.5"
   ]
  },
  {
   "cell_type": "code",
   "execution_count": null,
   "id": "8e7b0d12-072f-47ef-ab4b-dd980a67aeb3",
   "metadata": {},
   "outputs": [],
   "source": []
  },
  {
   "cell_type": "markdown",
   "id": "b9f2b04b-0c5c-4db3-9213-cc812da5adc1",
   "metadata": {
    "tags": []
   },
   "source": [
    "### Paso 7.6"
   ]
  },
  {
   "cell_type": "code",
   "execution_count": 18,
   "id": "8bc9684c-c201-4646-b1f2-526ee9b92795",
   "metadata": {},
   "outputs": [],
   "source": [
    "df.drop(columns=[\"latitud\", \"longitud\"], inplace=True)"
   ]
  },
  {
   "cell_type": "code",
   "execution_count": 19,
   "id": "0309cf57-1f31-4df0-8498-7e3674ce43a8",
   "metadata": {},
   "outputs": [
    {
     "data": {
      "text/plain": [
       "0       2022-12-31\n",
       "1       2022-12-31\n",
       "2       2022-12-31\n",
       "3       2022-12-31\n",
       "4       2022-12-31\n",
       "           ...    \n",
       "64339   2023-03-31\n",
       "64340   2023-03-30\n",
       "64341   2023-03-31\n",
       "64342   2023-03-31\n",
       "64343   2023-03-31\n",
       "Name: fecha, Length: 64205, dtype: datetime64[ns]"
      ]
     },
     "execution_count": 19,
     "metadata": {},
     "output_type": "execute_result"
    }
   ],
   "source": [
    "pd.to_datetime(df.fecha)"
   ]
  },
  {
   "cell_type": "markdown",
   "id": "c87c08f3-943e-4529-a992-dc77113f9099",
   "metadata": {
    "tags": []
   },
   "source": [
    "### Paso 8"
   ]
  },
  {
   "cell_type": "code",
   "execution_count": 20,
   "id": "408df9b6-1c16-4d02-8c59-9db36aa1e8ee",
   "metadata": {},
   "outputs": [
    {
     "data": {
      "text/plain": [
       "0        2022\n",
       "1        2022\n",
       "2        2022\n",
       "3        2022\n",
       "4        2022\n",
       "         ... \n",
       "64339    2023\n",
       "64340    2023\n",
       "64341    2023\n",
       "64342    2023\n",
       "64343    2023\n",
       "Name: año, Length: 64205, dtype: int64"
      ]
     },
     "execution_count": 20,
     "metadata": {},
     "output_type": "execute_result"
    }
   ],
   "source": [
    "df['año'].astype(int)"
   ]
  },
  {
   "cell_type": "markdown",
   "id": "bbf2b96f-2b33-433e-8c4e-c436728115e7",
   "metadata": {
    "tags": []
   },
   "source": [
    "### Paso 9"
   ]
  },
  {
   "cell_type": "code",
   "execution_count": 21,
   "id": "b4a5d5f0-00af-4bdd-9e71-08bcfd9b44a7",
   "metadata": {},
   "outputs": [
    {
     "data": {
      "text/plain": [
       "0        22:08:00\n",
       "1        23:50:00\n",
       "2        20:30:00\n",
       "3        23:30:00\n",
       "4        10:30:00\n",
       "           ...   \n",
       "64339    07:30:00\n",
       "64340    22:00:00\n",
       "64341    07:00:00\n",
       "64342    10:01:00\n",
       "64343    17:30:00\n",
       "Name: hora, Length: 64205, dtype: object"
      ]
     },
     "execution_count": 21,
     "metadata": {},
     "output_type": "execute_result"
    }
   ],
   "source": [
    "pd.to_datetime(df['hora']).dt.time"
   ]
  },
  {
   "cell_type": "markdown",
   "id": "98e6b23b-2ae7-4fec-b4cd-474dcc67481a",
   "metadata": {},
   "source": [
    "### Paso 9.1"
   ]
  },
  {
   "cell_type": "code",
   "execution_count": 22,
   "id": "9e94adb2-7d7e-4d13-9124-3abd4f15f5dc",
   "metadata": {},
   "outputs": [],
   "source": [
    "df = df[np.logical_and(df[\"categoria\"] != \"HECHO NO DELICTIVO\", df[\"calidad\"] != \"INCOMPETENCIAS\")]"
   ]
  },
  {
   "cell_type": "markdown",
   "id": "fee037e2-8c32-45bf-8650-724d48da2c6e",
   "metadata": {
    "jp-MarkdownHeadingCollapsed": true,
    "tags": []
   },
   "source": [
    "### Paso 10: separacion de dataframe"
   ]
  },
  {
   "cell_type": "code",
   "execution_count": 23,
   "id": "050645f2-4123-4877-bc6c-396911724ead",
   "metadata": {},
   "outputs": [],
   "source": [
    "df_fisica = df.query('persona == \"FISICA\"')\n",
    "df_moral = df.query('persona == \"MORAL\"')"
   ]
  },
  {
   "cell_type": "markdown",
   "id": "e19cb0cd-1458-4277-a241-94441ebd96e5",
   "metadata": {},
   "source": [
    "### Paso 11"
   ]
  },
  {
   "cell_type": "code",
   "execution_count": null,
   "id": "132dd47a-6472-417f-bc7a-6509d304109c",
   "metadata": {},
   "outputs": [],
   "source": []
  },
  {
   "cell_type": "markdown",
   "id": "f41dbc9f-8f1b-43c4-9a87-77d3e9a6382b",
   "metadata": {
    "jp-MarkdownHeadingCollapsed": true,
    "tags": []
   },
   "source": [
    "### Paso 12, de las morales eliminar sexo y edad"
   ]
  },
  {
   "cell_type": "code",
   "execution_count": 24,
   "id": "359d1a2e-ea77-46f3-9a5d-bcc1f8774bfd",
   "metadata": {},
   "outputs": [
    {
     "ename": "KeyError",
     "evalue": "\"['sexo', 'edad'] not found in axis\"",
     "output_type": "error",
     "traceback": [
      "\u001b[0;31m---------------------------------------------------------------------------\u001b[0m",
      "\u001b[0;31mKeyError\u001b[0m                                  Traceback (most recent call last)",
      "Cell \u001b[0;32mIn[24], line 1\u001b[0m\n\u001b[0;32m----> 1\u001b[0m \u001b[43mdf_moral\u001b[49m\u001b[38;5;241;43m.\u001b[39;49m\u001b[43mdrop\u001b[49m\u001b[43m(\u001b[49m\u001b[43mlabels\u001b[49m\u001b[38;5;241;43m=\u001b[39;49m\u001b[43m[\u001b[49m\u001b[38;5;124;43m\"\u001b[39;49m\u001b[38;5;124;43msexo\u001b[39;49m\u001b[38;5;124;43m\"\u001b[39;49m\u001b[43m,\u001b[49m\u001b[43m \u001b[49m\u001b[38;5;124;43m\"\u001b[39;49m\u001b[38;5;124;43medad\u001b[39;49m\u001b[38;5;124;43m\"\u001b[39;49m\u001b[43m]\u001b[49m\u001b[43m,\u001b[49m\u001b[43m \u001b[49m\u001b[43minplace\u001b[49m\u001b[38;5;241;43m=\u001b[39;49m\u001b[38;5;28;43;01mTrue\u001b[39;49;00m\u001b[43m)\u001b[49m\n",
      "File \u001b[0;32m~/anaconda3/lib/python3.10/site-packages/pandas/util/_decorators.py:331\u001b[0m, in \u001b[0;36mdeprecate_nonkeyword_arguments.<locals>.decorate.<locals>.wrapper\u001b[0;34m(*args, **kwargs)\u001b[0m\n\u001b[1;32m    325\u001b[0m \u001b[38;5;28;01mif\u001b[39;00m \u001b[38;5;28mlen\u001b[39m(args) \u001b[38;5;241m>\u001b[39m num_allow_args:\n\u001b[1;32m    326\u001b[0m     warnings\u001b[38;5;241m.\u001b[39mwarn(\n\u001b[1;32m    327\u001b[0m         msg\u001b[38;5;241m.\u001b[39mformat(arguments\u001b[38;5;241m=\u001b[39m_format_argument_list(allow_args)),\n\u001b[1;32m    328\u001b[0m         \u001b[38;5;167;01mFutureWarning\u001b[39;00m,\n\u001b[1;32m    329\u001b[0m         stacklevel\u001b[38;5;241m=\u001b[39mfind_stack_level(),\n\u001b[1;32m    330\u001b[0m     )\n\u001b[0;32m--> 331\u001b[0m \u001b[38;5;28;01mreturn\u001b[39;00m \u001b[43mfunc\u001b[49m\u001b[43m(\u001b[49m\u001b[38;5;241;43m*\u001b[39;49m\u001b[43margs\u001b[49m\u001b[43m,\u001b[49m\u001b[43m \u001b[49m\u001b[38;5;241;43m*\u001b[39;49m\u001b[38;5;241;43m*\u001b[39;49m\u001b[43mkwargs\u001b[49m\u001b[43m)\u001b[49m\n",
      "File \u001b[0;32m~/anaconda3/lib/python3.10/site-packages/pandas/core/frame.py:5399\u001b[0m, in \u001b[0;36mDataFrame.drop\u001b[0;34m(self, labels, axis, index, columns, level, inplace, errors)\u001b[0m\n\u001b[1;32m   5251\u001b[0m \u001b[38;5;129m@deprecate_nonkeyword_arguments\u001b[39m(version\u001b[38;5;241m=\u001b[39m\u001b[38;5;28;01mNone\u001b[39;00m, allowed_args\u001b[38;5;241m=\u001b[39m[\u001b[38;5;124m\"\u001b[39m\u001b[38;5;124mself\u001b[39m\u001b[38;5;124m\"\u001b[39m, \u001b[38;5;124m\"\u001b[39m\u001b[38;5;124mlabels\u001b[39m\u001b[38;5;124m\"\u001b[39m])\n\u001b[1;32m   5252\u001b[0m \u001b[38;5;28;01mdef\u001b[39;00m \u001b[38;5;21mdrop\u001b[39m(  \u001b[38;5;66;03m# type: ignore[override]\u001b[39;00m\n\u001b[1;32m   5253\u001b[0m     \u001b[38;5;28mself\u001b[39m,\n\u001b[0;32m   (...)\u001b[0m\n\u001b[1;32m   5260\u001b[0m     errors: IgnoreRaise \u001b[38;5;241m=\u001b[39m \u001b[38;5;124m\"\u001b[39m\u001b[38;5;124mraise\u001b[39m\u001b[38;5;124m\"\u001b[39m,\n\u001b[1;32m   5261\u001b[0m ) \u001b[38;5;241m-\u001b[39m\u001b[38;5;241m>\u001b[39m DataFrame \u001b[38;5;241m|\u001b[39m \u001b[38;5;28;01mNone\u001b[39;00m:\n\u001b[1;32m   5262\u001b[0m     \u001b[38;5;124;03m\"\"\"\u001b[39;00m\n\u001b[1;32m   5263\u001b[0m \u001b[38;5;124;03m    Drop specified labels from rows or columns.\u001b[39;00m\n\u001b[1;32m   5264\u001b[0m \n\u001b[0;32m   (...)\u001b[0m\n\u001b[1;32m   5397\u001b[0m \u001b[38;5;124;03m            weight  1.0     0.8\u001b[39;00m\n\u001b[1;32m   5398\u001b[0m \u001b[38;5;124;03m    \"\"\"\u001b[39;00m\n\u001b[0;32m-> 5399\u001b[0m     \u001b[38;5;28;01mreturn\u001b[39;00m \u001b[38;5;28;43msuper\u001b[39;49m\u001b[43m(\u001b[49m\u001b[43m)\u001b[49m\u001b[38;5;241;43m.\u001b[39;49m\u001b[43mdrop\u001b[49m\u001b[43m(\u001b[49m\n\u001b[1;32m   5400\u001b[0m \u001b[43m        \u001b[49m\u001b[43mlabels\u001b[49m\u001b[38;5;241;43m=\u001b[39;49m\u001b[43mlabels\u001b[49m\u001b[43m,\u001b[49m\n\u001b[1;32m   5401\u001b[0m \u001b[43m        \u001b[49m\u001b[43maxis\u001b[49m\u001b[38;5;241;43m=\u001b[39;49m\u001b[43maxis\u001b[49m\u001b[43m,\u001b[49m\n\u001b[1;32m   5402\u001b[0m \u001b[43m        \u001b[49m\u001b[43mindex\u001b[49m\u001b[38;5;241;43m=\u001b[39;49m\u001b[43mindex\u001b[49m\u001b[43m,\u001b[49m\n\u001b[1;32m   5403\u001b[0m \u001b[43m        \u001b[49m\u001b[43mcolumns\u001b[49m\u001b[38;5;241;43m=\u001b[39;49m\u001b[43mcolumns\u001b[49m\u001b[43m,\u001b[49m\n\u001b[1;32m   5404\u001b[0m \u001b[43m        \u001b[49m\u001b[43mlevel\u001b[49m\u001b[38;5;241;43m=\u001b[39;49m\u001b[43mlevel\u001b[49m\u001b[43m,\u001b[49m\n\u001b[1;32m   5405\u001b[0m \u001b[43m        \u001b[49m\u001b[43minplace\u001b[49m\u001b[38;5;241;43m=\u001b[39;49m\u001b[43minplace\u001b[49m\u001b[43m,\u001b[49m\n\u001b[1;32m   5406\u001b[0m \u001b[43m        \u001b[49m\u001b[43merrors\u001b[49m\u001b[38;5;241;43m=\u001b[39;49m\u001b[43merrors\u001b[49m\u001b[43m,\u001b[49m\n\u001b[1;32m   5407\u001b[0m \u001b[43m    \u001b[49m\u001b[43m)\u001b[49m\n",
      "File \u001b[0;32m~/anaconda3/lib/python3.10/site-packages/pandas/util/_decorators.py:331\u001b[0m, in \u001b[0;36mdeprecate_nonkeyword_arguments.<locals>.decorate.<locals>.wrapper\u001b[0;34m(*args, **kwargs)\u001b[0m\n\u001b[1;32m    325\u001b[0m \u001b[38;5;28;01mif\u001b[39;00m \u001b[38;5;28mlen\u001b[39m(args) \u001b[38;5;241m>\u001b[39m num_allow_args:\n\u001b[1;32m    326\u001b[0m     warnings\u001b[38;5;241m.\u001b[39mwarn(\n\u001b[1;32m    327\u001b[0m         msg\u001b[38;5;241m.\u001b[39mformat(arguments\u001b[38;5;241m=\u001b[39m_format_argument_list(allow_args)),\n\u001b[1;32m    328\u001b[0m         \u001b[38;5;167;01mFutureWarning\u001b[39;00m,\n\u001b[1;32m    329\u001b[0m         stacklevel\u001b[38;5;241m=\u001b[39mfind_stack_level(),\n\u001b[1;32m    330\u001b[0m     )\n\u001b[0;32m--> 331\u001b[0m \u001b[38;5;28;01mreturn\u001b[39;00m \u001b[43mfunc\u001b[49m\u001b[43m(\u001b[49m\u001b[38;5;241;43m*\u001b[39;49m\u001b[43margs\u001b[49m\u001b[43m,\u001b[49m\u001b[43m \u001b[49m\u001b[38;5;241;43m*\u001b[39;49m\u001b[38;5;241;43m*\u001b[39;49m\u001b[43mkwargs\u001b[49m\u001b[43m)\u001b[49m\n",
      "File \u001b[0;32m~/anaconda3/lib/python3.10/site-packages/pandas/core/generic.py:4505\u001b[0m, in \u001b[0;36mNDFrame.drop\u001b[0;34m(self, labels, axis, index, columns, level, inplace, errors)\u001b[0m\n\u001b[1;32m   4503\u001b[0m \u001b[38;5;28;01mfor\u001b[39;00m axis, labels \u001b[38;5;129;01min\u001b[39;00m axes\u001b[38;5;241m.\u001b[39mitems():\n\u001b[1;32m   4504\u001b[0m     \u001b[38;5;28;01mif\u001b[39;00m labels \u001b[38;5;129;01mis\u001b[39;00m \u001b[38;5;129;01mnot\u001b[39;00m \u001b[38;5;28;01mNone\u001b[39;00m:\n\u001b[0;32m-> 4505\u001b[0m         obj \u001b[38;5;241m=\u001b[39m \u001b[43mobj\u001b[49m\u001b[38;5;241;43m.\u001b[39;49m\u001b[43m_drop_axis\u001b[49m\u001b[43m(\u001b[49m\u001b[43mlabels\u001b[49m\u001b[43m,\u001b[49m\u001b[43m \u001b[49m\u001b[43maxis\u001b[49m\u001b[43m,\u001b[49m\u001b[43m \u001b[49m\u001b[43mlevel\u001b[49m\u001b[38;5;241;43m=\u001b[39;49m\u001b[43mlevel\u001b[49m\u001b[43m,\u001b[49m\u001b[43m \u001b[49m\u001b[43merrors\u001b[49m\u001b[38;5;241;43m=\u001b[39;49m\u001b[43merrors\u001b[49m\u001b[43m)\u001b[49m\n\u001b[1;32m   4507\u001b[0m \u001b[38;5;28;01mif\u001b[39;00m inplace:\n\u001b[1;32m   4508\u001b[0m     \u001b[38;5;28mself\u001b[39m\u001b[38;5;241m.\u001b[39m_update_inplace(obj)\n",
      "File \u001b[0;32m~/anaconda3/lib/python3.10/site-packages/pandas/core/generic.py:4546\u001b[0m, in \u001b[0;36mNDFrame._drop_axis\u001b[0;34m(self, labels, axis, level, errors, only_slice)\u001b[0m\n\u001b[1;32m   4544\u001b[0m         new_axis \u001b[38;5;241m=\u001b[39m axis\u001b[38;5;241m.\u001b[39mdrop(labels, level\u001b[38;5;241m=\u001b[39mlevel, errors\u001b[38;5;241m=\u001b[39merrors)\n\u001b[1;32m   4545\u001b[0m     \u001b[38;5;28;01melse\u001b[39;00m:\n\u001b[0;32m-> 4546\u001b[0m         new_axis \u001b[38;5;241m=\u001b[39m \u001b[43maxis\u001b[49m\u001b[38;5;241;43m.\u001b[39;49m\u001b[43mdrop\u001b[49m\u001b[43m(\u001b[49m\u001b[43mlabels\u001b[49m\u001b[43m,\u001b[49m\u001b[43m \u001b[49m\u001b[43merrors\u001b[49m\u001b[38;5;241;43m=\u001b[39;49m\u001b[43merrors\u001b[49m\u001b[43m)\u001b[49m\n\u001b[1;32m   4547\u001b[0m     indexer \u001b[38;5;241m=\u001b[39m axis\u001b[38;5;241m.\u001b[39mget_indexer(new_axis)\n\u001b[1;32m   4549\u001b[0m \u001b[38;5;66;03m# Case for non-unique axis\u001b[39;00m\n\u001b[1;32m   4550\u001b[0m \u001b[38;5;28;01melse\u001b[39;00m:\n",
      "File \u001b[0;32m~/anaconda3/lib/python3.10/site-packages/pandas/core/indexes/base.py:6934\u001b[0m, in \u001b[0;36mIndex.drop\u001b[0;34m(self, labels, errors)\u001b[0m\n\u001b[1;32m   6932\u001b[0m \u001b[38;5;28;01mif\u001b[39;00m mask\u001b[38;5;241m.\u001b[39many():\n\u001b[1;32m   6933\u001b[0m     \u001b[38;5;28;01mif\u001b[39;00m errors \u001b[38;5;241m!=\u001b[39m \u001b[38;5;124m\"\u001b[39m\u001b[38;5;124mignore\u001b[39m\u001b[38;5;124m\"\u001b[39m:\n\u001b[0;32m-> 6934\u001b[0m         \u001b[38;5;28;01mraise\u001b[39;00m \u001b[38;5;167;01mKeyError\u001b[39;00m(\u001b[38;5;124mf\u001b[39m\u001b[38;5;124m\"\u001b[39m\u001b[38;5;132;01m{\u001b[39;00m\u001b[38;5;28mlist\u001b[39m(labels[mask])\u001b[38;5;132;01m}\u001b[39;00m\u001b[38;5;124m not found in axis\u001b[39m\u001b[38;5;124m\"\u001b[39m)\n\u001b[1;32m   6935\u001b[0m     indexer \u001b[38;5;241m=\u001b[39m indexer[\u001b[38;5;241m~\u001b[39mmask]\n\u001b[1;32m   6936\u001b[0m \u001b[38;5;28;01mreturn\u001b[39;00m \u001b[38;5;28mself\u001b[39m\u001b[38;5;241m.\u001b[39mdelete(indexer)\n",
      "\u001b[0;31mKeyError\u001b[0m: \"['sexo', 'edad'] not found in axis\""
     ]
    }
   ],
   "source": [
    "df_moral.drop(labels=[\"sexo\", \"edad\"], inplace=True)"
   ]
  },
  {
   "cell_type": "markdown",
   "id": "f8899094-7ac1-4a03-b848-71823af18b74",
   "metadata": {},
   "source": [
    "### Paso 13, rellenar edades en df_fisica"
   ]
  },
  {
   "cell_type": "code",
   "execution_count": 25,
   "id": "50384d66-e964-44f6-9a75-a6b7fe2163e1",
   "metadata": {},
   "outputs": [
    {
     "name": "stdout",
     "output_type": "stream",
     "text": [
      "<class 'pandas.core.frame.DataFrame'>\n",
      "Int64Index: 53902 entries, 1 to 64343\n",
      "Data columns (total 13 columns):\n",
      " #   Column       Non-Null Count  Dtype  \n",
      "---  ------       --------------  -----  \n",
      " 0   delito       53902 non-null  object \n",
      " 1   categoria    53902 non-null  object \n",
      " 2   sexo         53902 non-null  object \n",
      " 3   edad         44165 non-null  float64\n",
      " 4   persona      53902 non-null  object \n",
      " 5   calidad      53902 non-null  object \n",
      " 6   competencia  53902 non-null  object \n",
      " 7   año          53902 non-null  float64\n",
      " 8   mes          53902 non-null  object \n",
      " 9   fecha        53902 non-null  object \n",
      " 10  hora         53902 non-null  object \n",
      " 11  alcaldia     53902 non-null  object \n",
      " 12  colonia      50718 non-null  object \n",
      "dtypes: float64(2), object(11)\n",
      "memory usage: 5.8+ MB\n"
     ]
    },
    {
     "data": {
      "text/html": [
       "<div>\n",
       "<style scoped>\n",
       "    .dataframe tbody tr th:only-of-type {\n",
       "        vertical-align: middle;\n",
       "    }\n",
       "\n",
       "    .dataframe tbody tr th {\n",
       "        vertical-align: top;\n",
       "    }\n",
       "\n",
       "    .dataframe thead th {\n",
       "        text-align: right;\n",
       "    }\n",
       "</style>\n",
       "<table border=\"1\" class=\"dataframe\">\n",
       "  <thead>\n",
       "    <tr style=\"text-align: right;\">\n",
       "      <th></th>\n",
       "      <th>delito</th>\n",
       "      <th>categoria</th>\n",
       "      <th>sexo</th>\n",
       "      <th>edad</th>\n",
       "      <th>persona</th>\n",
       "      <th>calidad</th>\n",
       "      <th>competencia</th>\n",
       "      <th>año</th>\n",
       "      <th>mes</th>\n",
       "      <th>fecha</th>\n",
       "      <th>hora</th>\n",
       "      <th>alcaldia</th>\n",
       "      <th>colonia</th>\n",
       "    </tr>\n",
       "  </thead>\n",
       "  <tbody>\n",
       "    <tr>\n",
       "      <th>1</th>\n",
       "      <td>ROBO A TRANSEUNTE EN VIA PUBLICA CON VIOLENCIA</td>\n",
       "      <td>ROBO A TRANSEUNTE EN VÍA PÚBLICA CON Y SIN VIO...</td>\n",
       "      <td>Masculino</td>\n",
       "      <td>50.0</td>\n",
       "      <td>FISICA</td>\n",
       "      <td>VICTIMA Y DENUNCIANTE</td>\n",
       "      <td>FUERO COMUN</td>\n",
       "      <td>2022.0</td>\n",
       "      <td>Diciembre</td>\n",
       "      <td>2022-12-31</td>\n",
       "      <td>23:50:00</td>\n",
       "      <td>VENUSTIANO CARRANZA</td>\n",
       "      <td>MOCTEZUMA 2A SECCION IV</td>\n",
       "    </tr>\n",
       "    <tr>\n",
       "      <th>2</th>\n",
       "      <td>ROBO DE VEHICULO DE SERVICIO PARTICULAR CON VI...</td>\n",
       "      <td>ROBO DE VEHÍCULO CON Y SIN VIOLENCIA</td>\n",
       "      <td>Masculino</td>\n",
       "      <td>34.0</td>\n",
       "      <td>FISICA</td>\n",
       "      <td>VICTIMA Y DENUNCIANTE</td>\n",
       "      <td>FUERO COMUN</td>\n",
       "      <td>2022.0</td>\n",
       "      <td>Diciembre</td>\n",
       "      <td>2022-12-31</td>\n",
       "      <td>20:30:00</td>\n",
       "      <td>GUSTAVO A. MADERO</td>\n",
       "      <td>SAN JUAN DE ARAGON 3A SECCION (U HAB) I</td>\n",
       "    </tr>\n",
       "    <tr>\n",
       "      <th>3</th>\n",
       "      <td>LESIONES CULPOSAS POR TRANSITO VEHICULAR EN CO...</td>\n",
       "      <td>DELITO DE BAJO IMPACTO</td>\n",
       "      <td>Masculino</td>\n",
       "      <td>NaN</td>\n",
       "      <td>FISICA</td>\n",
       "      <td>LESIONADO</td>\n",
       "      <td>FUERO COMUN</td>\n",
       "      <td>2022.0</td>\n",
       "      <td>Diciembre</td>\n",
       "      <td>2022-12-31</td>\n",
       "      <td>23:30:00</td>\n",
       "      <td>COYOACAN</td>\n",
       "      <td>XOTEPINGO</td>\n",
       "    </tr>\n",
       "    <tr>\n",
       "      <th>5</th>\n",
       "      <td>ROBO DE OBJETOS</td>\n",
       "      <td>DELITO DE BAJO IMPACTO</td>\n",
       "      <td>Masculino</td>\n",
       "      <td>NaN</td>\n",
       "      <td>FISICA</td>\n",
       "      <td>VICTIMA Y DENUNCIANTE</td>\n",
       "      <td>FUERO COMUN</td>\n",
       "      <td>2022.0</td>\n",
       "      <td>Diciembre</td>\n",
       "      <td>2022-12-31</td>\n",
       "      <td>23:15:00</td>\n",
       "      <td>IZTAPALAPA</td>\n",
       "      <td>PASEOS DE CHURUBUSCO</td>\n",
       "    </tr>\n",
       "    <tr>\n",
       "      <th>6</th>\n",
       "      <td>DAÑO EN PROPIEDAD AJENA CULPOSA POR TRÁNSITO V...</td>\n",
       "      <td>DELITO DE BAJO IMPACTO</td>\n",
       "      <td>Masculino</td>\n",
       "      <td>58.0</td>\n",
       "      <td>FISICA</td>\n",
       "      <td>VICTIMA Y DENUNCIANTE</td>\n",
       "      <td>FUERO COMUN</td>\n",
       "      <td>2022.0</td>\n",
       "      <td>Diciembre</td>\n",
       "      <td>2022-12-31</td>\n",
       "      <td>22:47:00</td>\n",
       "      <td>IZTAPALAPA</td>\n",
       "      <td>CULHUACAN (PBLO)</td>\n",
       "    </tr>\n",
       "  </tbody>\n",
       "</table>\n",
       "</div>"
      ],
      "text/plain": [
       "0                                             delito  \\\n",
       "1     ROBO A TRANSEUNTE EN VIA PUBLICA CON VIOLENCIA   \n",
       "2  ROBO DE VEHICULO DE SERVICIO PARTICULAR CON VI...   \n",
       "3  LESIONES CULPOSAS POR TRANSITO VEHICULAR EN CO...   \n",
       "5                                    ROBO DE OBJETOS   \n",
       "6  DAÑO EN PROPIEDAD AJENA CULPOSA POR TRÁNSITO V...   \n",
       "\n",
       "0                                          categoria       sexo  edad persona  \\\n",
       "1  ROBO A TRANSEUNTE EN VÍA PÚBLICA CON Y SIN VIO...  Masculino  50.0  FISICA   \n",
       "2               ROBO DE VEHÍCULO CON Y SIN VIOLENCIA  Masculino  34.0  FISICA   \n",
       "3                             DELITO DE BAJO IMPACTO  Masculino   NaN  FISICA   \n",
       "5                             DELITO DE BAJO IMPACTO  Masculino   NaN  FISICA   \n",
       "6                             DELITO DE BAJO IMPACTO  Masculino  58.0  FISICA   \n",
       "\n",
       "0                calidad  competencia     año        mes       fecha  \\\n",
       "1  VICTIMA Y DENUNCIANTE  FUERO COMUN  2022.0  Diciembre  2022-12-31   \n",
       "2  VICTIMA Y DENUNCIANTE  FUERO COMUN  2022.0  Diciembre  2022-12-31   \n",
       "3              LESIONADO  FUERO COMUN  2022.0  Diciembre  2022-12-31   \n",
       "5  VICTIMA Y DENUNCIANTE  FUERO COMUN  2022.0  Diciembre  2022-12-31   \n",
       "6  VICTIMA Y DENUNCIANTE  FUERO COMUN  2022.0  Diciembre  2022-12-31   \n",
       "\n",
       "0      hora             alcaldia                                  colonia  \n",
       "1  23:50:00  VENUSTIANO CARRANZA                  MOCTEZUMA 2A SECCION IV  \n",
       "2  20:30:00    GUSTAVO A. MADERO  SAN JUAN DE ARAGON 3A SECCION (U HAB) I  \n",
       "3  23:30:00             COYOACAN                                XOTEPINGO  \n",
       "5  23:15:00           IZTAPALAPA                     PASEOS DE CHURUBUSCO  \n",
       "6  22:47:00           IZTAPALAPA                         CULHUACAN (PBLO)  "
      ]
     },
     "execution_count": 25,
     "metadata": {},
     "output_type": "execute_result"
    }
   ],
   "source": [
    "#categorias = df_fisica.categoria.unique()\n",
    "#dic_cat = dict()\n",
    "#i = 0\n",
    "#for categoria in categorias:\n",
    "#    dic_cat[categoria] = i\n",
    "#   i += 1\n",
    "\n",
    "#dic_cat\n",
    "df_fisica.info()\n",
    "df_fisica.head()"
   ]
  },
  {
   "cell_type": "code",
   "execution_count": null,
   "id": "a4b8e1ad-9053-4a48-a3b3-0e5e81c5f00a",
   "metadata": {},
   "outputs": [],
   "source": [
    "df_fisica.isna().sum()\n",
    "#df_moral.isna().sum()"
   ]
  },
  {
   "cell_type": "code",
   "execution_count": null,
   "id": "f5f540ad-fa26-4d68-ac17-5293dbc5b407",
   "metadata": {},
   "outputs": [],
   "source": []
  }
 ],
 "metadata": {
  "kernelspec": {
   "display_name": "Python 3 (ipykernel)",
   "language": "python",
   "name": "python3"
  },
  "language_info": {
   "codemirror_mode": {
    "name": "ipython",
    "version": 3
   },
   "file_extension": ".py",
   "mimetype": "text/x-python",
   "name": "python",
   "nbconvert_exporter": "python",
   "pygments_lexer": "ipython3",
   "version": "3.10.9"
  }
 },
 "nbformat": 4,
 "nbformat_minor": 5
}
