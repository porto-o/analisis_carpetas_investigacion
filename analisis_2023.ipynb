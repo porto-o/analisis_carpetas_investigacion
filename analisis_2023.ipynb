{
 "cells": [
  {
   "cell_type": "markdown",
   "id": "24e486d4-ef38-4f4b-834f-375c6064548e",
   "metadata": {},
   "source": [
    "# Análsis de carpetas de investigación del 2023\n",
    "\n",
    "Estos datos corresponden al periodo del 01/Enero/2023 al 31/Marzo/2023"
   ]
  },
  {
   "cell_type": "code",
   "execution_count": 17,
   "id": "7e817d2f-82ab-4938-9da4-ab46788402f1",
   "metadata": {},
   "outputs": [],
   "source": [
    "import pandas as pd\n",
    "import numpy as np"
   ]
  },
  {
   "cell_type": "markdown",
   "id": "310f6685-732a-4227-a9a5-5ec1ff2431fe",
   "metadata": {},
   "source": [
    "### Entendimiento de los datos"
   ]
  },
  {
   "cell_type": "code",
   "execution_count": 19,
   "id": "dd6a2a82-8c7b-49ae-a23c-e7eaff2de1e1",
   "metadata": {},
   "outputs": [
    {
     "data": {
      "text/plain": [
       "(64344, 22)"
      ]
     },
     "execution_count": 19,
     "metadata": {},
     "output_type": "execute_result"
    }
   ],
   "source": [
    "df = pd.read_csv('data/da_2023.csv')\n",
    "df.shape"
   ]
  },
  {
   "cell_type": "code",
   "execution_count": 20,
   "id": "7f3de841-0c75-4404-9602-f91211661f58",
   "metadata": {},
   "outputs": [
    {
     "data": {
      "text/plain": [
       "Index(['idCarpeta', 'Año_inicio', 'Mes_inicio', 'FechaInicio', 'Delito',\n",
       "       'Categoria', 'Sexo', 'Edad', 'TipoPersona', 'CalidadJuridica',\n",
       "       'competencia', 'Año_hecho', 'Mes_hecho', 'FechaHecho', 'HoraHecho',\n",
       "       'HoraInicio', 'alcaldia_hechos', 'municipio_hechos', 'colonia_datos',\n",
       "       'fgj_colonia_registro', 'latitud', 'longitud'],\n",
       "      dtype='object')"
      ]
     },
     "execution_count": 20,
     "metadata": {},
     "output_type": "execute_result"
    }
   ],
   "source": [
    "df.columns"
   ]
  },
  {
   "cell_type": "code",
   "execution_count": 21,
   "id": "6f9b8a81-3364-428d-a43b-2b1e95e83af3",
   "metadata": {},
   "outputs": [
    {
     "data": {
      "text/html": [
       "<div>\n",
       "<style scoped>\n",
       "    .dataframe tbody tr th:only-of-type {\n",
       "        vertical-align: middle;\n",
       "    }\n",
       "\n",
       "    .dataframe tbody tr th {\n",
       "        vertical-align: top;\n",
       "    }\n",
       "\n",
       "    .dataframe thead th {\n",
       "        text-align: right;\n",
       "    }\n",
       "</style>\n",
       "<table border=\"1\" class=\"dataframe\">\n",
       "  <thead>\n",
       "    <tr style=\"text-align: right;\">\n",
       "      <th></th>\n",
       "      <th>idCarpeta</th>\n",
       "      <th>Año_inicio</th>\n",
       "      <th>Mes_inicio</th>\n",
       "      <th>FechaInicio</th>\n",
       "      <th>Delito</th>\n",
       "      <th>Categoria</th>\n",
       "      <th>Sexo</th>\n",
       "      <th>Edad</th>\n",
       "      <th>TipoPersona</th>\n",
       "      <th>CalidadJuridica</th>\n",
       "      <th>...</th>\n",
       "      <th>Mes_hecho</th>\n",
       "      <th>FechaHecho</th>\n",
       "      <th>HoraHecho</th>\n",
       "      <th>HoraInicio</th>\n",
       "      <th>alcaldia_hechos</th>\n",
       "      <th>municipio_hechos</th>\n",
       "      <th>colonia_datos</th>\n",
       "      <th>fgj_colonia_registro</th>\n",
       "      <th>latitud</th>\n",
       "      <th>longitud</th>\n",
       "    </tr>\n",
       "  </thead>\n",
       "  <tbody>\n",
       "    <tr>\n",
       "      <th>0</th>\n",
       "      <td>9361878</td>\n",
       "      <td>2023</td>\n",
       "      <td>Enero</td>\n",
       "      <td>2023-01-01</td>\n",
       "      <td>LESIONES CULPOSAS POR TRANSITO VEHICULAR EN CO...</td>\n",
       "      <td>DELITO DE BAJO IMPACTO</td>\n",
       "      <td>NaN</td>\n",
       "      <td>NaN</td>\n",
       "      <td>MORAL</td>\n",
       "      <td>OFENDIDO</td>\n",
       "      <td>...</td>\n",
       "      <td>Diciembre</td>\n",
       "      <td>2022-12-31</td>\n",
       "      <td>22:08:00</td>\n",
       "      <td>00:09:00</td>\n",
       "      <td>COYOACAN</td>\n",
       "      <td>NaN</td>\n",
       "      <td>INSURGENTES CUICUILCO</td>\n",
       "      <td>INSURGENTES CUICUILCO</td>\n",
       "      <td>19.305532</td>\n",
       "      <td>-99.186308</td>\n",
       "    </tr>\n",
       "    <tr>\n",
       "      <th>1</th>\n",
       "      <td>9361879</td>\n",
       "      <td>2023</td>\n",
       "      <td>Enero</td>\n",
       "      <td>2023-01-01</td>\n",
       "      <td>ROBO A TRANSEUNTE EN VIA PUBLICA CON VIOLENCIA</td>\n",
       "      <td>ROBO A TRANSEUNTE EN VÍA PÚBLICA CON Y SIN VIO...</td>\n",
       "      <td>Masculino</td>\n",
       "      <td>50.0</td>\n",
       "      <td>FISICA</td>\n",
       "      <td>VICTIMA Y DENUNCIANTE</td>\n",
       "      <td>...</td>\n",
       "      <td>Diciembre</td>\n",
       "      <td>2022-12-31</td>\n",
       "      <td>23:50:00</td>\n",
       "      <td>00:41:00</td>\n",
       "      <td>VENUSTIANO CARRANZA</td>\n",
       "      <td>NaN</td>\n",
       "      <td>MOCTEZUMA 2A SECCION IV</td>\n",
       "      <td>MOCTEZUMA 2A SECCIÓN</td>\n",
       "      <td>19.429797</td>\n",
       "      <td>-99.098672</td>\n",
       "    </tr>\n",
       "    <tr>\n",
       "      <th>2</th>\n",
       "      <td>9361880</td>\n",
       "      <td>2023</td>\n",
       "      <td>Enero</td>\n",
       "      <td>2023-01-01</td>\n",
       "      <td>ROBO DE VEHICULO DE SERVICIO PARTICULAR CON VI...</td>\n",
       "      <td>ROBO DE VEHÍCULO CON Y SIN VIOLENCIA</td>\n",
       "      <td>Masculino</td>\n",
       "      <td>34.0</td>\n",
       "      <td>FISICA</td>\n",
       "      <td>VICTIMA Y DENUNCIANTE</td>\n",
       "      <td>...</td>\n",
       "      <td>Diciembre</td>\n",
       "      <td>2022-12-31</td>\n",
       "      <td>20:30:00</td>\n",
       "      <td>00:44:00</td>\n",
       "      <td>GUSTAVO A. MADERO</td>\n",
       "      <td>NaN</td>\n",
       "      <td>SAN JUAN DE ARAGON 3A SECCION (U HAB) I</td>\n",
       "      <td>SAN JUAN DE ARAGÓN III SECCIÓN</td>\n",
       "      <td>19.451641</td>\n",
       "      <td>-99.076529</td>\n",
       "    </tr>\n",
       "    <tr>\n",
       "      <th>3</th>\n",
       "      <td>9361881</td>\n",
       "      <td>2023</td>\n",
       "      <td>Enero</td>\n",
       "      <td>2023-01-01</td>\n",
       "      <td>LESIONES CULPOSAS POR TRANSITO VEHICULAR EN CO...</td>\n",
       "      <td>DELITO DE BAJO IMPACTO</td>\n",
       "      <td>Masculino</td>\n",
       "      <td>NaN</td>\n",
       "      <td>FISICA</td>\n",
       "      <td>LESIONADO</td>\n",
       "      <td>...</td>\n",
       "      <td>Diciembre</td>\n",
       "      <td>2022-12-31</td>\n",
       "      <td>23:30:00</td>\n",
       "      <td>00:47:00</td>\n",
       "      <td>COYOACAN</td>\n",
       "      <td>NaN</td>\n",
       "      <td>XOTEPINGO</td>\n",
       "      <td>XOTEPINGO</td>\n",
       "      <td>19.323245</td>\n",
       "      <td>-99.138016</td>\n",
       "    </tr>\n",
       "    <tr>\n",
       "      <th>4</th>\n",
       "      <td>9361882</td>\n",
       "      <td>2023</td>\n",
       "      <td>Enero</td>\n",
       "      <td>2023-01-01</td>\n",
       "      <td>PERDIDA DE LA VIDA POR OTRAS CAUSAS</td>\n",
       "      <td>HECHO NO DELICTIVO</td>\n",
       "      <td>Masculino</td>\n",
       "      <td>90.0</td>\n",
       "      <td>FISICA</td>\n",
       "      <td>CADAVER</td>\n",
       "      <td>...</td>\n",
       "      <td>Diciembre</td>\n",
       "      <td>2022-12-31</td>\n",
       "      <td>10:30:00</td>\n",
       "      <td>00:56:00</td>\n",
       "      <td>GUSTAVO A. MADERO</td>\n",
       "      <td>NaN</td>\n",
       "      <td>NaN</td>\n",
       "      <td>NaN</td>\n",
       "      <td>NaN</td>\n",
       "      <td>NaN</td>\n",
       "    </tr>\n",
       "  </tbody>\n",
       "</table>\n",
       "<p>5 rows × 22 columns</p>\n",
       "</div>"
      ],
      "text/plain": [
       "   idCarpeta  Año_inicio Mes_inicio FechaInicio  \\\n",
       "0    9361878        2023      Enero  2023-01-01   \n",
       "1    9361879        2023      Enero  2023-01-01   \n",
       "2    9361880        2023      Enero  2023-01-01   \n",
       "3    9361881        2023      Enero  2023-01-01   \n",
       "4    9361882        2023      Enero  2023-01-01   \n",
       "\n",
       "                                              Delito  \\\n",
       "0  LESIONES CULPOSAS POR TRANSITO VEHICULAR EN CO...   \n",
       "1     ROBO A TRANSEUNTE EN VIA PUBLICA CON VIOLENCIA   \n",
       "2  ROBO DE VEHICULO DE SERVICIO PARTICULAR CON VI...   \n",
       "3  LESIONES CULPOSAS POR TRANSITO VEHICULAR EN CO...   \n",
       "4                PERDIDA DE LA VIDA POR OTRAS CAUSAS   \n",
       "\n",
       "                                           Categoria       Sexo  Edad  \\\n",
       "0                             DELITO DE BAJO IMPACTO        NaN   NaN   \n",
       "1  ROBO A TRANSEUNTE EN VÍA PÚBLICA CON Y SIN VIO...  Masculino  50.0   \n",
       "2               ROBO DE VEHÍCULO CON Y SIN VIOLENCIA  Masculino  34.0   \n",
       "3                             DELITO DE BAJO IMPACTO  Masculino   NaN   \n",
       "4                                 HECHO NO DELICTIVO  Masculino  90.0   \n",
       "\n",
       "  TipoPersona        CalidadJuridica  ...  Mes_hecho  FechaHecho HoraHecho  \\\n",
       "0       MORAL               OFENDIDO  ...  Diciembre  2022-12-31  22:08:00   \n",
       "1      FISICA  VICTIMA Y DENUNCIANTE  ...  Diciembre  2022-12-31  23:50:00   \n",
       "2      FISICA  VICTIMA Y DENUNCIANTE  ...  Diciembre  2022-12-31  20:30:00   \n",
       "3      FISICA              LESIONADO  ...  Diciembre  2022-12-31  23:30:00   \n",
       "4      FISICA                CADAVER  ...  Diciembre  2022-12-31  10:30:00   \n",
       "\n",
       "  HoraInicio      alcaldia_hechos municipio_hechos  \\\n",
       "0   00:09:00             COYOACAN              NaN   \n",
       "1   00:41:00  VENUSTIANO CARRANZA              NaN   \n",
       "2   00:44:00    GUSTAVO A. MADERO              NaN   \n",
       "3   00:47:00             COYOACAN              NaN   \n",
       "4   00:56:00    GUSTAVO A. MADERO              NaN   \n",
       "\n",
       "                             colonia_datos            fgj_colonia_registro  \\\n",
       "0                    INSURGENTES CUICUILCO           INSURGENTES CUICUILCO   \n",
       "1                  MOCTEZUMA 2A SECCION IV            MOCTEZUMA 2A SECCIÓN   \n",
       "2  SAN JUAN DE ARAGON 3A SECCION (U HAB) I  SAN JUAN DE ARAGÓN III SECCIÓN   \n",
       "3                                XOTEPINGO                       XOTEPINGO   \n",
       "4                                      NaN                             NaN   \n",
       "\n",
       "     latitud   longitud  \n",
       "0  19.305532 -99.186308  \n",
       "1  19.429797 -99.098672  \n",
       "2  19.451641 -99.076529  \n",
       "3  19.323245 -99.138016  \n",
       "4        NaN        NaN  \n",
       "\n",
       "[5 rows x 22 columns]"
      ]
     },
     "execution_count": 21,
     "metadata": {},
     "output_type": "execute_result"
    }
   ],
   "source": [
    "df.head()"
   ]
  },
  {
   "cell_type": "code",
   "execution_count": 10,
   "id": "b6dabcec-9364-4a09-a083-5d164e31618c",
   "metadata": {},
   "outputs": [
    {
     "data": {
      "text/plain": [
       "idCarpeta                 int64\n",
       "Año_inicio                int64\n",
       "Mes_inicio               object\n",
       "FechaInicio              object\n",
       "Delito                   object\n",
       "Categoria                object\n",
       "Sexo                     object\n",
       "Edad                    float64\n",
       "TipoPersona              object\n",
       "CalidadJuridica          object\n",
       "competencia              object\n",
       "Año_hecho               float64\n",
       "Mes_hecho                object\n",
       "FechaHecho               object\n",
       "HoraHecho                object\n",
       "HoraInicio               object\n",
       "alcaldia_hechos          object\n",
       "municipio_hechos         object\n",
       "colonia_datos            object\n",
       "fgj_colonia_registro     object\n",
       "latitud                 float64\n",
       "longitud                float64\n",
       "dtype: object"
      ]
     },
     "execution_count": 10,
     "metadata": {},
     "output_type": "execute_result"
    }
   ],
   "source": [
    "df.dtypes"
   ]
  },
  {
   "cell_type": "code",
   "execution_count": 22,
   "id": "e37d0db8-9cd0-4dfc-81ca-5b86398b2d97",
   "metadata": {},
   "outputs": [
    {
     "data": {
      "text/plain": [
       "idCarpeta               61333\n",
       "Año_inicio                  1\n",
       "Mes_inicio                  3\n",
       "FechaInicio                90\n",
       "Delito                    255\n",
       "Categoria                  16\n",
       "Sexo                        2\n",
       "Edad                      100\n",
       "TipoPersona                 2\n",
       "CalidadJuridica             5\n",
       "competencia                 3\n",
       "Año_hecho                  39\n",
       "Mes_hecho                  12\n",
       "FechaHecho               1434\n",
       "HoraHecho                1441\n",
       "HoraInicio               1455\n",
       "alcaldia_hechos            18\n",
       "municipio_hechos           91\n",
       "colonia_datos            1655\n",
       "fgj_colonia_registro     1538\n",
       "latitud                 57654\n",
       "longitud                57653\n",
       "dtype: int64"
      ]
     },
     "execution_count": 22,
     "metadata": {},
     "output_type": "execute_result"
    }
   ],
   "source": [
    "df.nunique()"
   ]
  },
  {
   "cell_type": "code",
   "execution_count": 27,
   "id": "5b567f57-14a8-4355-a8d5-3ffd7422ccd3",
   "metadata": {},
   "outputs": [
    {
     "data": {
      "text/plain": [
       "count    64337.000000\n",
       "mean      2022.731616\n",
       "std          1.271916\n",
       "min       1962.000000\n",
       "25%       2023.000000\n",
       "50%       2023.000000\n",
       "75%       2023.000000\n",
       "max       2023.000000\n",
       "Name: Año_hecho, dtype: float64"
      ]
     },
     "execution_count": 27,
     "metadata": {},
     "output_type": "execute_result"
    }
   ],
   "source": [
    "df[\"Año_hecho\"].describe()"
   ]
  },
  {
   "cell_type": "markdown",
   "id": "fa7bde07-3104-4864-afed-bcb91e94e55d",
   "metadata": {},
   "source": [
    "### Tenemos delitos cometidos desde el año **1962** a los cuáles se les abrió carpetas de investigación hasta el año **2023**"
   ]
  },
  {
   "cell_type": "code",
   "execution_count": 28,
   "id": "777da5ce-8363-45e1-9cdc-ce8cba92e474",
   "metadata": {},
   "outputs": [
    {
     "data": {
      "text/plain": [
       "array([2022., 2023., 2021., 2018., 2019., 2020., 2013., 1998., 2007.,\n",
       "       2017., 2014., 2015., 2010., 2011.,   nan, 2003., 2016., 2005.,\n",
       "       2000., 2006., 1993., 1995., 2012., 2002., 2008., 1969., 1987.,\n",
       "       2009., 1967., 1990., 1999., 2004., 1994., 1974., 1976., 1985.,\n",
       "       1962., 1991., 1972., 2001.])"
      ]
     },
     "execution_count": 28,
     "metadata": {},
     "output_type": "execute_result"
    }
   ],
   "source": [
    "df[\"Año_hecho\"].unique()"
   ]
  },
  {
   "cell_type": "code",
   "execution_count": 47,
   "id": "bc8a0914-5a88-4e96-b722-fb3efbf928fa",
   "metadata": {},
   "outputs": [
    {
     "data": {
      "text/plain": [
       "array(['DELITO DE BAJO IMPACTO',\n",
       "       'ROBO A TRANSEUNTE EN VÍA PÚBLICA CON Y SIN VIOLENCIA',\n",
       "       'ROBO DE VEHÍCULO CON Y SIN VIOLENCIA', 'HECHO NO DELICTIVO',\n",
       "       'LESIONES DOLOSAS POR DISPARO DE ARMA DE FUEGO', 'VIOLACIÓN',\n",
       "       'ROBO A NEGOCIO CON VIOLENCIA',\n",
       "       'ROBO A REPARTIDOR CON Y SIN VIOLENCIA', 'HOMICIDIO DOLOSO',\n",
       "       'ROBO A PASAJERO A BORDO DE MICROBUS CON Y SIN VIOLENCIA',\n",
       "       'ROBO A PASAJERO A BORDO DEL METRO CON Y SIN VIOLENCIA',\n",
       "       'ROBO A PASAJERO A BORDO DE TAXI CON VIOLENCIA',\n",
       "       'ROBO A CUENTAHABIENTE SALIENDO DEL CAJERO CON VIOLENCIA',\n",
       "       'ROBO A CASA HABITACIÓN CON VIOLENCIA',\n",
       "       'ROBO A TRANSPORTISTA CON Y SIN VIOLENCIA', 'SECUESTRO'],\n",
       "      dtype=object)"
      ]
     },
     "execution_count": 47,
     "metadata": {},
     "output_type": "execute_result"
    }
   ],
   "source": [
    "df[\"Categoria\"].unique()"
   ]
  },
  {
   "cell_type": "code",
   "execution_count": 42,
   "id": "69350f73-4c99-4b55-80d1-ff3eabbb8b93",
   "metadata": {},
   "outputs": [
    {
     "data": {
      "text/html": [
       "<div>\n",
       "<style scoped>\n",
       "    .dataframe tbody tr th:only-of-type {\n",
       "        vertical-align: middle;\n",
       "    }\n",
       "\n",
       "    .dataframe tbody tr th {\n",
       "        vertical-align: top;\n",
       "    }\n",
       "\n",
       "    .dataframe thead th {\n",
       "        text-align: right;\n",
       "    }\n",
       "</style>\n",
       "<table border=\"1\" class=\"dataframe\">\n",
       "  <thead>\n",
       "    <tr style=\"text-align: right;\">\n",
       "      <th></th>\n",
       "      <th>idCarpeta</th>\n",
       "      <th>Año_inicio</th>\n",
       "      <th>Mes_inicio</th>\n",
       "      <th>FechaInicio</th>\n",
       "      <th>Delito</th>\n",
       "      <th>Categoria</th>\n",
       "      <th>Sexo</th>\n",
       "      <th>Edad</th>\n",
       "      <th>TipoPersona</th>\n",
       "      <th>CalidadJuridica</th>\n",
       "      <th>...</th>\n",
       "      <th>Mes_hecho</th>\n",
       "      <th>FechaHecho</th>\n",
       "      <th>HoraHecho</th>\n",
       "      <th>HoraInicio</th>\n",
       "      <th>alcaldia_hechos</th>\n",
       "      <th>municipio_hechos</th>\n",
       "      <th>colonia_datos</th>\n",
       "      <th>fgj_colonia_registro</th>\n",
       "      <th>latitud</th>\n",
       "      <th>longitud</th>\n",
       "    </tr>\n",
       "  </thead>\n",
       "  <tbody>\n",
       "    <tr>\n",
       "      <th>44757</th>\n",
       "      <td>9408996</td>\n",
       "      <td>2023</td>\n",
       "      <td>Marzo</td>\n",
       "      <td>2023-03-06</td>\n",
       "      <td>AMENAZAS</td>\n",
       "      <td>DELITO DE BAJO IMPACTO</td>\n",
       "      <td>Masculino</td>\n",
       "      <td>60.0</td>\n",
       "      <td>FISICA</td>\n",
       "      <td>VICTIMA Y DENUNCIANTE</td>\n",
       "      <td>...</td>\n",
       "      <td>Septiembre</td>\n",
       "      <td>1962-09-11</td>\n",
       "      <td>13:45:00</td>\n",
       "      <td>18:39:00</td>\n",
       "      <td>COYOACAN</td>\n",
       "      <td>NaN</td>\n",
       "      <td>DEL CARMEN</td>\n",
       "      <td>DEL CARMEN</td>\n",
       "      <td>19.351477</td>\n",
       "      <td>-99.158951</td>\n",
       "    </tr>\n",
       "  </tbody>\n",
       "</table>\n",
       "<p>1 rows × 22 columns</p>\n",
       "</div>"
      ],
      "text/plain": [
       "       idCarpeta  Año_inicio Mes_inicio FechaInicio    Delito  \\\n",
       "44757    9408996        2023      Marzo  2023-03-06  AMENAZAS   \n",
       "\n",
       "                    Categoria       Sexo  Edad TipoPersona  \\\n",
       "44757  DELITO DE BAJO IMPACTO  Masculino  60.0      FISICA   \n",
       "\n",
       "             CalidadJuridica  ...   Mes_hecho  FechaHecho HoraHecho  \\\n",
       "44757  VICTIMA Y DENUNCIANTE  ...  Septiembre  1962-09-11  13:45:00   \n",
       "\n",
       "      HoraInicio alcaldia_hechos municipio_hechos colonia_datos  \\\n",
       "44757   18:39:00        COYOACAN              NaN    DEL CARMEN   \n",
       "\n",
       "      fgj_colonia_registro    latitud   longitud  \n",
       "44757           DEL CARMEN  19.351477 -99.158951  \n",
       "\n",
       "[1 rows x 22 columns]"
      ]
     },
     "execution_count": 42,
     "metadata": {},
     "output_type": "execute_result"
    }
   ],
   "source": [
    "df.loc[df[\"Año_hecho\"]==1962]"
   ]
  },
  {
   "cell_type": "code",
   "execution_count": 51,
   "id": "c27f0bcd-3232-422a-ba1e-e15ca3bec5c4",
   "metadata": {},
   "outputs": [
    {
     "data": {
      "text/plain": [
       "array(['FUERO COMUN', 'HECHOS NO DELICTIVOS', 'INCOMPETENCIAS'],\n",
       "      dtype=object)"
      ]
     },
     "execution_count": 51,
     "metadata": {},
     "output_type": "execute_result"
    }
   ],
   "source": [
    "df[\"competencia\"].unique()"
   ]
  },
  {
   "cell_type": "markdown",
   "id": "05b1fb2a-4ea2-48ed-9f53-ee0865bbbc18",
   "metadata": {},
   "source": [
    "## Resumen del entendimiento de los datos\n",
    "\n",
    "1. Existen carpetas de investigación sobre delitos cometidos desde 1962, abiertas hasta el 2023.\n",
    "\n",
    "2. Tenemos **16 categorías de delitos**.\n",
    "\n",
    "3. Hay **5 tipos de calidades jurídicas**.\n",
    "\n",
    "4. Describiendo los **3 competencias de delitos**:\n",
    "    \n",
    "    * Fuero común: Aquellos delitos que afectas directamente a la persona.\n",
    "    * Hechos no delictivos: No son delitos.\n",
    "    * Incompetencias: La persona es incapaz de ser juzgada o de ser responsable de sus acciones debido a condiciones físicas o mentales.\n",
    "    \n",
    "    \n",
    "    \n",
    "5. En la columna de alcaldías estamos considerando un **extra llamado 'fuera de la ciudad de méxico'**\n",
    "\n",
    "6. Tenemos **255 tipos de delitos**.\n",
    "\n",
    "---\n",
    "\n",
    "#### Recomendaciones en el proceso de limpieza\n",
    "\n",
    "- Eliminar las siguientes columnas:\n",
    "    \n",
    "        1. idCarpeta\n",
    "        \n",
    "        \n",
    "- Renombrar las siguientes columnas:\n",
    "\n",
    "        1. Año_hecho\n",
    "        2. Año_inicio\n",
    "        3.fgj_colonia_registro\n",
    "        \n",
    "\n",
    "- Cambiar el tipo de dato a la columna edades y al año_hecho\n",
    "\n",
    "- Estandarizar los nombres de las columnas a minusculas"
   ]
  },
  {
   "cell_type": "code",
   "execution_count": null,
   "id": "3fce32ae-6a2b-4325-8b44-e59593434353",
   "metadata": {},
   "outputs": [],
   "source": []
  }
 ],
 "metadata": {
  "kernelspec": {
   "display_name": "Python 3 (ipykernel)",
   "language": "python",
   "name": "python3"
  },
  "language_info": {
   "codemirror_mode": {
    "name": "ipython",
    "version": 3
   },
   "file_extension": ".py",
   "mimetype": "text/x-python",
   "name": "python",
   "nbconvert_exporter": "python",
   "pygments_lexer": "ipython3",
   "version": "3.10.9"
  }
 },
 "nbformat": 4,
 "nbformat_minor": 5
}
