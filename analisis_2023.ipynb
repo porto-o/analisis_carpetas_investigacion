{
 "cells": [
  {
   "cell_type": "markdown",
   "id": "dd2c2f36",
   "metadata": {},
   "source": [
    "# Análsis de carpetas de investigación del 2023\n",
    "\n",
    "Estos datos corresponden al periodo del 01/Enero/2023 al 31/Marzo/2023"
   ]
  },
  {
   "cell_type": "code",
   "execution_count": 70,
   "id": "1624d0a2",
   "metadata": {
    "tags": []
   },
   "outputs": [],
   "source": [
    "import pandas as pd\n",
    "import numpy as np\n",
    "import matplotlib.pyplot as plt\n",
    "import seaborn as sb\n",
    "from sklearn.impute import KNNImputer\n",
    "import math\n",
    "import re"
   ]
  },
  {
   "cell_type": "markdown",
   "id": "6597331c",
   "metadata": {
    "jp-MarkdownHeadingCollapsed": true,
    "tags": []
   },
   "source": [
    "## Entendimiento de los datos"
   ]
  },
  {
   "cell_type": "code",
   "execution_count": 50,
   "id": "4681abf2",
   "metadata": {
    "tags": []
   },
   "outputs": [],
   "source": [
    "df = pd.read_csv('data/da_2023.csv')"
   ]
  },
  {
   "cell_type": "code",
   "execution_count": 51,
   "id": "1374a292",
   "metadata": {
    "tags": []
   },
   "outputs": [
    {
     "data": {
      "text/plain": [
       "Index(['idCarpeta', 'Año_inicio', 'Mes_inicio', 'FechaInicio', 'Delito',\n",
       "       'Categoria', 'Sexo', 'Edad', 'TipoPersona', 'CalidadJuridica',\n",
       "       'competencia', 'Año_hecho', 'Mes_hecho', 'FechaHecho', 'HoraHecho',\n",
       "       'HoraInicio', 'alcaldia_hechos', 'municipio_hechos', 'colonia_datos',\n",
       "       'fgj_colonia_registro', 'latitud', 'longitud'],\n",
       "      dtype='object')"
      ]
     },
     "execution_count": 51,
     "metadata": {},
     "output_type": "execute_result"
    }
   ],
   "source": [
    "df.columns"
   ]
  },
  {
   "cell_type": "code",
   "execution_count": 52,
   "id": "3cc503b6",
   "metadata": {
    "tags": []
   },
   "outputs": [
    {
     "data": {
      "text/html": [
       "<div>\n",
       "<style scoped>\n",
       "    .dataframe tbody tr th:only-of-type {\n",
       "        vertical-align: middle;\n",
       "    }\n",
       "\n",
       "    .dataframe tbody tr th {\n",
       "        vertical-align: top;\n",
       "    }\n",
       "\n",
       "    .dataframe thead th {\n",
       "        text-align: right;\n",
       "    }\n",
       "</style>\n",
       "<table border=\"1\" class=\"dataframe\">\n",
       "  <thead>\n",
       "    <tr style=\"text-align: right;\">\n",
       "      <th></th>\n",
       "      <th>idCarpeta</th>\n",
       "      <th>Año_inicio</th>\n",
       "      <th>Mes_inicio</th>\n",
       "      <th>FechaInicio</th>\n",
       "      <th>Delito</th>\n",
       "      <th>Categoria</th>\n",
       "      <th>Sexo</th>\n",
       "      <th>Edad</th>\n",
       "      <th>TipoPersona</th>\n",
       "      <th>CalidadJuridica</th>\n",
       "      <th>...</th>\n",
       "      <th>Mes_hecho</th>\n",
       "      <th>FechaHecho</th>\n",
       "      <th>HoraHecho</th>\n",
       "      <th>HoraInicio</th>\n",
       "      <th>alcaldia_hechos</th>\n",
       "      <th>municipio_hechos</th>\n",
       "      <th>colonia_datos</th>\n",
       "      <th>fgj_colonia_registro</th>\n",
       "      <th>latitud</th>\n",
       "      <th>longitud</th>\n",
       "    </tr>\n",
       "  </thead>\n",
       "  <tbody>\n",
       "    <tr>\n",
       "      <th>0</th>\n",
       "      <td>9361878</td>\n",
       "      <td>2023</td>\n",
       "      <td>Enero</td>\n",
       "      <td>2023-01-01</td>\n",
       "      <td>LESIONES CULPOSAS POR TRANSITO VEHICULAR EN CO...</td>\n",
       "      <td>DELITO DE BAJO IMPACTO</td>\n",
       "      <td>NaN</td>\n",
       "      <td>NaN</td>\n",
       "      <td>MORAL</td>\n",
       "      <td>OFENDIDO</td>\n",
       "      <td>...</td>\n",
       "      <td>Diciembre</td>\n",
       "      <td>2022-12-31</td>\n",
       "      <td>22:08:00</td>\n",
       "      <td>00:09:00</td>\n",
       "      <td>COYOACAN</td>\n",
       "      <td>NaN</td>\n",
       "      <td>INSURGENTES CUICUILCO</td>\n",
       "      <td>INSURGENTES CUICUILCO</td>\n",
       "      <td>19.305532</td>\n",
       "      <td>-99.186308</td>\n",
       "    </tr>\n",
       "  </tbody>\n",
       "</table>\n",
       "<p>1 rows × 22 columns</p>\n",
       "</div>"
      ],
      "text/plain": [
       "   idCarpeta  Año_inicio Mes_inicio FechaInicio  \\\n",
       "0    9361878        2023      Enero  2023-01-01   \n",
       "\n",
       "                                              Delito               Categoria  \\\n",
       "0  LESIONES CULPOSAS POR TRANSITO VEHICULAR EN CO...  DELITO DE BAJO IMPACTO   \n",
       "\n",
       "  Sexo  Edad TipoPersona CalidadJuridica  ...  Mes_hecho  FechaHecho  \\\n",
       "0  NaN   NaN       MORAL        OFENDIDO  ...  Diciembre  2022-12-31   \n",
       "\n",
       "  HoraHecho HoraInicio alcaldia_hechos municipio_hechos  \\\n",
       "0  22:08:00   00:09:00        COYOACAN              NaN   \n",
       "\n",
       "           colonia_datos   fgj_colonia_registro    latitud   longitud  \n",
       "0  INSURGENTES CUICUILCO  INSURGENTES CUICUILCO  19.305532 -99.186308  \n",
       "\n",
       "[1 rows x 22 columns]"
      ]
     },
     "execution_count": 52,
     "metadata": {},
     "output_type": "execute_result"
    }
   ],
   "source": [
    "df.head(1)"
   ]
  },
  {
   "cell_type": "code",
   "execution_count": 53,
   "id": "62cbd878",
   "metadata": {
    "tags": []
   },
   "outputs": [
    {
     "data": {
      "text/plain": [
       "idCarpeta                 int64\n",
       "Año_inicio                int64\n",
       "Mes_inicio               object\n",
       "FechaInicio              object\n",
       "Delito                   object\n",
       "Categoria                object\n",
       "Sexo                     object\n",
       "Edad                    float64\n",
       "TipoPersona              object\n",
       "CalidadJuridica          object\n",
       "competencia              object\n",
       "Año_hecho               float64\n",
       "Mes_hecho                object\n",
       "FechaHecho               object\n",
       "HoraHecho                object\n",
       "HoraInicio               object\n",
       "alcaldia_hechos          object\n",
       "municipio_hechos         object\n",
       "colonia_datos            object\n",
       "fgj_colonia_registro     object\n",
       "latitud                 float64\n",
       "longitud                float64\n",
       "dtype: object"
      ]
     },
     "execution_count": 53,
     "metadata": {},
     "output_type": "execute_result"
    }
   ],
   "source": [
    "df.dtypes"
   ]
  },
  {
   "cell_type": "code",
   "execution_count": 54,
   "id": "0e2edddc",
   "metadata": {
    "tags": []
   },
   "outputs": [
    {
     "data": {
      "text/plain": [
       "idCarpeta               61333\n",
       "Año_inicio                  1\n",
       "Mes_inicio                  3\n",
       "FechaInicio                90\n",
       "Delito                    255\n",
       "Categoria                  16\n",
       "Sexo                        2\n",
       "Edad                      100\n",
       "TipoPersona                 2\n",
       "CalidadJuridica             5\n",
       "competencia                 3\n",
       "Año_hecho                  39\n",
       "Mes_hecho                  12\n",
       "FechaHecho               1434\n",
       "HoraHecho                1441\n",
       "HoraInicio               1455\n",
       "alcaldia_hechos            18\n",
       "municipio_hechos           91\n",
       "colonia_datos            1655\n",
       "fgj_colonia_registro     1538\n",
       "latitud                 57654\n",
       "longitud                57653\n",
       "dtype: int64"
      ]
     },
     "execution_count": 54,
     "metadata": {},
     "output_type": "execute_result"
    }
   ],
   "source": [
    "df.nunique()"
   ]
  },
  {
   "cell_type": "code",
   "execution_count": 55,
   "id": "081dac64",
   "metadata": {
    "tags": []
   },
   "outputs": [
    {
     "data": {
      "text/plain": [
       "count    64337.000000\n",
       "mean      2022.731616\n",
       "std          1.271916\n",
       "min       1962.000000\n",
       "25%       2023.000000\n",
       "50%       2023.000000\n",
       "75%       2023.000000\n",
       "max       2023.000000\n",
       "Name: Año_hecho, dtype: float64"
      ]
     },
     "execution_count": 55,
     "metadata": {},
     "output_type": "execute_result"
    }
   ],
   "source": [
    "df[\"Año_hecho\"].describe()"
   ]
  },
  {
   "cell_type": "markdown",
   "id": "8fd4964f",
   "metadata": {
    "jp-MarkdownHeadingCollapsed": true,
    "tags": []
   },
   "source": [
    "### Tenemos delitos cometidos desde el año **1962** a los cuáles se les abrió carpetas de investigación hasta el año **2023**"
   ]
  },
  {
   "cell_type": "code",
   "execution_count": 56,
   "id": "6f1c0a3e",
   "metadata": {
    "tags": []
   },
   "outputs": [
    {
     "data": {
      "text/plain": [
       "array([2022., 2023., 2021., 2018., 2019., 2020., 2013., 1998., 2007.,\n",
       "       2017., 2014., 2015., 2010., 2011.,   nan, 2003., 2016., 2005.,\n",
       "       2000., 2006., 1993., 1995., 2012., 2002., 2008., 1969., 1987.,\n",
       "       2009., 1967., 1990., 1999., 2004., 1994., 1974., 1976., 1985.,\n",
       "       1962., 1991., 1972., 2001.])"
      ]
     },
     "execution_count": 56,
     "metadata": {},
     "output_type": "execute_result"
    }
   ],
   "source": [
    "df[\"Año_hecho\"].unique()"
   ]
  },
  {
   "cell_type": "code",
   "execution_count": 57,
   "id": "a3942110",
   "metadata": {
    "tags": []
   },
   "outputs": [
    {
     "data": {
      "text/plain": [
       "array(['DELITO DE BAJO IMPACTO',\n",
       "       'ROBO A TRANSEUNTE EN VÍA PÚBLICA CON Y SIN VIOLENCIA',\n",
       "       'ROBO DE VEHÍCULO CON Y SIN VIOLENCIA', 'HECHO NO DELICTIVO',\n",
       "       'LESIONES DOLOSAS POR DISPARO DE ARMA DE FUEGO', 'VIOLACIÓN',\n",
       "       'ROBO A NEGOCIO CON VIOLENCIA',\n",
       "       'ROBO A REPARTIDOR CON Y SIN VIOLENCIA', 'HOMICIDIO DOLOSO',\n",
       "       'ROBO A PASAJERO A BORDO DE MICROBUS CON Y SIN VIOLENCIA',\n",
       "       'ROBO A PASAJERO A BORDO DEL METRO CON Y SIN VIOLENCIA',\n",
       "       'ROBO A PASAJERO A BORDO DE TAXI CON VIOLENCIA',\n",
       "       'ROBO A CUENTAHABIENTE SALIENDO DEL CAJERO CON VIOLENCIA',\n",
       "       'ROBO A CASA HABITACIÓN CON VIOLENCIA',\n",
       "       'ROBO A TRANSPORTISTA CON Y SIN VIOLENCIA', 'SECUESTRO'],\n",
       "      dtype=object)"
      ]
     },
     "execution_count": 57,
     "metadata": {},
     "output_type": "execute_result"
    }
   ],
   "source": [
    "df[\"Categoria\"].unique()"
   ]
  },
  {
   "cell_type": "code",
   "execution_count": 58,
   "id": "d6950310",
   "metadata": {
    "tags": []
   },
   "outputs": [
    {
     "data": {
      "text/html": [
       "<div>\n",
       "<style scoped>\n",
       "    .dataframe tbody tr th:only-of-type {\n",
       "        vertical-align: middle;\n",
       "    }\n",
       "\n",
       "    .dataframe tbody tr th {\n",
       "        vertical-align: top;\n",
       "    }\n",
       "\n",
       "    .dataframe thead th {\n",
       "        text-align: right;\n",
       "    }\n",
       "</style>\n",
       "<table border=\"1\" class=\"dataframe\">\n",
       "  <thead>\n",
       "    <tr style=\"text-align: right;\">\n",
       "      <th></th>\n",
       "      <th>idCarpeta</th>\n",
       "      <th>Año_inicio</th>\n",
       "      <th>Mes_inicio</th>\n",
       "      <th>FechaInicio</th>\n",
       "      <th>Delito</th>\n",
       "      <th>Categoria</th>\n",
       "      <th>Sexo</th>\n",
       "      <th>Edad</th>\n",
       "      <th>TipoPersona</th>\n",
       "      <th>CalidadJuridica</th>\n",
       "      <th>...</th>\n",
       "      <th>Mes_hecho</th>\n",
       "      <th>FechaHecho</th>\n",
       "      <th>HoraHecho</th>\n",
       "      <th>HoraInicio</th>\n",
       "      <th>alcaldia_hechos</th>\n",
       "      <th>municipio_hechos</th>\n",
       "      <th>colonia_datos</th>\n",
       "      <th>fgj_colonia_registro</th>\n",
       "      <th>latitud</th>\n",
       "      <th>longitud</th>\n",
       "    </tr>\n",
       "  </thead>\n",
       "  <tbody>\n",
       "    <tr>\n",
       "      <th>44757</th>\n",
       "      <td>9408996</td>\n",
       "      <td>2023</td>\n",
       "      <td>Marzo</td>\n",
       "      <td>2023-03-06</td>\n",
       "      <td>AMENAZAS</td>\n",
       "      <td>DELITO DE BAJO IMPACTO</td>\n",
       "      <td>Masculino</td>\n",
       "      <td>60.0</td>\n",
       "      <td>FISICA</td>\n",
       "      <td>VICTIMA Y DENUNCIANTE</td>\n",
       "      <td>...</td>\n",
       "      <td>Septiembre</td>\n",
       "      <td>1962-09-11</td>\n",
       "      <td>13:45:00</td>\n",
       "      <td>18:39:00</td>\n",
       "      <td>COYOACAN</td>\n",
       "      <td>NaN</td>\n",
       "      <td>DEL CARMEN</td>\n",
       "      <td>DEL CARMEN</td>\n",
       "      <td>19.351477</td>\n",
       "      <td>-99.158951</td>\n",
       "    </tr>\n",
       "  </tbody>\n",
       "</table>\n",
       "<p>1 rows × 22 columns</p>\n",
       "</div>"
      ],
      "text/plain": [
       "       idCarpeta  Año_inicio Mes_inicio FechaInicio    Delito  \\\n",
       "44757    9408996        2023      Marzo  2023-03-06  AMENAZAS   \n",
       "\n",
       "                    Categoria       Sexo  Edad TipoPersona  \\\n",
       "44757  DELITO DE BAJO IMPACTO  Masculino  60.0      FISICA   \n",
       "\n",
       "             CalidadJuridica  ...   Mes_hecho  FechaHecho HoraHecho  \\\n",
       "44757  VICTIMA Y DENUNCIANTE  ...  Septiembre  1962-09-11  13:45:00   \n",
       "\n",
       "      HoraInicio alcaldia_hechos municipio_hechos colonia_datos  \\\n",
       "44757   18:39:00        COYOACAN              NaN    DEL CARMEN   \n",
       "\n",
       "      fgj_colonia_registro    latitud   longitud  \n",
       "44757           DEL CARMEN  19.351477 -99.158951  \n",
       "\n",
       "[1 rows x 22 columns]"
      ]
     },
     "execution_count": 58,
     "metadata": {},
     "output_type": "execute_result"
    }
   ],
   "source": [
    "df.loc[df[\"Año_hecho\"]==1962]"
   ]
  },
  {
   "cell_type": "code",
   "execution_count": 59,
   "id": "9344bd98",
   "metadata": {
    "tags": []
   },
   "outputs": [
    {
     "data": {
      "text/plain": [
       "array(['FUERO COMUN', 'HECHOS NO DELICTIVOS', 'INCOMPETENCIAS'],\n",
       "      dtype=object)"
      ]
     },
     "execution_count": 59,
     "metadata": {},
     "output_type": "execute_result"
    }
   ],
   "source": [
    "df[\"competencia\"].unique()"
   ]
  },
  {
   "cell_type": "markdown",
   "id": "f3c3ac25",
   "metadata": {
    "jp-MarkdownHeadingCollapsed": true,
    "tags": []
   },
   "source": [
    "### Resumen del entendimiento de los datos\n",
    "\n",
    "1. Existen carpetas de investigación sobre delitos cometidos desde 1962, abiertas hasta el 2023.\n",
    "\n",
    "2. Tenemos **16 categorías de delitos**.\n",
    "\n",
    "3. Hay **5 tipos de calidades jurídicas**.\n",
    "\n",
    "4. Describiendo los **3 competencias de delitos**:\n",
    "    \n",
    "    * Fuero común: Aquellos delitos que afectas directamente a la persona.\n",
    "    * Hechos no delictivos: No son delitos.\n",
    "    * Incompetencias: La persona es incapaz de ser juzgada o de ser responsable de sus acciones debido a condiciones físicas o mentales.\n",
    "    \n",
    "    \n",
    "    \n",
    "5. En la columna de alcaldías estamos considerando un **extra llamado 'fuera de la ciudad de méxico'**\n",
    "\n",
    "6. Tenemos **255 tipos de delitos**.\n",
    "\n",
    "---\n",
    "\n",
    "#### Recomendaciones en el proceso de limpieza\n",
    "\n",
    "- Eliminar las siguientes columnas:\n",
    "    \n",
    "        1. idCarpeta\n",
    "        \n",
    "        \n",
    "- Renombrar las siguientes columnas:\n",
    "\n",
    "        1. Año_hecho\n",
    "        2. Año_inicio\n",
    "        3.fgj_colonia_registro\n",
    "        \n",
    "\n",
    "- Cambiar el tipo de dato a la columna edades y al año_hecho\n",
    "\n",
    "- Estandarizar los nombres de las columnas a minusculas"
   ]
  },
  {
   "cell_type": "markdown",
   "id": "2d5193d4-e199-45af-8da5-45d5b80a1c2f",
   "metadata": {
    "tags": []
   },
   "source": [
    "## Limpieza"
   ]
  },
  {
   "cell_type": "markdown",
   "id": "911dc7a0-3724-463c-ba50-9e457f384b3c",
   "metadata": {},
   "source": [
    "1. [X] Eliminar columnas que se relacionen con el tiempo en que se hizo la denuncia\n",
    "2. [X] Estandarizar a minusculas las columnas restantes\n",
    "3. [X] Renombrar columnas a 1 sola palabra\n",
    "4. [X] Eliminar la palabra hecho de todas las columnas que la contengan\n",
    "5. [X] Convertir a formato de fecha si corresponde\n",
    "6. [ ] Rellenar los años NAN con **imputación**\n",
    "7. [ ] Cambiar a enteros los años\n",
    "8. [ ] Si existe un tipo de dato de \"hora\", cambiarlo en la que corresponda\n",
    "9. [ ] Separar en 2 DataFrames teniendo en cuenta el tipo de persona\n",
    "10. [ ] Del dataframe de personas morales, eliminar las columnas de sexo, edad, tipopersona\n",
    "11. [ ] En la columna de edades de personas físicas, llenar los NA con algún **algoritmo de imputación**\n",
    "\n",
    "\n",
    "... Si hay más, apúntelos aquí"
   ]
  },
  {
   "cell_type": "markdown",
   "id": "dff20689-863d-40eb-825d-94347008adcc",
   "metadata": {},
   "source": [
    "### Paso 1"
   ]
  },
  {
   "cell_type": "code",
   "execution_count": null,
   "id": "7b029d4a",
   "metadata": {
    "tags": []
   },
   "outputs": [],
   "source": [
    "df.drop(\n",
    "        columns=[\"fgj_colonia_registro\", \"idCarpeta\", \"Año_inicio\", \"Mes_inicio\", \"FechaInicio\", \"HoraInicio\"], \n",
    "        inplace=True\n",
    "        )"
   ]
  },
  {
   "cell_type": "markdown",
   "id": "9dd334dc-25cd-4bb5-8e3b-80e72adff79e",
   "metadata": {},
   "source": [
    "### Paso 2"
   ]
  },
  {
   "cell_type": "code",
   "execution_count": 66,
   "id": "5c766c4e-ecaa-4cc1-8a87-4d9b6afd4d1e",
   "metadata": {},
   "outputs": [],
   "source": [
    "df.rename(columns= lambda x: x.lower(), inplace=True)"
   ]
  },
  {
   "cell_type": "markdown",
   "id": "8c74c216-52bd-479e-9812-6576ad978cb2",
   "metadata": {},
   "source": [
    "### Paso 3"
   ]
  },
  {
   "cell_type": "code",
   "execution_count": 106,
   "id": "f081daba-2d74-4888-8485-d46fce7410e0",
   "metadata": {},
   "outputs": [],
   "source": [
    "df.rename(columns = \n",
    "         {\n",
    "             'tipopersona': 'persona',\n",
    "             'calidadjuridica': 'calidad',\n",
    "             'colonia_datos': 'colonia'\n",
    "         }, \n",
    "        inplace=True)"
   ]
  },
  {
   "cell_type": "markdown",
   "id": "a23551d7-07f9-4bdf-8bd3-b0b24fd36977",
   "metadata": {},
   "source": [
    "### Paso 4"
   ]
  },
  {
   "cell_type": "code",
   "execution_count": 93,
   "id": "9a00f8cc-6054-4b51-b52d-8a84d91d08bf",
   "metadata": {},
   "outputs": [],
   "source": [
    "def find(name):\n",
    "    return re.sub(r'_?hechos?$', '', name)\n",
    "\n",
    "df.columns = df.columns.to_frame()[0].agg(find)"
   ]
  },
  {
   "cell_type": "markdown",
   "id": "1b1883bd-29e2-4dd9-9f17-40cec8fa9ad6",
   "metadata": {},
   "source": [
    "### Paso 5"
   ]
  },
  {
   "cell_type": "code",
   "execution_count": 97,
   "id": "0309cf57-1f31-4df0-8498-7e3674ce43a8",
   "metadata": {},
   "outputs": [
    {
     "data": {
      "text/plain": [
       "0       2022-12-31\n",
       "1       2022-12-31\n",
       "2       2022-12-31\n",
       "3       2022-12-31\n",
       "4       2022-12-31\n",
       "           ...    \n",
       "64339   2023-03-31\n",
       "64340   2023-03-30\n",
       "64341   2023-03-31\n",
       "64342   2023-03-31\n",
       "64343   2023-03-31\n",
       "Name: fecha, Length: 64344, dtype: datetime64[ns]"
      ]
     },
     "execution_count": 97,
     "metadata": {},
     "output_type": "execute_result"
    }
   ],
   "source": [
    "pd.to_datetime(df.fecha)"
   ]
  },
  {
   "cell_type": "markdown",
   "id": "d3463574-3782-4699-bc8d-98a26e35faa1",
   "metadata": {},
   "source": [
    "### Paso 6: Rellenar los años NAN con **imputación**\n",
    "\n",
    "Tenemos varios métodos de imputación, por ejemplo obtener medias, medianas, modas, etc.\n",
    "\n",
    "También unos más complejos como el KNN imputation, extrapolación"
   ]
  },
  {
   "cell_type": "code",
   "execution_count": null,
   "id": "6296fdd8-412d-4e61-994a-2313b34984de",
   "metadata": {},
   "outputs": [],
   "source": []
  },
  {
   "cell_type": "markdown",
   "id": "c87c08f3-943e-4529-a992-dc77113f9099",
   "metadata": {},
   "source": [
    "### Paso 7"
   ]
  },
  {
   "cell_type": "code",
   "execution_count": null,
   "id": "408df9b6-1c16-4d02-8c59-9db36aa1e8ee",
   "metadata": {},
   "outputs": [],
   "source": []
  },
  {
   "cell_type": "markdown",
   "id": "bbf2b96f-2b33-433e-8c4e-c436728115e7",
   "metadata": {},
   "source": [
    "### Paso 8"
   ]
  },
  {
   "cell_type": "code",
   "execution_count": null,
   "id": "b4a5d5f0-00af-4bdd-9e71-08bcfd9b44a7",
   "metadata": {},
   "outputs": [],
   "source": []
  },
  {
   "cell_type": "code",
   "execution_count": 98,
   "id": "050645f2-4123-4877-bc6c-396911724ead",
   "metadata": {},
   "outputs": [],
   "source": [
    "#df_fisica = df.query('tipopersona == \"FISICA\"')\n",
    "#df_moral = df.query('tipopersona == \"MORAL\"')"
   ]
  },
  {
   "cell_type": "code",
   "execution_count": 99,
   "id": "132dd47a-6472-417f-bc7a-6509d304109c",
   "metadata": {},
   "outputs": [],
   "source": [
    "# df_moral.drop(labels=[\"sexo\", \"edad\"], axis=1)"
   ]
  },
  {
   "cell_type": "code",
   "execution_count": 100,
   "id": "359d1a2e-ea77-46f3-9a5d-bcc1f8774bfd",
   "metadata": {},
   "outputs": [],
   "source": [
    "# df_fisica.mes_hecho.unique()"
   ]
  },
  {
   "cell_type": "code",
   "execution_count": 101,
   "id": "af5f90bf-4bbb-4a41-96dd-a8da3a776f08",
   "metadata": {},
   "outputs": [],
   "source": [
    "#df_fisica.loc[:, \"mes_hecho\"].fillna(value=\"Sin informacion\", inplace=True)"
   ]
  },
  {
   "cell_type": "code",
   "execution_count": 102,
   "id": "854a466c-5c84-47f9-866d-e1fd6a2ddef5",
   "metadata": {},
   "outputs": [],
   "source": [
    "#df_fisica.mes_hecho.unique()"
   ]
  },
  {
   "cell_type": "code",
   "execution_count": 103,
   "id": "c3e40c68-3604-4724-9719-f81e287b6136",
   "metadata": {},
   "outputs": [],
   "source": [
    "# df_fisica.año_inicio.unique()"
   ]
  },
  {
   "cell_type": "code",
   "execution_count": 104,
   "id": "bbb4a8d1-6176-49a8-bd59-7cff62c6d929",
   "metadata": {},
   "outputs": [],
   "source": [
    "# df_fisica.año_inicio.fillna(value=2023, inplace=True)"
   ]
  },
  {
   "cell_type": "code",
   "execution_count": null,
   "id": "50384d66-e964-44f6-9a75-a6b7fe2163e1",
   "metadata": {},
   "outputs": [],
   "source": []
  }
 ],
 "metadata": {
  "kernelspec": {
   "display_name": "Python 3 (ipykernel)",
   "language": "python",
   "name": "python3"
  },
  "language_info": {
   "codemirror_mode": {
    "name": "ipython",
    "version": 3
   },
   "file_extension": ".py",
   "mimetype": "text/x-python",
   "name": "python",
   "nbconvert_exporter": "python",
   "pygments_lexer": "ipython3",
   "version": "3.10.9"
  }
 },
 "nbformat": 4,
 "nbformat_minor": 5
}
