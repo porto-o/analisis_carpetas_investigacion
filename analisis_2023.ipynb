{
 "cells": [
  {
   "cell_type": "markdown",
   "id": "24e486d4-ef38-4f4b-834f-375c6064548e",
   "metadata": {},
   "source": [
    "# Análsis de carpetas de investigación del 2023\n",
    "\n",
    "Estos datos corresponden al periodo del 01/Enero/2023 al 31/Marzo/2023"
   ]
  },
  {
   "cell_type": "code",
   "execution_count": 199,
   "id": "7e817d2f-82ab-4938-9da4-ab46788402f1",
   "metadata": {
    "tags": []
   },
   "outputs": [],
   "source": [
    "import pandas as pd\n",
    "import numpy as np\n",
    "import matplotlib.pyplot as plt\n",
    "import seaborn as sb"
   ]
  },
  {
   "cell_type": "markdown",
   "id": "310f6685-732a-4227-a9a5-5ec1ff2431fe",
   "metadata": {},
   "source": [
    "### Entendimiento de los datos"
   ]
  },
  {
   "cell_type": "code",
   "execution_count": 200,
   "id": "dd6a2a82-8c7b-49ae-a23c-e7eaff2de1e1",
   "metadata": {
    "tags": []
   },
   "outputs": [
    {
     "data": {
      "text/plain": [
       "(64344, 22)"
      ]
     },
     "execution_count": 200,
     "metadata": {},
     "output_type": "execute_result"
    }
   ],
   "source": [
    "df = pd.read_csv('data/da_2023.csv')\n",
    "df.shape"
   ]
  },
  {
   "cell_type": "code",
   "execution_count": 201,
   "id": "7f3de841-0c75-4404-9602-f91211661f58",
   "metadata": {
    "tags": []
   },
   "outputs": [
    {
     "data": {
      "text/plain": [
       "Index(['idCarpeta', 'Año_inicio', 'Mes_inicio', 'FechaInicio', 'Delito',\n",
       "       'Categoria', 'Sexo', 'Edad', 'TipoPersona', 'CalidadJuridica',\n",
       "       'competencia', 'Año_hecho', 'Mes_hecho', 'FechaHecho', 'HoraHecho',\n",
       "       'HoraInicio', 'alcaldia_hechos', 'municipio_hechos', 'colonia_datos',\n",
       "       'fgj_colonia_registro', 'latitud', 'longitud'],\n",
       "      dtype='object')"
      ]
     },
     "execution_count": 201,
     "metadata": {},
     "output_type": "execute_result"
    }
   ],
   "source": [
    "df.columns"
   ]
  },
  {
   "cell_type": "code",
   "execution_count": 202,
   "id": "6f9b8a81-3364-428d-a43b-2b1e95e83af3",
   "metadata": {
    "tags": []
   },
   "outputs": [
    {
     "data": {
      "text/html": [
       "<div>\n",
       "<style scoped>\n",
       "    .dataframe tbody tr th:only-of-type {\n",
       "        vertical-align: middle;\n",
       "    }\n",
       "\n",
       "    .dataframe tbody tr th {\n",
       "        vertical-align: top;\n",
       "    }\n",
       "\n",
       "    .dataframe thead th {\n",
       "        text-align: right;\n",
       "    }\n",
       "</style>\n",
       "<table border=\"1\" class=\"dataframe\">\n",
       "  <thead>\n",
       "    <tr style=\"text-align: right;\">\n",
       "      <th></th>\n",
       "      <th>idCarpeta</th>\n",
       "      <th>Año_inicio</th>\n",
       "      <th>Mes_inicio</th>\n",
       "      <th>FechaInicio</th>\n",
       "      <th>Delito</th>\n",
       "      <th>Categoria</th>\n",
       "      <th>Sexo</th>\n",
       "      <th>Edad</th>\n",
       "      <th>TipoPersona</th>\n",
       "      <th>CalidadJuridica</th>\n",
       "      <th>...</th>\n",
       "      <th>Mes_hecho</th>\n",
       "      <th>FechaHecho</th>\n",
       "      <th>HoraHecho</th>\n",
       "      <th>HoraInicio</th>\n",
       "      <th>alcaldia_hechos</th>\n",
       "      <th>municipio_hechos</th>\n",
       "      <th>colonia_datos</th>\n",
       "      <th>fgj_colonia_registro</th>\n",
       "      <th>latitud</th>\n",
       "      <th>longitud</th>\n",
       "    </tr>\n",
       "  </thead>\n",
       "  <tbody>\n",
       "    <tr>\n",
       "      <th>0</th>\n",
       "      <td>9361878</td>\n",
       "      <td>2023</td>\n",
       "      <td>Enero</td>\n",
       "      <td>2023-01-01</td>\n",
       "      <td>LESIONES CULPOSAS POR TRANSITO VEHICULAR EN CO...</td>\n",
       "      <td>DELITO DE BAJO IMPACTO</td>\n",
       "      <td>NaN</td>\n",
       "      <td>NaN</td>\n",
       "      <td>MORAL</td>\n",
       "      <td>OFENDIDO</td>\n",
       "      <td>...</td>\n",
       "      <td>Diciembre</td>\n",
       "      <td>2022-12-31</td>\n",
       "      <td>22:08:00</td>\n",
       "      <td>00:09:00</td>\n",
       "      <td>COYOACAN</td>\n",
       "      <td>NaN</td>\n",
       "      <td>INSURGENTES CUICUILCO</td>\n",
       "      <td>INSURGENTES CUICUILCO</td>\n",
       "      <td>19.305532</td>\n",
       "      <td>-99.186308</td>\n",
       "    </tr>\n",
       "    <tr>\n",
       "      <th>1</th>\n",
       "      <td>9361879</td>\n",
       "      <td>2023</td>\n",
       "      <td>Enero</td>\n",
       "      <td>2023-01-01</td>\n",
       "      <td>ROBO A TRANSEUNTE EN VIA PUBLICA CON VIOLENCIA</td>\n",
       "      <td>ROBO A TRANSEUNTE EN VÍA PÚBLICA CON Y SIN VIO...</td>\n",
       "      <td>Masculino</td>\n",
       "      <td>50.0</td>\n",
       "      <td>FISICA</td>\n",
       "      <td>VICTIMA Y DENUNCIANTE</td>\n",
       "      <td>...</td>\n",
       "      <td>Diciembre</td>\n",
       "      <td>2022-12-31</td>\n",
       "      <td>23:50:00</td>\n",
       "      <td>00:41:00</td>\n",
       "      <td>VENUSTIANO CARRANZA</td>\n",
       "      <td>NaN</td>\n",
       "      <td>MOCTEZUMA 2A SECCION IV</td>\n",
       "      <td>MOCTEZUMA 2A SECCIÓN</td>\n",
       "      <td>19.429797</td>\n",
       "      <td>-99.098672</td>\n",
       "    </tr>\n",
       "    <tr>\n",
       "      <th>2</th>\n",
       "      <td>9361880</td>\n",
       "      <td>2023</td>\n",
       "      <td>Enero</td>\n",
       "      <td>2023-01-01</td>\n",
       "      <td>ROBO DE VEHICULO DE SERVICIO PARTICULAR CON VI...</td>\n",
       "      <td>ROBO DE VEHÍCULO CON Y SIN VIOLENCIA</td>\n",
       "      <td>Masculino</td>\n",
       "      <td>34.0</td>\n",
       "      <td>FISICA</td>\n",
       "      <td>VICTIMA Y DENUNCIANTE</td>\n",
       "      <td>...</td>\n",
       "      <td>Diciembre</td>\n",
       "      <td>2022-12-31</td>\n",
       "      <td>20:30:00</td>\n",
       "      <td>00:44:00</td>\n",
       "      <td>GUSTAVO A. MADERO</td>\n",
       "      <td>NaN</td>\n",
       "      <td>SAN JUAN DE ARAGON 3A SECCION (U HAB) I</td>\n",
       "      <td>SAN JUAN DE ARAGÓN III SECCIÓN</td>\n",
       "      <td>19.451641</td>\n",
       "      <td>-99.076529</td>\n",
       "    </tr>\n",
       "    <tr>\n",
       "      <th>3</th>\n",
       "      <td>9361881</td>\n",
       "      <td>2023</td>\n",
       "      <td>Enero</td>\n",
       "      <td>2023-01-01</td>\n",
       "      <td>LESIONES CULPOSAS POR TRANSITO VEHICULAR EN CO...</td>\n",
       "      <td>DELITO DE BAJO IMPACTO</td>\n",
       "      <td>Masculino</td>\n",
       "      <td>NaN</td>\n",
       "      <td>FISICA</td>\n",
       "      <td>LESIONADO</td>\n",
       "      <td>...</td>\n",
       "      <td>Diciembre</td>\n",
       "      <td>2022-12-31</td>\n",
       "      <td>23:30:00</td>\n",
       "      <td>00:47:00</td>\n",
       "      <td>COYOACAN</td>\n",
       "      <td>NaN</td>\n",
       "      <td>XOTEPINGO</td>\n",
       "      <td>XOTEPINGO</td>\n",
       "      <td>19.323245</td>\n",
       "      <td>-99.138016</td>\n",
       "    </tr>\n",
       "    <tr>\n",
       "      <th>4</th>\n",
       "      <td>9361882</td>\n",
       "      <td>2023</td>\n",
       "      <td>Enero</td>\n",
       "      <td>2023-01-01</td>\n",
       "      <td>PERDIDA DE LA VIDA POR OTRAS CAUSAS</td>\n",
       "      <td>HECHO NO DELICTIVO</td>\n",
       "      <td>Masculino</td>\n",
       "      <td>90.0</td>\n",
       "      <td>FISICA</td>\n",
       "      <td>CADAVER</td>\n",
       "      <td>...</td>\n",
       "      <td>Diciembre</td>\n",
       "      <td>2022-12-31</td>\n",
       "      <td>10:30:00</td>\n",
       "      <td>00:56:00</td>\n",
       "      <td>GUSTAVO A. MADERO</td>\n",
       "      <td>NaN</td>\n",
       "      <td>NaN</td>\n",
       "      <td>NaN</td>\n",
       "      <td>NaN</td>\n",
       "      <td>NaN</td>\n",
       "    </tr>\n",
       "  </tbody>\n",
       "</table>\n",
       "<p>5 rows × 22 columns</p>\n",
       "</div>"
      ],
      "text/plain": [
       "   idCarpeta  Año_inicio Mes_inicio FechaInicio  \\\n",
       "0    9361878        2023      Enero  2023-01-01   \n",
       "1    9361879        2023      Enero  2023-01-01   \n",
       "2    9361880        2023      Enero  2023-01-01   \n",
       "3    9361881        2023      Enero  2023-01-01   \n",
       "4    9361882        2023      Enero  2023-01-01   \n",
       "\n",
       "                                              Delito  \\\n",
       "0  LESIONES CULPOSAS POR TRANSITO VEHICULAR EN CO...   \n",
       "1     ROBO A TRANSEUNTE EN VIA PUBLICA CON VIOLENCIA   \n",
       "2  ROBO DE VEHICULO DE SERVICIO PARTICULAR CON VI...   \n",
       "3  LESIONES CULPOSAS POR TRANSITO VEHICULAR EN CO...   \n",
       "4                PERDIDA DE LA VIDA POR OTRAS CAUSAS   \n",
       "\n",
       "                                           Categoria       Sexo  Edad  \\\n",
       "0                             DELITO DE BAJO IMPACTO        NaN   NaN   \n",
       "1  ROBO A TRANSEUNTE EN VÍA PÚBLICA CON Y SIN VIO...  Masculino  50.0   \n",
       "2               ROBO DE VEHÍCULO CON Y SIN VIOLENCIA  Masculino  34.0   \n",
       "3                             DELITO DE BAJO IMPACTO  Masculino   NaN   \n",
       "4                                 HECHO NO DELICTIVO  Masculino  90.0   \n",
       "\n",
       "  TipoPersona        CalidadJuridica  ...  Mes_hecho  FechaHecho HoraHecho  \\\n",
       "0       MORAL               OFENDIDO  ...  Diciembre  2022-12-31  22:08:00   \n",
       "1      FISICA  VICTIMA Y DENUNCIANTE  ...  Diciembre  2022-12-31  23:50:00   \n",
       "2      FISICA  VICTIMA Y DENUNCIANTE  ...  Diciembre  2022-12-31  20:30:00   \n",
       "3      FISICA              LESIONADO  ...  Diciembre  2022-12-31  23:30:00   \n",
       "4      FISICA                CADAVER  ...  Diciembre  2022-12-31  10:30:00   \n",
       "\n",
       "  HoraInicio      alcaldia_hechos municipio_hechos  \\\n",
       "0   00:09:00             COYOACAN              NaN   \n",
       "1   00:41:00  VENUSTIANO CARRANZA              NaN   \n",
       "2   00:44:00    GUSTAVO A. MADERO              NaN   \n",
       "3   00:47:00             COYOACAN              NaN   \n",
       "4   00:56:00    GUSTAVO A. MADERO              NaN   \n",
       "\n",
       "                             colonia_datos            fgj_colonia_registro  \\\n",
       "0                    INSURGENTES CUICUILCO           INSURGENTES CUICUILCO   \n",
       "1                  MOCTEZUMA 2A SECCION IV            MOCTEZUMA 2A SECCIÓN   \n",
       "2  SAN JUAN DE ARAGON 3A SECCION (U HAB) I  SAN JUAN DE ARAGÓN III SECCIÓN   \n",
       "3                                XOTEPINGO                       XOTEPINGO   \n",
       "4                                      NaN                             NaN   \n",
       "\n",
       "     latitud   longitud  \n",
       "0  19.305532 -99.186308  \n",
       "1  19.429797 -99.098672  \n",
       "2  19.451641 -99.076529  \n",
       "3  19.323245 -99.138016  \n",
       "4        NaN        NaN  \n",
       "\n",
       "[5 rows x 22 columns]"
      ]
     },
     "execution_count": 202,
     "metadata": {},
     "output_type": "execute_result"
    }
   ],
   "source": [
    "df.head()"
   ]
  },
  {
   "cell_type": "code",
   "execution_count": 203,
   "id": "b6dabcec-9364-4a09-a083-5d164e31618c",
   "metadata": {
    "tags": []
   },
   "outputs": [
    {
     "data": {
      "text/plain": [
       "idCarpeta                 int64\n",
       "Año_inicio                int64\n",
       "Mes_inicio               object\n",
       "FechaInicio              object\n",
       "Delito                   object\n",
       "Categoria                object\n",
       "Sexo                     object\n",
       "Edad                    float64\n",
       "TipoPersona              object\n",
       "CalidadJuridica          object\n",
       "competencia              object\n",
       "Año_hecho               float64\n",
       "Mes_hecho                object\n",
       "FechaHecho               object\n",
       "HoraHecho                object\n",
       "HoraInicio               object\n",
       "alcaldia_hechos          object\n",
       "municipio_hechos         object\n",
       "colonia_datos            object\n",
       "fgj_colonia_registro     object\n",
       "latitud                 float64\n",
       "longitud                float64\n",
       "dtype: object"
      ]
     },
     "execution_count": 203,
     "metadata": {},
     "output_type": "execute_result"
    }
   ],
   "source": [
    "df.dtypes"
   ]
  },
  {
   "cell_type": "code",
   "execution_count": 204,
   "id": "e37d0db8-9cd0-4dfc-81ca-5b86398b2d97",
   "metadata": {
    "tags": []
   },
   "outputs": [
    {
     "data": {
      "text/plain": [
       "idCarpeta               61333\n",
       "Año_inicio                  1\n",
       "Mes_inicio                  3\n",
       "FechaInicio                90\n",
       "Delito                    255\n",
       "Categoria                  16\n",
       "Sexo                        2\n",
       "Edad                      100\n",
       "TipoPersona                 2\n",
       "CalidadJuridica             5\n",
       "competencia                 3\n",
       "Año_hecho                  39\n",
       "Mes_hecho                  12\n",
       "FechaHecho               1434\n",
       "HoraHecho                1441\n",
       "HoraInicio               1455\n",
       "alcaldia_hechos            18\n",
       "municipio_hechos           91\n",
       "colonia_datos            1655\n",
       "fgj_colonia_registro     1538\n",
       "latitud                 57654\n",
       "longitud                57653\n",
       "dtype: int64"
      ]
     },
     "execution_count": 204,
     "metadata": {},
     "output_type": "execute_result"
    }
   ],
   "source": [
    "df.nunique()"
   ]
  },
  {
   "cell_type": "code",
   "execution_count": 205,
   "id": "5b567f57-14a8-4355-a8d5-3ffd7422ccd3",
   "metadata": {
    "tags": []
   },
   "outputs": [
    {
     "data": {
      "text/plain": [
       "count    64337.000000\n",
       "mean      2022.731616\n",
       "std          1.271916\n",
       "min       1962.000000\n",
       "25%       2023.000000\n",
       "50%       2023.000000\n",
       "75%       2023.000000\n",
       "max       2023.000000\n",
       "Name: Año_hecho, dtype: float64"
      ]
     },
     "execution_count": 205,
     "metadata": {},
     "output_type": "execute_result"
    }
   ],
   "source": [
    "df[\"Año_hecho\"].describe()"
   ]
  },
  {
   "cell_type": "markdown",
   "id": "fa7bde07-3104-4864-afed-bcb91e94e55d",
   "metadata": {},
   "source": [
    "### Tenemos delitos cometidos desde el año **1962** a los cuáles se les abrió carpetas de investigación hasta el año **2023**"
   ]
  },
  {
   "cell_type": "code",
   "execution_count": 206,
   "id": "777da5ce-8363-45e1-9cdc-ce8cba92e474",
   "metadata": {
    "tags": []
   },
   "outputs": [
    {
     "data": {
      "text/plain": [
       "array([2022., 2023., 2021., 2018., 2019., 2020., 2013., 1998., 2007.,\n",
       "       2017., 2014., 2015., 2010., 2011.,   nan, 2003., 2016., 2005.,\n",
       "       2000., 2006., 1993., 1995., 2012., 2002., 2008., 1969., 1987.,\n",
       "       2009., 1967., 1990., 1999., 2004., 1994., 1974., 1976., 1985.,\n",
       "       1962., 1991., 1972., 2001.])"
      ]
     },
     "execution_count": 206,
     "metadata": {},
     "output_type": "execute_result"
    }
   ],
   "source": [
    "df[\"Año_hecho\"].unique()"
   ]
  },
  {
   "cell_type": "code",
   "execution_count": 207,
   "id": "bc8a0914-5a88-4e96-b722-fb3efbf928fa",
   "metadata": {
    "tags": []
   },
   "outputs": [
    {
     "data": {
      "text/plain": [
       "array(['DELITO DE BAJO IMPACTO',\n",
       "       'ROBO A TRANSEUNTE EN VÍA PÚBLICA CON Y SIN VIOLENCIA',\n",
       "       'ROBO DE VEHÍCULO CON Y SIN VIOLENCIA', 'HECHO NO DELICTIVO',\n",
       "       'LESIONES DOLOSAS POR DISPARO DE ARMA DE FUEGO', 'VIOLACIÓN',\n",
       "       'ROBO A NEGOCIO CON VIOLENCIA',\n",
       "       'ROBO A REPARTIDOR CON Y SIN VIOLENCIA', 'HOMICIDIO DOLOSO',\n",
       "       'ROBO A PASAJERO A BORDO DE MICROBUS CON Y SIN VIOLENCIA',\n",
       "       'ROBO A PASAJERO A BORDO DEL METRO CON Y SIN VIOLENCIA',\n",
       "       'ROBO A PASAJERO A BORDO DE TAXI CON VIOLENCIA',\n",
       "       'ROBO A CUENTAHABIENTE SALIENDO DEL CAJERO CON VIOLENCIA',\n",
       "       'ROBO A CASA HABITACIÓN CON VIOLENCIA',\n",
       "       'ROBO A TRANSPORTISTA CON Y SIN VIOLENCIA', 'SECUESTRO'],\n",
       "      dtype=object)"
      ]
     },
     "execution_count": 207,
     "metadata": {},
     "output_type": "execute_result"
    }
   ],
   "source": [
    "df[\"Categoria\"].unique()"
   ]
  },
  {
   "cell_type": "code",
   "execution_count": 208,
   "id": "69350f73-4c99-4b55-80d1-ff3eabbb8b93",
   "metadata": {
    "tags": []
   },
   "outputs": [
    {
     "data": {
      "text/html": [
       "<div>\n",
       "<style scoped>\n",
       "    .dataframe tbody tr th:only-of-type {\n",
       "        vertical-align: middle;\n",
       "    }\n",
       "\n",
       "    .dataframe tbody tr th {\n",
       "        vertical-align: top;\n",
       "    }\n",
       "\n",
       "    .dataframe thead th {\n",
       "        text-align: right;\n",
       "    }\n",
       "</style>\n",
       "<table border=\"1\" class=\"dataframe\">\n",
       "  <thead>\n",
       "    <tr style=\"text-align: right;\">\n",
       "      <th></th>\n",
       "      <th>idCarpeta</th>\n",
       "      <th>Año_inicio</th>\n",
       "      <th>Mes_inicio</th>\n",
       "      <th>FechaInicio</th>\n",
       "      <th>Delito</th>\n",
       "      <th>Categoria</th>\n",
       "      <th>Sexo</th>\n",
       "      <th>Edad</th>\n",
       "      <th>TipoPersona</th>\n",
       "      <th>CalidadJuridica</th>\n",
       "      <th>...</th>\n",
       "      <th>Mes_hecho</th>\n",
       "      <th>FechaHecho</th>\n",
       "      <th>HoraHecho</th>\n",
       "      <th>HoraInicio</th>\n",
       "      <th>alcaldia_hechos</th>\n",
       "      <th>municipio_hechos</th>\n",
       "      <th>colonia_datos</th>\n",
       "      <th>fgj_colonia_registro</th>\n",
       "      <th>latitud</th>\n",
       "      <th>longitud</th>\n",
       "    </tr>\n",
       "  </thead>\n",
       "  <tbody>\n",
       "    <tr>\n",
       "      <th>44757</th>\n",
       "      <td>9408996</td>\n",
       "      <td>2023</td>\n",
       "      <td>Marzo</td>\n",
       "      <td>2023-03-06</td>\n",
       "      <td>AMENAZAS</td>\n",
       "      <td>DELITO DE BAJO IMPACTO</td>\n",
       "      <td>Masculino</td>\n",
       "      <td>60.0</td>\n",
       "      <td>FISICA</td>\n",
       "      <td>VICTIMA Y DENUNCIANTE</td>\n",
       "      <td>...</td>\n",
       "      <td>Septiembre</td>\n",
       "      <td>1962-09-11</td>\n",
       "      <td>13:45:00</td>\n",
       "      <td>18:39:00</td>\n",
       "      <td>COYOACAN</td>\n",
       "      <td>NaN</td>\n",
       "      <td>DEL CARMEN</td>\n",
       "      <td>DEL CARMEN</td>\n",
       "      <td>19.351477</td>\n",
       "      <td>-99.158951</td>\n",
       "    </tr>\n",
       "  </tbody>\n",
       "</table>\n",
       "<p>1 rows × 22 columns</p>\n",
       "</div>"
      ],
      "text/plain": [
       "       idCarpeta  Año_inicio Mes_inicio FechaInicio    Delito  \\\n",
       "44757    9408996        2023      Marzo  2023-03-06  AMENAZAS   \n",
       "\n",
       "                    Categoria       Sexo  Edad TipoPersona  \\\n",
       "44757  DELITO DE BAJO IMPACTO  Masculino  60.0      FISICA   \n",
       "\n",
       "             CalidadJuridica  ...   Mes_hecho  FechaHecho HoraHecho  \\\n",
       "44757  VICTIMA Y DENUNCIANTE  ...  Septiembre  1962-09-11  13:45:00   \n",
       "\n",
       "      HoraInicio alcaldia_hechos municipio_hechos colonia_datos  \\\n",
       "44757   18:39:00        COYOACAN              NaN    DEL CARMEN   \n",
       "\n",
       "      fgj_colonia_registro    latitud   longitud  \n",
       "44757           DEL CARMEN  19.351477 -99.158951  \n",
       "\n",
       "[1 rows x 22 columns]"
      ]
     },
     "execution_count": 208,
     "metadata": {},
     "output_type": "execute_result"
    }
   ],
   "source": [
    "df.loc[df[\"Año_hecho\"]==1962]"
   ]
  },
  {
   "cell_type": "code",
   "execution_count": 209,
   "id": "c27f0bcd-3232-422a-ba1e-e15ca3bec5c4",
   "metadata": {
    "tags": []
   },
   "outputs": [
    {
     "data": {
      "text/plain": [
       "array(['FUERO COMUN', 'HECHOS NO DELICTIVOS', 'INCOMPETENCIAS'],\n",
       "      dtype=object)"
      ]
     },
     "execution_count": 209,
     "metadata": {},
     "output_type": "execute_result"
    }
   ],
   "source": [
    "df[\"competencia\"].unique()"
   ]
  },
  {
   "cell_type": "markdown",
   "id": "05b1fb2a-4ea2-48ed-9f53-ee0865bbbc18",
   "metadata": {},
   "source": [
    "## Resumen del entendimiento de los datos\n",
    "\n",
    "1. Existen carpetas de investigación sobre delitos cometidos desde 1962, abiertas hasta el 2023.\n",
    "\n",
    "2. Tenemos **16 categorías de delitos**.\n",
    "\n",
    "3. Hay **5 tipos de calidades jurídicas**.\n",
    "\n",
    "4. Describiendo los **3 competencias de delitos**:\n",
    "    \n",
    "    * Fuero común: Aquellos delitos que afectas directamente a la persona.\n",
    "    * Hechos no delictivos: No son delitos.\n",
    "    * Incompetencias: La persona es incapaz de ser juzgada o de ser responsable de sus acciones debido a condiciones físicas o mentales.\n",
    "    \n",
    "    \n",
    "    \n",
    "5. En la columna de alcaldías estamos considerando un **extra llamado 'fuera de la ciudad de méxico'**\n",
    "\n",
    "6. Tenemos **255 tipos de delitos**.\n",
    "\n",
    "---\n",
    "\n",
    "#### Recomendaciones en el proceso de limpieza\n",
    "\n",
    "- Eliminar las siguientes columnas:\n",
    "    \n",
    "        1. idCarpeta\n",
    "        \n",
    "        \n",
    "- Renombrar las siguientes columnas:\n",
    "\n",
    "        1. Año_hecho\n",
    "        2. Año_inicio\n",
    "        3.fgj_colonia_registro\n",
    "        \n",
    "\n",
    "- Cambiar el tipo de dato a la columna edades y al año_hecho\n",
    "\n",
    "- Estandarizar los nombres de las columnas a minusculas"
   ]
  },
  {
   "cell_type": "code",
   "execution_count": 210,
   "id": "022902e3-878a-40a9-9acc-3032924031dd",
   "metadata": {
    "tags": []
   },
   "outputs": [
    {
     "data": {
      "text/plain": [
       "Index(['idCarpeta', 'año_carpeta', 'Mes_inicio', 'FechaInicio', 'Delito',\n",
       "       'Categoria', 'Sexo', 'Edad', 'TipoPersona', 'CalidadJuridica',\n",
       "       'competencia', 'año_delito', 'Mes_hecho', 'FechaHecho', 'HoraHecho',\n",
       "       'HoraInicio', 'alcaldia_hechos', 'municipio_hechos', 'colonia_datos',\n",
       "       'colonia', 'latitud', 'longitud'],\n",
       "      dtype='object')"
      ]
     },
     "execution_count": 210,
     "metadata": {},
     "output_type": "execute_result"
    }
   ],
   "source": [
    "df = df.rename(columns={'Año_hecho':'año_delito',\n",
    "                        'Año_inicio':'año_carpeta',\n",
    "                        'fgj_colonia_registro':'colonia'})\n",
    "df.columns"
   ]
  },
  {
   "cell_type": "code",
   "execution_count": 211,
   "id": "a33784b8-edc9-4e56-ab9c-acaa05664af8",
   "metadata": {
    "tags": []
   },
   "outputs": [
    {
     "data": {
      "text/html": [
       "<div>\n",
       "<style scoped>\n",
       "    .dataframe tbody tr th:only-of-type {\n",
       "        vertical-align: middle;\n",
       "    }\n",
       "\n",
       "    .dataframe tbody tr th {\n",
       "        vertical-align: top;\n",
       "    }\n",
       "\n",
       "    .dataframe thead th {\n",
       "        text-align: right;\n",
       "    }\n",
       "</style>\n",
       "<table border=\"1\" class=\"dataframe\">\n",
       "  <thead>\n",
       "    <tr style=\"text-align: right;\">\n",
       "      <th></th>\n",
       "      <th>idCarpeta</th>\n",
       "      <th>año_carpeta</th>\n",
       "      <th>Mes_inicio</th>\n",
       "      <th>FechaInicio</th>\n",
       "      <th>Delito</th>\n",
       "      <th>Categoria</th>\n",
       "      <th>Sexo</th>\n",
       "      <th>Edad</th>\n",
       "      <th>TipoPersona</th>\n",
       "      <th>CalidadJuridica</th>\n",
       "      <th>...</th>\n",
       "      <th>Mes_hecho</th>\n",
       "      <th>FechaHecho</th>\n",
       "      <th>HoraHecho</th>\n",
       "      <th>HoraInicio</th>\n",
       "      <th>alcaldia_hechos</th>\n",
       "      <th>municipio_hechos</th>\n",
       "      <th>colonia_datos</th>\n",
       "      <th>colonia</th>\n",
       "      <th>latitud</th>\n",
       "      <th>longitud</th>\n",
       "    </tr>\n",
       "  </thead>\n",
       "  <tbody>\n",
       "    <tr>\n",
       "      <th>0</th>\n",
       "      <td>9361878</td>\n",
       "      <td>2023</td>\n",
       "      <td>Enero</td>\n",
       "      <td>2023-01-01</td>\n",
       "      <td>LESIONES CULPOSAS POR TRANSITO VEHICULAR EN CO...</td>\n",
       "      <td>DELITO DE BAJO IMPACTO</td>\n",
       "      <td>NaN</td>\n",
       "      <td>NaN</td>\n",
       "      <td>MORAL</td>\n",
       "      <td>OFENDIDO</td>\n",
       "      <td>...</td>\n",
       "      <td>Diciembre</td>\n",
       "      <td>2022-12-31</td>\n",
       "      <td>22:08:00</td>\n",
       "      <td>00:09:00</td>\n",
       "      <td>COYOACAN</td>\n",
       "      <td>NaN</td>\n",
       "      <td>INSURGENTES CUICUILCO</td>\n",
       "      <td>INSURGENTES CUICUILCO</td>\n",
       "      <td>19.305532</td>\n",
       "      <td>-99.186308</td>\n",
       "    </tr>\n",
       "    <tr>\n",
       "      <th>1</th>\n",
       "      <td>9361879</td>\n",
       "      <td>2023</td>\n",
       "      <td>Enero</td>\n",
       "      <td>2023-01-01</td>\n",
       "      <td>ROBO A TRANSEUNTE EN VIA PUBLICA CON VIOLENCIA</td>\n",
       "      <td>ROBO A TRANSEUNTE EN VÍA PÚBLICA CON Y SIN VIO...</td>\n",
       "      <td>Masculino</td>\n",
       "      <td>50.0</td>\n",
       "      <td>FISICA</td>\n",
       "      <td>VICTIMA Y DENUNCIANTE</td>\n",
       "      <td>...</td>\n",
       "      <td>Diciembre</td>\n",
       "      <td>2022-12-31</td>\n",
       "      <td>23:50:00</td>\n",
       "      <td>00:41:00</td>\n",
       "      <td>VENUSTIANO CARRANZA</td>\n",
       "      <td>NaN</td>\n",
       "      <td>MOCTEZUMA 2A SECCION IV</td>\n",
       "      <td>MOCTEZUMA 2A SECCIÓN</td>\n",
       "      <td>19.429797</td>\n",
       "      <td>-99.098672</td>\n",
       "    </tr>\n",
       "    <tr>\n",
       "      <th>2</th>\n",
       "      <td>9361880</td>\n",
       "      <td>2023</td>\n",
       "      <td>Enero</td>\n",
       "      <td>2023-01-01</td>\n",
       "      <td>ROBO DE VEHICULO DE SERVICIO PARTICULAR CON VI...</td>\n",
       "      <td>ROBO DE VEHÍCULO CON Y SIN VIOLENCIA</td>\n",
       "      <td>Masculino</td>\n",
       "      <td>34.0</td>\n",
       "      <td>FISICA</td>\n",
       "      <td>VICTIMA Y DENUNCIANTE</td>\n",
       "      <td>...</td>\n",
       "      <td>Diciembre</td>\n",
       "      <td>2022-12-31</td>\n",
       "      <td>20:30:00</td>\n",
       "      <td>00:44:00</td>\n",
       "      <td>GUSTAVO A. MADERO</td>\n",
       "      <td>NaN</td>\n",
       "      <td>SAN JUAN DE ARAGON 3A SECCION (U HAB) I</td>\n",
       "      <td>SAN JUAN DE ARAGÓN III SECCIÓN</td>\n",
       "      <td>19.451641</td>\n",
       "      <td>-99.076529</td>\n",
       "    </tr>\n",
       "    <tr>\n",
       "      <th>3</th>\n",
       "      <td>9361881</td>\n",
       "      <td>2023</td>\n",
       "      <td>Enero</td>\n",
       "      <td>2023-01-01</td>\n",
       "      <td>LESIONES CULPOSAS POR TRANSITO VEHICULAR EN CO...</td>\n",
       "      <td>DELITO DE BAJO IMPACTO</td>\n",
       "      <td>Masculino</td>\n",
       "      <td>NaN</td>\n",
       "      <td>FISICA</td>\n",
       "      <td>LESIONADO</td>\n",
       "      <td>...</td>\n",
       "      <td>Diciembre</td>\n",
       "      <td>2022-12-31</td>\n",
       "      <td>23:30:00</td>\n",
       "      <td>00:47:00</td>\n",
       "      <td>COYOACAN</td>\n",
       "      <td>NaN</td>\n",
       "      <td>XOTEPINGO</td>\n",
       "      <td>XOTEPINGO</td>\n",
       "      <td>19.323245</td>\n",
       "      <td>-99.138016</td>\n",
       "    </tr>\n",
       "    <tr>\n",
       "      <th>4</th>\n",
       "      <td>9361882</td>\n",
       "      <td>2023</td>\n",
       "      <td>Enero</td>\n",
       "      <td>2023-01-01</td>\n",
       "      <td>PERDIDA DE LA VIDA POR OTRAS CAUSAS</td>\n",
       "      <td>HECHO NO DELICTIVO</td>\n",
       "      <td>Masculino</td>\n",
       "      <td>90.0</td>\n",
       "      <td>FISICA</td>\n",
       "      <td>CADAVER</td>\n",
       "      <td>...</td>\n",
       "      <td>Diciembre</td>\n",
       "      <td>2022-12-31</td>\n",
       "      <td>10:30:00</td>\n",
       "      <td>00:56:00</td>\n",
       "      <td>GUSTAVO A. MADERO</td>\n",
       "      <td>NaN</td>\n",
       "      <td>NaN</td>\n",
       "      <td>NaN</td>\n",
       "      <td>NaN</td>\n",
       "      <td>NaN</td>\n",
       "    </tr>\n",
       "  </tbody>\n",
       "</table>\n",
       "<p>5 rows × 22 columns</p>\n",
       "</div>"
      ],
      "text/plain": [
       "   idCarpeta  año_carpeta Mes_inicio FechaInicio  \\\n",
       "0    9361878         2023      Enero  2023-01-01   \n",
       "1    9361879         2023      Enero  2023-01-01   \n",
       "2    9361880         2023      Enero  2023-01-01   \n",
       "3    9361881         2023      Enero  2023-01-01   \n",
       "4    9361882         2023      Enero  2023-01-01   \n",
       "\n",
       "                                              Delito  \\\n",
       "0  LESIONES CULPOSAS POR TRANSITO VEHICULAR EN CO...   \n",
       "1     ROBO A TRANSEUNTE EN VIA PUBLICA CON VIOLENCIA   \n",
       "2  ROBO DE VEHICULO DE SERVICIO PARTICULAR CON VI...   \n",
       "3  LESIONES CULPOSAS POR TRANSITO VEHICULAR EN CO...   \n",
       "4                PERDIDA DE LA VIDA POR OTRAS CAUSAS   \n",
       "\n",
       "                                           Categoria       Sexo  Edad  \\\n",
       "0                             DELITO DE BAJO IMPACTO        NaN   NaN   \n",
       "1  ROBO A TRANSEUNTE EN VÍA PÚBLICA CON Y SIN VIO...  Masculino  50.0   \n",
       "2               ROBO DE VEHÍCULO CON Y SIN VIOLENCIA  Masculino  34.0   \n",
       "3                             DELITO DE BAJO IMPACTO  Masculino   NaN   \n",
       "4                                 HECHO NO DELICTIVO  Masculino  90.0   \n",
       "\n",
       "  TipoPersona        CalidadJuridica  ...  Mes_hecho  FechaHecho HoraHecho  \\\n",
       "0       MORAL               OFENDIDO  ...  Diciembre  2022-12-31  22:08:00   \n",
       "1      FISICA  VICTIMA Y DENUNCIANTE  ...  Diciembre  2022-12-31  23:50:00   \n",
       "2      FISICA  VICTIMA Y DENUNCIANTE  ...  Diciembre  2022-12-31  20:30:00   \n",
       "3      FISICA              LESIONADO  ...  Diciembre  2022-12-31  23:30:00   \n",
       "4      FISICA                CADAVER  ...  Diciembre  2022-12-31  10:30:00   \n",
       "\n",
       "  HoraInicio      alcaldia_hechos municipio_hechos  \\\n",
       "0   00:09:00             COYOACAN              NaN   \n",
       "1   00:41:00  VENUSTIANO CARRANZA              NaN   \n",
       "2   00:44:00    GUSTAVO A. MADERO              NaN   \n",
       "3   00:47:00             COYOACAN              NaN   \n",
       "4   00:56:00    GUSTAVO A. MADERO              NaN   \n",
       "\n",
       "                             colonia_datos                         colonia  \\\n",
       "0                    INSURGENTES CUICUILCO           INSURGENTES CUICUILCO   \n",
       "1                  MOCTEZUMA 2A SECCION IV            MOCTEZUMA 2A SECCIÓN   \n",
       "2  SAN JUAN DE ARAGON 3A SECCION (U HAB) I  SAN JUAN DE ARAGÓN III SECCIÓN   \n",
       "3                                XOTEPINGO                       XOTEPINGO   \n",
       "4                                      NaN                             NaN   \n",
       "\n",
       "     latitud   longitud  \n",
       "0  19.305532 -99.186308  \n",
       "1  19.429797 -99.098672  \n",
       "2  19.451641 -99.076529  \n",
       "3  19.323245 -99.138016  \n",
       "4        NaN        NaN  \n",
       "\n",
       "[5 rows x 22 columns]"
      ]
     },
     "execution_count": 211,
     "metadata": {},
     "output_type": "execute_result"
    }
   ],
   "source": [
    "df.head()"
   ]
  },
  {
   "cell_type": "markdown",
   "id": "202bca10-5573-4963-9c08-ed63affd54d3",
   "metadata": {},
   "source": [
    "---\n",
    "## **Delitos y sus cifras**"
   ]
  },
  {
   "cell_type": "code",
   "execution_count": 212,
   "id": "1afcc60b-0bc0-4ed6-b22c-7aede27e2f01",
   "metadata": {
    "tags": []
   },
   "outputs": [
    {
     "data": {
      "text/plain": [
       "VIOLENCIA FAMILIAR                                                       10266\n",
       "FRAUDE                                                                    5794\n",
       "AMENAZAS                                                                  5253\n",
       "ROBO DE OBJETOS                                                           3407\n",
       "ROBO DE ACCESORIOS DE AUTO                                                2759\n",
       "                                                                         ...  \n",
       "ROBO A PASAJERO EN AUTOBÚS FORÁNEO CON VIOLENCIA                             1\n",
       "ROBO A TRANSPORTISTA Y VEHICULO PESADO SIN VIOLENCIA                         1\n",
       "ROBO DE VEHICULO DE SERVICIO OFICIAL CON VIOLENCIA                           1\n",
       "ROBO A PASAJERO EN AUTOBUS FORANEO SIN VIOLENCIA                             1\n",
       "FABRICACION, COMERCIALIZACION Y USO INDEBIDO DE INSIGNIAS Y UNIFORMES        1\n",
       "Name: Delito, Length: 255, dtype: int64"
      ]
     },
     "execution_count": 212,
     "metadata": {},
     "output_type": "execute_result"
    }
   ],
   "source": [
    "# tipos de delitos y su incidencia\n",
    "df['Delito'].value_counts()"
   ]
  },
  {
   "cell_type": "code",
   "execution_count": 213,
   "id": "bad27fa0-0ebe-4390-aacf-6e889d37a114",
   "metadata": {
    "tags": []
   },
   "outputs": [
    {
     "data": {
      "text/plain": [
       "DELITO DE BAJO IMPACTO                                     56212\n",
       "ROBO A TRANSEUNTE EN VÍA PÚBLICA CON Y SIN VIOLENCIA        2611\n",
       "ROBO DE VEHÍCULO CON Y SIN VIOLENCIA                        1565\n",
       "HECHO NO DELICTIVO                                          1011\n",
       "VIOLACIÓN                                                    745\n",
       "ROBO A NEGOCIO CON VIOLENCIA                                 534\n",
       "ROBO A PASAJERO A BORDO DEL METRO CON Y SIN VIOLENCIA        381\n",
       "ROBO A REPARTIDOR CON Y SIN VIOLENCIA                        340\n",
       "HOMICIDIO DOLOSO                                             289\n",
       "ROBO A PASAJERO A BORDO DE MICROBUS CON Y SIN VIOLENCIA      215\n",
       "LESIONES DOLOSAS POR DISPARO DE ARMA DE FUEGO                214\n",
       "ROBO A CASA HABITACIÓN CON VIOLENCIA                          69\n",
       "ROBO A CUENTAHABIENTE SALIENDO DEL CAJERO CON VIOLENCIA       59\n",
       "ROBO A PASAJERO A BORDO DE TAXI CON VIOLENCIA                 43\n",
       "SECUESTRO                                                     38\n",
       "ROBO A TRANSPORTISTA CON Y SIN VIOLENCIA                      18\n",
       "Name: Categoria, dtype: int64"
      ]
     },
     "execution_count": 213,
     "metadata": {},
     "output_type": "execute_result"
    }
   ],
   "source": [
    "#incidencia por categoría\n",
    "df['Categoria'].value_counts()"
   ]
  },
  {
   "cell_type": "code",
   "execution_count": null,
   "id": "a11d0df5-ff94-43ee-a0ee-6919bb4bbba4",
   "metadata": {
    "tags": []
   },
   "outputs": [],
   "source": []
  },
  {
   "cell_type": "markdown",
   "id": "5498b7b1-d118-46d6-8cf2-f50059895763",
   "metadata": {
    "tags": []
   },
   "source": [
    "---\n",
    "## 2019-2020 \n"
   ]
  },
  {
   "cell_type": "code",
   "execution_count": 214,
   "id": "2b8182a6-6b44-4cc5-8491-3abc84152ce7",
   "metadata": {
    "tags": []
   },
   "outputs": [
    {
     "data": {
      "text/plain": [
       "(301038, 20)"
      ]
     },
     "execution_count": 214,
     "metadata": {},
     "output_type": "execute_result"
    }
   ],
   "source": [
    "df2223 = pd.read_csv('data/carpetas20222023.csv')\n",
    "df2223.shape"
   ]
  },
  {
   "cell_type": "code",
   "execution_count": 215,
   "id": "3fce32ae-6a2b-4325-8b44-e59593434353",
   "metadata": {
    "tags": []
   },
   "outputs": [
    {
     "data": {
      "text/html": [
       "<div>\n",
       "<style scoped>\n",
       "    .dataframe tbody tr th:only-of-type {\n",
       "        vertical-align: middle;\n",
       "    }\n",
       "\n",
       "    .dataframe tbody tr th {\n",
       "        vertical-align: top;\n",
       "    }\n",
       "\n",
       "    .dataframe thead th {\n",
       "        text-align: right;\n",
       "    }\n",
       "</style>\n",
       "<table border=\"1\" class=\"dataframe\">\n",
       "  <thead>\n",
       "    <tr style=\"text-align: right;\">\n",
       "      <th></th>\n",
       "      <th>ao_hechos</th>\n",
       "      <th>mes_hechos</th>\n",
       "      <th>fecha_hechos</th>\n",
       "      <th>hora_hechos</th>\n",
       "      <th>ao_inicio</th>\n",
       "      <th>mes_inicio</th>\n",
       "      <th>fecha_inicio</th>\n",
       "      <th>hora_inicio</th>\n",
       "      <th>delito</th>\n",
       "      <th>fiscalia</th>\n",
       "      <th>agencia</th>\n",
       "      <th>unidad_investigacion</th>\n",
       "      <th>categoria_delito</th>\n",
       "      <th>competencia</th>\n",
       "      <th>alcaldia_hechos</th>\n",
       "      <th>municipio_hechos</th>\n",
       "      <th>colonia_datos</th>\n",
       "      <th>fgj_colonia_registro</th>\n",
       "      <th>longitud</th>\n",
       "      <th>latitud</th>\n",
       "    </tr>\n",
       "  </thead>\n",
       "  <tbody>\n",
       "    <tr>\n",
       "      <th>0</th>\n",
       "      <td>2021.0</td>\n",
       "      <td>Diciembre</td>\n",
       "      <td>2021-12-31</td>\n",
       "      <td>23:00:00</td>\n",
       "      <td>2022</td>\n",
       "      <td>Enero</td>\n",
       "      <td>2022-01-01</td>\n",
       "      <td>00:03:00</td>\n",
       "      <td>ROBO A TRANSEUNTE EN VIA PUBLICA CON VIOLENCIA</td>\n",
       "      <td>FISCALÍA DE INVESTIGACIÓN TERRITORIAL EN ALVAR...</td>\n",
       "      <td>AO-3</td>\n",
       "      <td>UI-1CD</td>\n",
       "      <td>ROBO A TRANSEUNTE EN VÍA PÚBLICA CON Y SIN VIO...</td>\n",
       "      <td>FUERO COMUN</td>\n",
       "      <td>ALVARO OBREGON</td>\n",
       "      <td>NaN</td>\n",
       "      <td>LIBERALES DE 1857</td>\n",
       "      <td>LIBERALES DE 1857</td>\n",
       "      <td>-99.21295</td>\n",
       "      <td>19.39444</td>\n",
       "    </tr>\n",
       "    <tr>\n",
       "      <th>1</th>\n",
       "      <td>2021.0</td>\n",
       "      <td>Octubre</td>\n",
       "      <td>2021-10-29</td>\n",
       "      <td>09:00:00</td>\n",
       "      <td>2022</td>\n",
       "      <td>Enero</td>\n",
       "      <td>2022-01-01</td>\n",
       "      <td>00:06:00</td>\n",
       "      <td>ABUSO DE CONFIANZA</td>\n",
       "      <td>AGENCIA DE DENUNCIA DIGITAL</td>\n",
       "      <td>CEN-1</td>\n",
       "      <td>Unidad de Investigación 1 S/D</td>\n",
       "      <td>DELITO DE BAJO IMPACTO</td>\n",
       "      <td>FUERO COMUN</td>\n",
       "      <td>COYOACAN</td>\n",
       "      <td>NaN</td>\n",
       "      <td>SANTA URSULA COAPA (PBLO)</td>\n",
       "      <td>PUEBLO DE SANTA URSULA COAPA</td>\n",
       "      <td>-99.14214</td>\n",
       "      <td>19.31311</td>\n",
       "    </tr>\n",
       "    <tr>\n",
       "      <th>2</th>\n",
       "      <td>2021.0</td>\n",
       "      <td>Diciembre</td>\n",
       "      <td>2021-12-31</td>\n",
       "      <td>22:30:00</td>\n",
       "      <td>2022</td>\n",
       "      <td>Enero</td>\n",
       "      <td>2022-01-01</td>\n",
       "      <td>00:26:00</td>\n",
       "      <td>LESIONES INTENCIONALES POR ARMA DE FUEGO</td>\n",
       "      <td>FISCALÍA DE INVESTIGACIÓN TERRITORIAL EN GUSTA...</td>\n",
       "      <td>UAT-GAM-3</td>\n",
       "      <td>UI-1SD</td>\n",
       "      <td>LESIONES DOLOSAS POR DISPARO DE ARMA DE FUEGO</td>\n",
       "      <td>FUERO COMUN</td>\n",
       "      <td>VENUSTIANO CARRANZA</td>\n",
       "      <td>NaN</td>\n",
       "      <td>MORELOS I</td>\n",
       "      <td>MORELOS</td>\n",
       "      <td>-99.12139</td>\n",
       "      <td>19.44615</td>\n",
       "    </tr>\n",
       "    <tr>\n",
       "      <th>3</th>\n",
       "      <td>2021.0</td>\n",
       "      <td>Diciembre</td>\n",
       "      <td>2021-12-31</td>\n",
       "      <td>23:11:00</td>\n",
       "      <td>2022</td>\n",
       "      <td>Enero</td>\n",
       "      <td>2022-01-01</td>\n",
       "      <td>00:29:00</td>\n",
       "      <td>DAÑO EN PROPIEDAD AJENA CULPOSA POR TRÁNSITO V...</td>\n",
       "      <td>FISCALÍA DE INVESTIGACIÓN TERRITORIAL EN BENIT...</td>\n",
       "      <td>BJ-2</td>\n",
       "      <td>UI-1CD</td>\n",
       "      <td>DELITO DE BAJO IMPACTO</td>\n",
       "      <td>FUERO COMUN</td>\n",
       "      <td>BENITO JUAREZ</td>\n",
       "      <td>NaN</td>\n",
       "      <td>DEL VALLE VII</td>\n",
       "      <td>DEL VALLE CENTRO</td>\n",
       "      <td>-99.17495</td>\n",
       "      <td>19.36963</td>\n",
       "    </tr>\n",
       "    <tr>\n",
       "      <th>4</th>\n",
       "      <td>2021.0</td>\n",
       "      <td>Diciembre</td>\n",
       "      <td>2021-12-31</td>\n",
       "      <td>21:30:00</td>\n",
       "      <td>2022</td>\n",
       "      <td>Enero</td>\n",
       "      <td>2022-01-01</td>\n",
       "      <td>00:35:00</td>\n",
       "      <td>VIOLENCIA FAMILIAR</td>\n",
       "      <td>FISCALÍA DE INVESTIGACIÓN TERRITORIAL EN GUSTA...</td>\n",
       "      <td>UAT-GAM-3</td>\n",
       "      <td>UI-1SD</td>\n",
       "      <td>DELITO DE BAJO IMPACTO</td>\n",
       "      <td>FUERO COMUN</td>\n",
       "      <td>GUSTAVO A. MADERO</td>\n",
       "      <td>NaN</td>\n",
       "      <td>LA FORESTAL</td>\n",
       "      <td>FORESTAL</td>\n",
       "      <td>-99.12990</td>\n",
       "      <td>19.55972</td>\n",
       "    </tr>\n",
       "  </tbody>\n",
       "</table>\n",
       "</div>"
      ],
      "text/plain": [
       "   ao_hechos mes_hechos fecha_hechos hora_hechos  ao_inicio mes_inicio  \\\n",
       "0     2021.0  Diciembre   2021-12-31    23:00:00       2022      Enero   \n",
       "1     2021.0    Octubre   2021-10-29    09:00:00       2022      Enero   \n",
       "2     2021.0  Diciembre   2021-12-31    22:30:00       2022      Enero   \n",
       "3     2021.0  Diciembre   2021-12-31    23:11:00       2022      Enero   \n",
       "4     2021.0  Diciembre   2021-12-31    21:30:00       2022      Enero   \n",
       "\n",
       "  fecha_inicio hora_inicio                                             delito  \\\n",
       "0   2022-01-01    00:03:00     ROBO A TRANSEUNTE EN VIA PUBLICA CON VIOLENCIA   \n",
       "1   2022-01-01    00:06:00                                 ABUSO DE CONFIANZA   \n",
       "2   2022-01-01    00:26:00           LESIONES INTENCIONALES POR ARMA DE FUEGO   \n",
       "3   2022-01-01    00:29:00  DAÑO EN PROPIEDAD AJENA CULPOSA POR TRÁNSITO V...   \n",
       "4   2022-01-01    00:35:00                                 VIOLENCIA FAMILIAR   \n",
       "\n",
       "                                            fiscalia    agencia  \\\n",
       "0  FISCALÍA DE INVESTIGACIÓN TERRITORIAL EN ALVAR...       AO-3   \n",
       "1                        AGENCIA DE DENUNCIA DIGITAL      CEN-1   \n",
       "2  FISCALÍA DE INVESTIGACIÓN TERRITORIAL EN GUSTA...  UAT-GAM-3   \n",
       "3  FISCALÍA DE INVESTIGACIÓN TERRITORIAL EN BENIT...       BJ-2   \n",
       "4  FISCALÍA DE INVESTIGACIÓN TERRITORIAL EN GUSTA...  UAT-GAM-3   \n",
       "\n",
       "            unidad_investigacion  \\\n",
       "0                         UI-1CD   \n",
       "1  Unidad de Investigación 1 S/D   \n",
       "2                         UI-1SD   \n",
       "3                         UI-1CD   \n",
       "4                         UI-1SD   \n",
       "\n",
       "                                    categoria_delito  competencia  \\\n",
       "0  ROBO A TRANSEUNTE EN VÍA PÚBLICA CON Y SIN VIO...  FUERO COMUN   \n",
       "1                             DELITO DE BAJO IMPACTO  FUERO COMUN   \n",
       "2      LESIONES DOLOSAS POR DISPARO DE ARMA DE FUEGO  FUERO COMUN   \n",
       "3                             DELITO DE BAJO IMPACTO  FUERO COMUN   \n",
       "4                             DELITO DE BAJO IMPACTO  FUERO COMUN   \n",
       "\n",
       "       alcaldia_hechos municipio_hechos              colonia_datos  \\\n",
       "0       ALVARO OBREGON              NaN          LIBERALES DE 1857   \n",
       "1             COYOACAN              NaN  SANTA URSULA COAPA (PBLO)   \n",
       "2  VENUSTIANO CARRANZA              NaN                  MORELOS I   \n",
       "3        BENITO JUAREZ              NaN              DEL VALLE VII   \n",
       "4    GUSTAVO A. MADERO              NaN                LA FORESTAL   \n",
       "\n",
       "           fgj_colonia_registro  longitud   latitud  \n",
       "0             LIBERALES DE 1857 -99.21295  19.39444  \n",
       "1  PUEBLO DE SANTA URSULA COAPA -99.14214  19.31311  \n",
       "2                       MORELOS -99.12139  19.44615  \n",
       "3              DEL VALLE CENTRO -99.17495  19.36963  \n",
       "4                      FORESTAL -99.12990  19.55972  "
      ]
     },
     "execution_count": 215,
     "metadata": {},
     "output_type": "execute_result"
    }
   ],
   "source": [
    "df2223.head()"
   ]
  },
  {
   "cell_type": "code",
   "execution_count": 216,
   "id": "feea2437-b098-46c1-a8b3-c4f838ab5f7c",
   "metadata": {},
   "outputs": [
    {
     "data": {
      "text/plain": [
       "ao_hechos               float64\n",
       "mes_hechos               object\n",
       "fecha_hechos             object\n",
       "hora_hechos              object\n",
       "ao_inicio                 int64\n",
       "mes_inicio               object\n",
       "fecha_inicio             object\n",
       "hora_inicio              object\n",
       "delito                   object\n",
       "fiscalia                 object\n",
       "agencia                  object\n",
       "unidad_investigacion     object\n",
       "categoria_delito         object\n",
       "competencia              object\n",
       "alcaldia_hechos          object\n",
       "municipio_hechos         object\n",
       "colonia_datos            object\n",
       "fgj_colonia_registro     object\n",
       "longitud                float64\n",
       "latitud                 float64\n",
       "dtype: object"
      ]
     },
     "execution_count": 216,
     "metadata": {},
     "output_type": "execute_result"
    }
   ],
   "source": [
    "df2223.dtypes"
   ]
  },
  {
   "cell_type": "code",
   "execution_count": 217,
   "id": "172d6ec2-3392-4e4e-9419-b5c77d037b45",
   "metadata": {
    "tags": []
   },
   "outputs": [
    {
     "data": {
      "text/plain": [
       "Index(['Año_delito', 'mes_hechos', 'fecha_hechos', 'hora_hechos',\n",
       "       'Año_carpeta', 'mes_inicio', 'fecha_inicio', 'hora_inicio', 'delito',\n",
       "       'fiscalia', 'agencia', 'unidad_investigacion', 'categoria_delito',\n",
       "       'competencia', 'alcaldia_hechos', 'municipio_hechos', 'colonia_datos',\n",
       "       'Colonia', 'longitud', 'latitud'],\n",
       "      dtype='object')"
      ]
     },
     "execution_count": 217,
     "metadata": {},
     "output_type": "execute_result"
    }
   ],
   "source": [
    "df2223.rename(columns={'ao_hechos':'Año_delito',\n",
    "                                   'ao_inicio':'Año_carpeta',\n",
    "                               'fgj_colonia_registro':'Colonia'},\n",
    "              inplace=True)\n",
    "\n",
    "df2223.columns"
   ]
  },
  {
   "cell_type": "code",
   "execution_count": 218,
   "id": "2f5e76a6-0599-4c51-9f0b-98eda9484e06",
   "metadata": {
    "tags": []
   },
   "outputs": [
    {
     "data": {
      "text/html": [
       "<div>\n",
       "<style scoped>\n",
       "    .dataframe tbody tr th:only-of-type {\n",
       "        vertical-align: middle;\n",
       "    }\n",
       "\n",
       "    .dataframe tbody tr th {\n",
       "        vertical-align: top;\n",
       "    }\n",
       "\n",
       "    .dataframe thead th {\n",
       "        text-align: right;\n",
       "    }\n",
       "</style>\n",
       "<table border=\"1\" class=\"dataframe\">\n",
       "  <thead>\n",
       "    <tr style=\"text-align: right;\">\n",
       "      <th></th>\n",
       "      <th>Año_delito</th>\n",
       "      <th>mes_hechos</th>\n",
       "      <th>fecha_hechos</th>\n",
       "      <th>hora_hechos</th>\n",
       "      <th>Año_carpeta</th>\n",
       "      <th>mes_inicio</th>\n",
       "      <th>fecha_inicio</th>\n",
       "      <th>hora_inicio</th>\n",
       "      <th>delito</th>\n",
       "      <th>fiscalia</th>\n",
       "      <th>agencia</th>\n",
       "      <th>unidad_investigacion</th>\n",
       "      <th>categoria_delito</th>\n",
       "      <th>competencia</th>\n",
       "      <th>alcaldia_hechos</th>\n",
       "      <th>municipio_hechos</th>\n",
       "      <th>colonia_datos</th>\n",
       "      <th>Colonia</th>\n",
       "      <th>longitud</th>\n",
       "      <th>latitud</th>\n",
       "    </tr>\n",
       "  </thead>\n",
       "  <tbody>\n",
       "    <tr>\n",
       "      <th>0</th>\n",
       "      <td>2021.0</td>\n",
       "      <td>Diciembre</td>\n",
       "      <td>2021-12-31</td>\n",
       "      <td>23:00:00</td>\n",
       "      <td>2022</td>\n",
       "      <td>Enero</td>\n",
       "      <td>2022-01-01</td>\n",
       "      <td>00:03:00</td>\n",
       "      <td>ROBO A TRANSEUNTE EN VIA PUBLICA CON VIOLENCIA</td>\n",
       "      <td>FISCALÍA DE INVESTIGACIÓN TERRITORIAL EN ALVAR...</td>\n",
       "      <td>AO-3</td>\n",
       "      <td>UI-1CD</td>\n",
       "      <td>ROBO A TRANSEUNTE EN VÍA PÚBLICA CON Y SIN VIO...</td>\n",
       "      <td>FUERO COMUN</td>\n",
       "      <td>ALVARO OBREGON</td>\n",
       "      <td>NaN</td>\n",
       "      <td>LIBERALES DE 1857</td>\n",
       "      <td>LIBERALES DE 1857</td>\n",
       "      <td>-99.21295</td>\n",
       "      <td>19.39444</td>\n",
       "    </tr>\n",
       "    <tr>\n",
       "      <th>1</th>\n",
       "      <td>2021.0</td>\n",
       "      <td>Octubre</td>\n",
       "      <td>2021-10-29</td>\n",
       "      <td>09:00:00</td>\n",
       "      <td>2022</td>\n",
       "      <td>Enero</td>\n",
       "      <td>2022-01-01</td>\n",
       "      <td>00:06:00</td>\n",
       "      <td>ABUSO DE CONFIANZA</td>\n",
       "      <td>AGENCIA DE DENUNCIA DIGITAL</td>\n",
       "      <td>CEN-1</td>\n",
       "      <td>Unidad de Investigación 1 S/D</td>\n",
       "      <td>DELITO DE BAJO IMPACTO</td>\n",
       "      <td>FUERO COMUN</td>\n",
       "      <td>COYOACAN</td>\n",
       "      <td>NaN</td>\n",
       "      <td>SANTA URSULA COAPA (PBLO)</td>\n",
       "      <td>PUEBLO DE SANTA URSULA COAPA</td>\n",
       "      <td>-99.14214</td>\n",
       "      <td>19.31311</td>\n",
       "    </tr>\n",
       "    <tr>\n",
       "      <th>2</th>\n",
       "      <td>2021.0</td>\n",
       "      <td>Diciembre</td>\n",
       "      <td>2021-12-31</td>\n",
       "      <td>22:30:00</td>\n",
       "      <td>2022</td>\n",
       "      <td>Enero</td>\n",
       "      <td>2022-01-01</td>\n",
       "      <td>00:26:00</td>\n",
       "      <td>LESIONES INTENCIONALES POR ARMA DE FUEGO</td>\n",
       "      <td>FISCALÍA DE INVESTIGACIÓN TERRITORIAL EN GUSTA...</td>\n",
       "      <td>UAT-GAM-3</td>\n",
       "      <td>UI-1SD</td>\n",
       "      <td>LESIONES DOLOSAS POR DISPARO DE ARMA DE FUEGO</td>\n",
       "      <td>FUERO COMUN</td>\n",
       "      <td>VENUSTIANO CARRANZA</td>\n",
       "      <td>NaN</td>\n",
       "      <td>MORELOS I</td>\n",
       "      <td>MORELOS</td>\n",
       "      <td>-99.12139</td>\n",
       "      <td>19.44615</td>\n",
       "    </tr>\n",
       "    <tr>\n",
       "      <th>3</th>\n",
       "      <td>2021.0</td>\n",
       "      <td>Diciembre</td>\n",
       "      <td>2021-12-31</td>\n",
       "      <td>23:11:00</td>\n",
       "      <td>2022</td>\n",
       "      <td>Enero</td>\n",
       "      <td>2022-01-01</td>\n",
       "      <td>00:29:00</td>\n",
       "      <td>DAÑO EN PROPIEDAD AJENA CULPOSA POR TRÁNSITO V...</td>\n",
       "      <td>FISCALÍA DE INVESTIGACIÓN TERRITORIAL EN BENIT...</td>\n",
       "      <td>BJ-2</td>\n",
       "      <td>UI-1CD</td>\n",
       "      <td>DELITO DE BAJO IMPACTO</td>\n",
       "      <td>FUERO COMUN</td>\n",
       "      <td>BENITO JUAREZ</td>\n",
       "      <td>NaN</td>\n",
       "      <td>DEL VALLE VII</td>\n",
       "      <td>DEL VALLE CENTRO</td>\n",
       "      <td>-99.17495</td>\n",
       "      <td>19.36963</td>\n",
       "    </tr>\n",
       "    <tr>\n",
       "      <th>4</th>\n",
       "      <td>2021.0</td>\n",
       "      <td>Diciembre</td>\n",
       "      <td>2021-12-31</td>\n",
       "      <td>21:30:00</td>\n",
       "      <td>2022</td>\n",
       "      <td>Enero</td>\n",
       "      <td>2022-01-01</td>\n",
       "      <td>00:35:00</td>\n",
       "      <td>VIOLENCIA FAMILIAR</td>\n",
       "      <td>FISCALÍA DE INVESTIGACIÓN TERRITORIAL EN GUSTA...</td>\n",
       "      <td>UAT-GAM-3</td>\n",
       "      <td>UI-1SD</td>\n",
       "      <td>DELITO DE BAJO IMPACTO</td>\n",
       "      <td>FUERO COMUN</td>\n",
       "      <td>GUSTAVO A. MADERO</td>\n",
       "      <td>NaN</td>\n",
       "      <td>LA FORESTAL</td>\n",
       "      <td>FORESTAL</td>\n",
       "      <td>-99.12990</td>\n",
       "      <td>19.55972</td>\n",
       "    </tr>\n",
       "  </tbody>\n",
       "</table>\n",
       "</div>"
      ],
      "text/plain": [
       "   Año_delito mes_hechos fecha_hechos hora_hechos  Año_carpeta mes_inicio  \\\n",
       "0      2021.0  Diciembre   2021-12-31    23:00:00         2022      Enero   \n",
       "1      2021.0    Octubre   2021-10-29    09:00:00         2022      Enero   \n",
       "2      2021.0  Diciembre   2021-12-31    22:30:00         2022      Enero   \n",
       "3      2021.0  Diciembre   2021-12-31    23:11:00         2022      Enero   \n",
       "4      2021.0  Diciembre   2021-12-31    21:30:00         2022      Enero   \n",
       "\n",
       "  fecha_inicio hora_inicio                                             delito  \\\n",
       "0   2022-01-01    00:03:00     ROBO A TRANSEUNTE EN VIA PUBLICA CON VIOLENCIA   \n",
       "1   2022-01-01    00:06:00                                 ABUSO DE CONFIANZA   \n",
       "2   2022-01-01    00:26:00           LESIONES INTENCIONALES POR ARMA DE FUEGO   \n",
       "3   2022-01-01    00:29:00  DAÑO EN PROPIEDAD AJENA CULPOSA POR TRÁNSITO V...   \n",
       "4   2022-01-01    00:35:00                                 VIOLENCIA FAMILIAR   \n",
       "\n",
       "                                            fiscalia    agencia  \\\n",
       "0  FISCALÍA DE INVESTIGACIÓN TERRITORIAL EN ALVAR...       AO-3   \n",
       "1                        AGENCIA DE DENUNCIA DIGITAL      CEN-1   \n",
       "2  FISCALÍA DE INVESTIGACIÓN TERRITORIAL EN GUSTA...  UAT-GAM-3   \n",
       "3  FISCALÍA DE INVESTIGACIÓN TERRITORIAL EN BENIT...       BJ-2   \n",
       "4  FISCALÍA DE INVESTIGACIÓN TERRITORIAL EN GUSTA...  UAT-GAM-3   \n",
       "\n",
       "            unidad_investigacion  \\\n",
       "0                         UI-1CD   \n",
       "1  Unidad de Investigación 1 S/D   \n",
       "2                         UI-1SD   \n",
       "3                         UI-1CD   \n",
       "4                         UI-1SD   \n",
       "\n",
       "                                    categoria_delito  competencia  \\\n",
       "0  ROBO A TRANSEUNTE EN VÍA PÚBLICA CON Y SIN VIO...  FUERO COMUN   \n",
       "1                             DELITO DE BAJO IMPACTO  FUERO COMUN   \n",
       "2      LESIONES DOLOSAS POR DISPARO DE ARMA DE FUEGO  FUERO COMUN   \n",
       "3                             DELITO DE BAJO IMPACTO  FUERO COMUN   \n",
       "4                             DELITO DE BAJO IMPACTO  FUERO COMUN   \n",
       "\n",
       "       alcaldia_hechos municipio_hechos              colonia_datos  \\\n",
       "0       ALVARO OBREGON              NaN          LIBERALES DE 1857   \n",
       "1             COYOACAN              NaN  SANTA URSULA COAPA (PBLO)   \n",
       "2  VENUSTIANO CARRANZA              NaN                  MORELOS I   \n",
       "3        BENITO JUAREZ              NaN              DEL VALLE VII   \n",
       "4    GUSTAVO A. MADERO              NaN                LA FORESTAL   \n",
       "\n",
       "                        Colonia  longitud   latitud  \n",
       "0             LIBERALES DE 1857 -99.21295  19.39444  \n",
       "1  PUEBLO DE SANTA URSULA COAPA -99.14214  19.31311  \n",
       "2                       MORELOS -99.12139  19.44615  \n",
       "3              DEL VALLE CENTRO -99.17495  19.36963  \n",
       "4                      FORESTAL -99.12990  19.55972  "
      ]
     },
     "execution_count": 218,
     "metadata": {},
     "output_type": "execute_result"
    }
   ],
   "source": [
    "df2223.head()"
   ]
  },
  {
   "cell_type": "code",
   "execution_count": 227,
   "id": "c242daa2-40c6-4157-9a49-1cceefd82a87",
   "metadata": {
    "tags": []
   },
   "outputs": [
    {
     "data": {
      "text/html": [
       "<div>\n",
       "<style scoped>\n",
       "    .dataframe tbody tr th:only-of-type {\n",
       "        vertical-align: middle;\n",
       "    }\n",
       "\n",
       "    .dataframe tbody tr th {\n",
       "        vertical-align: top;\n",
       "    }\n",
       "\n",
       "    .dataframe thead th {\n",
       "        text-align: right;\n",
       "    }\n",
       "</style>\n",
       "<table border=\"1\" class=\"dataframe\">\n",
       "  <thead>\n",
       "    <tr style=\"text-align: right;\">\n",
       "      <th></th>\n",
       "      <th>Año_delito</th>\n",
       "      <th>Año_carpeta</th>\n",
       "      <th>longitud</th>\n",
       "      <th>latitud</th>\n",
       "    </tr>\n",
       "  </thead>\n",
       "  <tbody>\n",
       "    <tr>\n",
       "      <th>count</th>\n",
       "      <td>300973.000000</td>\n",
       "      <td>301038.000000</td>\n",
       "      <td>301038.000000</td>\n",
       "      <td>301038.000000</td>\n",
       "    </tr>\n",
       "    <tr>\n",
       "      <th>mean</th>\n",
       "      <td>2021.994617</td>\n",
       "      <td>2022.203738</td>\n",
       "      <td>-93.427414</td>\n",
       "      <td>18.267394</td>\n",
       "    </tr>\n",
       "    <tr>\n",
       "      <th>std</th>\n",
       "      <td>3.566753</td>\n",
       "      <td>0.402777</td>\n",
       "      <td>23.094390</td>\n",
       "      <td>4.516074</td>\n",
       "    </tr>\n",
       "    <tr>\n",
       "      <th>min</th>\n",
       "      <td>222.000000</td>\n",
       "      <td>2022.000000</td>\n",
       "      <td>-99.341340</td>\n",
       "      <td>0.000000</td>\n",
       "    </tr>\n",
       "    <tr>\n",
       "      <th>25%</th>\n",
       "      <td>2022.000000</td>\n",
       "      <td>2022.000000</td>\n",
       "      <td>-99.172980</td>\n",
       "      <td>19.319991</td>\n",
       "    </tr>\n",
       "    <tr>\n",
       "      <th>50%</th>\n",
       "      <td>2022.000000</td>\n",
       "      <td>2022.000000</td>\n",
       "      <td>-99.136610</td>\n",
       "      <td>19.380530</td>\n",
       "    </tr>\n",
       "    <tr>\n",
       "      <th>75%</th>\n",
       "      <td>2022.000000</td>\n",
       "      <td>2022.000000</td>\n",
       "      <td>-99.084380</td>\n",
       "      <td>19.434184</td>\n",
       "    </tr>\n",
       "    <tr>\n",
       "      <th>max</th>\n",
       "      <td>2023.000000</td>\n",
       "      <td>2023.000000</td>\n",
       "      <td>0.000000</td>\n",
       "      <td>19.578880</td>\n",
       "    </tr>\n",
       "  </tbody>\n",
       "</table>\n",
       "</div>"
      ],
      "text/plain": [
       "          Año_delito    Año_carpeta       longitud        latitud\n",
       "count  300973.000000  301038.000000  301038.000000  301038.000000\n",
       "mean     2021.994617    2022.203738     -93.427414      18.267394\n",
       "std         3.566753       0.402777      23.094390       4.516074\n",
       "min       222.000000    2022.000000     -99.341340       0.000000\n",
       "25%      2022.000000    2022.000000     -99.172980      19.319991\n",
       "50%      2022.000000    2022.000000     -99.136610      19.380530\n",
       "75%      2022.000000    2022.000000     -99.084380      19.434184\n",
       "max      2023.000000    2023.000000       0.000000      19.578880"
      ]
     },
     "execution_count": 227,
     "metadata": {},
     "output_type": "execute_result"
    }
   ],
   "source": [
    "df2223.describe()"
   ]
  },
  {
   "cell_type": "code",
   "execution_count": 219,
   "id": "b2ffb1a9-3ca2-4d13-a6b6-702338e3dd49",
   "metadata": {
    "tags": []
   },
   "outputs": [
    {
     "data": {
      "text/plain": [
       "array([2021., 2022., 2020., 2014., 2018., 2019., 1989., 2017., 2015.,\n",
       "       2003., 1986., 1996., 1999., 2008., 2002., 2009., 2016., 2010.,\n",
       "       2001., 2011., 2012., 2013.,   nan, 2006., 1970., 2007., 1969.,\n",
       "       1995., 2005., 1971., 2004., 1998., 2000., 1992., 1976., 1990.,\n",
       "       1997., 1988., 1978., 1983., 1994., 1987., 1993.,  222., 1985.,\n",
       "       1974., 1972., 1982., 1962., 1991., 1980., 1979., 1955., 1984.,\n",
       "       1981., 1950., 1977., 2023., 1967.])"
      ]
     },
     "execution_count": 219,
     "metadata": {},
     "output_type": "execute_result"
    }
   ],
   "source": [
    "df2223[\"Año_delito\"].unique()"
   ]
  },
  {
   "cell_type": "code",
   "execution_count": 220,
   "id": "1512706e-9e59-4d78-a7d6-27c395ef525e",
   "metadata": {
    "tags": []
   },
   "outputs": [
    {
     "data": {
      "text/plain": [
       "count    300973.000000\n",
       "mean       2021.994617\n",
       "std           3.566753\n",
       "min         222.000000\n",
       "25%        2022.000000\n",
       "50%        2022.000000\n",
       "75%        2022.000000\n",
       "max        2023.000000\n",
       "Name: Año_delito, dtype: float64"
      ]
     },
     "execution_count": 220,
     "metadata": {},
     "output_type": "execute_result"
    }
   ],
   "source": [
    "df2223[\"Año_delito\"].describe()"
   ]
  },
  {
   "cell_type": "code",
   "execution_count": 221,
   "id": "7f9aeee6-b1cb-49b3-bee7-9c386b34df63",
   "metadata": {
    "tags": []
   },
   "outputs": [
    {
     "data": {
      "text/plain": [
       "VIOLENCIA FAMILIAR                                                    47057\n",
       "FRAUDE                                                                27265\n",
       "AMENAZAS                                                              23925\n",
       "ROBO DE OBJETOS                                                       16641\n",
       "ROBO DE ACCESORIOS DE AUTO                                            11632\n",
       "                                                                      ...  \n",
       "HOMICIDIO POR INMERSION                                                   1\n",
       "CORRUPCION DE MENORES E INCAPACES                                         1\n",
       "PRIVACIÓN DE LA LIBERTAD PERSONAL  ( SI LIBERA DENTRO DE 24 HORAS)        1\n",
       "OTROS AMBIENTALES                                                         1\n",
       "OTROS DELITOS                                                             1\n",
       "Name: delito, Length: 291, dtype: int64"
      ]
     },
     "execution_count": 221,
     "metadata": {},
     "output_type": "execute_result"
    }
   ],
   "source": [
    "df2223['delito'].value_counts()"
   ]
  },
  {
   "cell_type": "code",
   "execution_count": 222,
   "id": "3c984bad-72b4-44bf-8fb9-8aee74683cf8",
   "metadata": {
    "tags": []
   },
   "outputs": [
    {
     "data": {
      "text/plain": [
       "DELITO DE BAJO IMPACTO                                     260877\n",
       "ROBO A TRANSEUNTE EN VÍA PÚBLICA CON Y SIN VIOLENCIA        12941\n",
       "ROBO DE VEHÍCULO CON Y SIN VIOLENCIA                         8138\n",
       "HECHO NO DELICTIVO                                           5211\n",
       "VIOLACIÓN                                                    3403\n",
       "ROBO A NEGOCIO CON VIOLENCIA                                 2665\n",
       "ROBO A PASAJERO A BORDO DEL METRO CON Y SIN VIOLENCIA        1691\n",
       "ROBO A REPARTIDOR CON Y SIN VIOLENCIA                        1680\n",
       "ROBO A PASAJERO A BORDO DE MICROBUS CON Y SIN VIOLENCIA      1267\n",
       "HOMICIDIO DOLOSO                                             1054\n",
       "LESIONES DOLOSAS POR DISPARO DE ARMA DE FUEGO                1018\n",
       "ROBO A CASA HABITACIÓN CON VIOLENCIA                          374\n",
       "ROBO A CUENTAHABIENTE SALIENDO DEL CAJERO CON VIOLENCIA       356\n",
       "ROBO A PASAJERO A BORDO DE TAXI CON VIOLENCIA                 283\n",
       "ROBO A TRANSPORTISTA CON Y SIN VIOLENCIA                       61\n",
       "SECUESTRO                                                      19\n",
       "Name: categoria_delito, dtype: int64"
      ]
     },
     "execution_count": 222,
     "metadata": {},
     "output_type": "execute_result"
    }
   ],
   "source": [
    "df2223['categoria_delito'].value_counts()"
   ]
  },
  {
   "cell_type": "code",
   "execution_count": 228,
   "id": "cdf71e79-964e-4b92-883d-6b588bc3db9c",
   "metadata": {
    "tags": []
   },
   "outputs": [],
   "source": [
    "#re= df2223.loc[:, [\"Año_delito\", \"hora_hechos\", \"Delito\", \"Fiscalia\", \"categoria_delito\", \"alcaldia_hechos\", \"municipio_hechos\", \"colonia\"]]\n",
    "#re"
   ]
  },
  {
   "cell_type": "code",
   "execution_count": null,
   "id": "0b611f7e-a125-4bb8-9bd5-0f078de4db35",
   "metadata": {},
   "outputs": [],
   "source": []
  },
  {
   "cell_type": "code",
   "execution_count": null,
   "id": "c047402e-7bf4-41b4-a174-57e3eb0c89e0",
   "metadata": {},
   "outputs": [],
   "source": []
  }
 ],
 "metadata": {
  "kernelspec": {
   "display_name": "Python 3 (ipykernel)",
   "language": "python",
   "name": "python3"
  },
  "language_info": {
   "codemirror_mode": {
    "name": "ipython",
    "version": 3
   },
   "file_extension": ".py",
   "mimetype": "text/x-python",
   "name": "python",
   "nbconvert_exporter": "python",
   "pygments_lexer": "ipython3",
   "version": "3.10.6"
  }
 },
 "nbformat": 4,
 "nbformat_minor": 5
}
