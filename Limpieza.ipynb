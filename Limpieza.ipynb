{
 "cells": [
  {
   "attachments": {},
   "cell_type": "markdown",
   "id": "dd2c2f36",
   "metadata": {},
   "source": [
    "# Limpieza de carpetas de investigación del 2023\n",
    "\n",
    "Estos datos corresponden al periodo del 01/Enero/2023 al 31/Marzo/2023"
   ]
  },
  {
   "cell_type": "code",
   "execution_count": null,
   "id": "1624d0a2",
   "metadata": {
    "tags": []
   },
   "outputs": [],
   "source": [
    "import pandas as pd\n",
    "import numpy as np\n",
    "import matplotlib.pyplot as plt\n",
    "import seaborn as sb\n",
    "from sklearn.impute import SimpleImputer\n",
    "import math\n",
    "import re"
   ]
  },
  {
   "attachments": {},
   "cell_type": "markdown",
   "id": "6597331c",
   "metadata": {
    "tags": []
   },
   "source": [
    "## Entendimiento de los datos"
   ]
  },
  {
   "cell_type": "code",
   "execution_count": null,
   "id": "4681abf2",
   "metadata": {
    "tags": []
   },
   "outputs": [],
   "source": [
    "df = pd.read_csv('data/da_2023.csv')\n",
    "df.shape"
   ]
  },
  {
   "cell_type": "code",
   "execution_count": null,
   "id": "1374a292",
   "metadata": {
    "tags": []
   },
   "outputs": [],
   "source": [
    "df.columns"
   ]
  },
  {
   "cell_type": "code",
   "execution_count": null,
   "id": "3cc503b6",
   "metadata": {
    "tags": []
   },
   "outputs": [],
   "source": [
    "#df[np.logical_and(df[\"colonia\"].isnull(), df[\"persona\"] == \"MORAL\")]"
   ]
  },
  {
   "cell_type": "code",
   "execution_count": null,
   "id": "62cbd878",
   "metadata": {
    "tags": []
   },
   "outputs": [],
   "source": [
    "df.dtypes"
   ]
  },
  {
   "cell_type": "code",
   "execution_count": null,
   "id": "0e2edddc",
   "metadata": {
    "tags": []
   },
   "outputs": [],
   "source": [
    "df.nunique()"
   ]
  },
  {
   "cell_type": "code",
   "execution_count": null,
   "id": "081dac64",
   "metadata": {
    "tags": []
   },
   "outputs": [],
   "source": [
    "df[\"Año_hecho\"].describe()"
   ]
  },
  {
   "attachments": {},
   "cell_type": "markdown",
   "id": "8fd4964f",
   "metadata": {
    "tags": []
   },
   "source": [
    "### Tenemos delitos cometidos desde el año **1962** a los cuáles se les abrió carpetas de investigación hasta el año **2023**"
   ]
  },
  {
   "cell_type": "code",
   "execution_count": null,
   "id": "6f1c0a3e",
   "metadata": {
    "tags": []
   },
   "outputs": [],
   "source": [
    "df[\"Año_hecho\"].unique()"
   ]
  },
  {
   "cell_type": "code",
   "execution_count": null,
   "id": "a3942110",
   "metadata": {
    "tags": []
   },
   "outputs": [],
   "source": [
    "df[\"Categoria\"].unique()"
   ]
  },
  {
   "cell_type": "code",
   "execution_count": null,
   "id": "d6950310",
   "metadata": {
    "tags": []
   },
   "outputs": [],
   "source": [
    "df.loc[df[\"Año_hecho\"]==1962]"
   ]
  },
  {
   "cell_type": "code",
   "execution_count": null,
   "id": "9344bd98",
   "metadata": {
    "tags": []
   },
   "outputs": [],
   "source": [
    "df[\"competencia\"].unique()"
   ]
  },
  {
   "attachments": {},
   "cell_type": "markdown",
   "id": "f3c3ac25",
   "metadata": {
    "jp-MarkdownHeadingCollapsed": true,
    "tags": []
   },
   "source": [
    "### Resumen del entendimiento de los datos\n",
    "\n",
    "1. Existen carpetas de investigación sobre delitos cometidos desde 1962, abiertas hasta el 2023.\n",
    "\n",
    "2. Tenemos **16 categorías de delitos**.\n",
    "\n",
    "3. Hay **5 tipos de calidades jurídicas**.\n",
    "\n",
    "4. Describiendo los **3 competencias de delitos**:\n",
    "    \n",
    "    * Fuero común: Aquellos delitos que afectas directamente a la persona.\n",
    "    * Hechos no delictivos: No son delitos.\n",
    "    * Incompetencias: La persona es incapaz de ser juzgada o de ser responsable de sus acciones debido a condiciones físicas o mentales.\n",
    "    \n",
    "    \n",
    "    \n",
    "5. En la columna de alcaldías estamos considerando un **extra llamado 'fuera de la ciudad de méxico'**\n",
    "\n",
    "6. Tenemos **255 tipos de delitos**."
   ]
  },
  {
   "attachments": {},
   "cell_type": "markdown",
   "id": "2d5193d4-e199-45af-8da5-45d5b80a1c2f",
   "metadata": {
    "tags": []
   },
   "source": [
    "## Limpieza"
   ]
  },
  {
   "attachments": {},
   "cell_type": "markdown",
   "id": "911dc7a0-3724-463c-ba50-9e457f384b3c",
   "metadata": {},
   "source": [
    "1. [X] Eliminar columnas que se relacionen con el tiempo en que se hizo la denuncia\n",
    "2. [X] Estandarizar a minusculas las columnas restantes\n",
    "3. [X] Renombrar columnas a 1 sola palabra\n",
    "4. [X] Eliminar la palabra hecho de todas las columnas que la contengan\n",
    "5. [X] Convertir a formato de fecha si corresponde\n",
    "6. [X] Eliminar la columna de Municipio ya que solo vamos a analizar dentro de CDMX\n",
    "7. [ ] Rellenar los NaN  \n",
    "\n",
    "        7.1 [X] 'sexo' no, hasta tener separados los dataframes  \n",
    "        \n",
    "        7.2 [ ] 'edad' no, hasta tener separados los dataframes  \n",
    "        \n",
    "        7.3 [X] 'persona' no, eliminar los registros que no tengan este campo  \n",
    "        \n",
    "        7.4 [X] 'año, mes, fecha y hora' no, son 7 entonces eliminemos  \n",
    "        \n",
    "        7.5 [ ] 'colonia' si, quizas teniendo en cuenta las colonias que mas se repiten por alcaldia  \n",
    "        \n",
    "        7.6 [X] 'latitud y longitud' borrar columnas (realmente no se usarán)\n",
    "        \n",
    "8. [X] Cambiar a enteros los años\n",
    "9. [X] Si existe un tipo de dato de \"hora\", cambiarlo en la que corresponda  \n",
    "\n",
    "        9.1 [X] Eliminar aquellos registros con categoria \"hecho no delictivo\" y calidad \"incompetencias\"\n",
    "        \n",
    "10. [X] Separar en 2 DataFrames teniendo en cuenta el tipo de persona\n",
    "11. [X] Del dataframe de personas morales, eliminar las columnas de sexo, edad, tipopersona\n",
    "12. [ ] En la columna de edades de personas físicas, llenar los NA con algún **algoritmo de imputación**\n",
    "\n"
   ]
  },
  {
   "attachments": {},
   "cell_type": "markdown",
   "id": "dff20689-863d-40eb-825d-94347008adcc",
   "metadata": {
    "tags": []
   },
   "source": [
    "### Paso 1"
   ]
  },
  {
   "cell_type": "code",
   "execution_count": null,
   "id": "7b029d4a",
   "metadata": {
    "tags": []
   },
   "outputs": [],
   "source": [
    "df.drop(\n",
    "        columns=[\"fgj_colonia_registro\", \"idCarpeta\", \"Año_inicio\", \"Mes_inicio\", \"FechaInicio\", \"HoraInicio\"], \n",
    "        inplace=True\n",
    "        )"
   ]
  },
  {
   "attachments": {},
   "cell_type": "markdown",
   "id": "9dd334dc-25cd-4bb5-8e3b-80e72adff79e",
   "metadata": {
    "tags": []
   },
   "source": [
    "### Paso 2"
   ]
  },
  {
   "cell_type": "code",
   "execution_count": null,
   "id": "5c766c4e-ecaa-4cc1-8a87-4d9b6afd4d1e",
   "metadata": {},
   "outputs": [],
   "source": [
    "df.rename(columns= lambda x: x.lower(), inplace=True)"
   ]
  },
  {
   "attachments": {},
   "cell_type": "markdown",
   "id": "8c74c216-52bd-479e-9812-6576ad978cb2",
   "metadata": {
    "tags": []
   },
   "source": [
    "### Paso 3"
   ]
  },
  {
   "cell_type": "code",
   "execution_count": null,
   "id": "f081daba-2d74-4888-8485-d46fce7410e0",
   "metadata": {},
   "outputs": [],
   "source": [
    "df.rename(columns = \n",
    "         {\n",
    "             'tipopersona': 'persona',\n",
    "             'calidadjuridica': 'calidad',\n",
    "             'colonia_datos': 'colonia'\n",
    "         }, \n",
    "        inplace=True)"
   ]
  },
  {
   "attachments": {},
   "cell_type": "markdown",
   "id": "a23551d7-07f9-4bdf-8bd3-b0b24fd36977",
   "metadata": {
    "tags": []
   },
   "source": [
    "### Paso 4"
   ]
  },
  {
   "cell_type": "code",
   "execution_count": null,
   "id": "9a00f8cc-6054-4b51-b52d-8a84d91d08bf",
   "metadata": {},
   "outputs": [],
   "source": [
    "def find(name):\n",
    "    return re.sub(r'_?hechos?$', '', name)\n",
    "\n",
    "df.columns = df.columns.to_frame()[0].agg(find)"
   ]
  },
  {
   "attachments": {},
   "cell_type": "markdown",
   "id": "1b1883bd-29e2-4dd9-9f17-40cec8fa9ad6",
   "metadata": {
    "tags": []
   },
   "source": [
    "### Paso 5"
   ]
  },
  {
   "cell_type": "code",
   "execution_count": null,
   "id": "7f59c138-1c10-4058-b36c-0fc6d7f33294",
   "metadata": {},
   "outputs": [],
   "source": [
    "df.fecha = pd.to_datetime(df.fecha)"
   ]
  },
  {
   "attachments": {},
   "cell_type": "markdown",
   "id": "3cc645ba-e2f7-4280-8d4f-c938ee050295",
   "metadata": {
    "tags": []
   },
   "source": [
    "### Paso 6: Eliminar Municipio"
   ]
  },
  {
   "cell_type": "code",
   "execution_count": null,
   "id": "d40fc989-04df-42b0-8b33-9c83919c19b2",
   "metadata": {},
   "outputs": [],
   "source": [
    "df.drop(columns=\"municipio\", inplace=True)"
   ]
  },
  {
   "attachments": {},
   "cell_type": "markdown",
   "id": "d3463574-3782-4699-bc8d-98a26e35faa1",
   "metadata": {
    "tags": []
   },
   "source": [
    "### Paso 7.3, 7.4"
   ]
  },
  {
   "cell_type": "code",
   "execution_count": null,
   "id": "de9b0e00-ca14-4261-b259-9a528baf6d0f",
   "metadata": {},
   "outputs": [],
   "source": [
    "# Borrar persona, año, mes fecha y hora nulos\n",
    "df.dropna(subset=[\"persona\", \"año\", \"mes\", \"fecha\", \"hora\"], inplace=True)"
   ]
  },
  {
   "attachments": {},
   "cell_type": "markdown",
   "id": "b9f2b04b-0c5c-4db3-9213-cc812da5adc1",
   "metadata": {
    "tags": []
   },
   "source": [
    "### Paso 7.6"
   ]
  },
  {
   "cell_type": "code",
   "execution_count": null,
   "id": "8bc9684c-c201-4646-b1f2-526ee9b92795",
   "metadata": {},
   "outputs": [],
   "source": [
    "df.drop(columns=[\"latitud\", \"longitud\"], inplace=True)"
   ]
  },
  {
   "attachments": {},
   "cell_type": "markdown",
   "id": "c87c08f3-943e-4529-a992-dc77113f9099",
   "metadata": {
    "tags": []
   },
   "source": [
    "### Paso 8"
   ]
  },
  {
   "cell_type": "code",
   "execution_count": null,
   "id": "408df9b6-1c16-4d02-8c59-9db36aa1e8ee",
   "metadata": {},
   "outputs": [],
   "source": [
    "df[\"año\"] = df['año'].astype(int)"
   ]
  },
  {
   "attachments": {},
   "cell_type": "markdown",
   "id": "bbf2b96f-2b33-433e-8c4e-c436728115e7",
   "metadata": {
    "tags": []
   },
   "source": [
    "### Paso 9"
   ]
  },
  {
   "cell_type": "code",
   "execution_count": null,
   "id": "b4a5d5f0-00af-4bdd-9e71-08bcfd9b44a7",
   "metadata": {},
   "outputs": [],
   "source": [
    "df[\"hora\"] = pd.to_datetime(df['hora']).dt.time"
   ]
  },
  {
   "attachments": {},
   "cell_type": "markdown",
   "id": "98e6b23b-2ae7-4fec-b4cd-474dcc67481a",
   "metadata": {},
   "source": [
    "### Paso 9.1"
   ]
  },
  {
   "cell_type": "code",
   "execution_count": null,
   "id": "9e94adb2-7d7e-4d13-9124-3abd4f15f5dc",
   "metadata": {},
   "outputs": [],
   "source": [
    "df = df[np.logical_and(df[\"categoria\"] != \"HECHO NO DELICTIVO\", df[\"calidad\"] != \"INCOMPETENCIAS\")]"
   ]
  },
  {
   "attachments": {},
   "cell_type": "markdown",
   "id": "fee037e2-8c32-45bf-8650-724d48da2c6e",
   "metadata": {
    "tags": []
   },
   "source": [
    "### Paso 10: separación de dataframe"
   ]
  },
  {
   "cell_type": "code",
   "execution_count": null,
   "id": "050645f2-4123-4877-bc6c-396911724ead",
   "metadata": {},
   "outputs": [],
   "source": [
    "df_fisica = df.query('persona == \"FISICA\"')\n",
    "df_moral = df.query('persona == \"MORAL\"')"
   ]
  },
  {
   "attachments": {},
   "cell_type": "markdown",
   "id": "e19cb0cd-1458-4277-a241-94441ebd96e5",
   "metadata": {},
   "source": [
    "### Paso 11"
   ]
  },
  {
   "cell_type": "code",
   "execution_count": null,
   "id": "132dd47a-6472-417f-bc7a-6509d304109c",
   "metadata": {},
   "outputs": [],
   "source": [
    "df_moral = df_moral.drop(columns = [\"edad\", \"sexo\", \"persona\"])\n",
    "df_moral.head(1)"
   ]
  },
  {
   "attachments": {},
   "cell_type": "markdown",
   "id": "f41dbc9f-8f1b-43c4-9a87-77d3e9a6382b",
   "metadata": {
    "tags": []
   },
   "source": [
    "### Paso 12"
   ]
  },
  {
   "cell_type": "code",
   "execution_count": null,
   "id": "d82f6849-cacc-4dfe-877f-3d8ba4c92fa0",
   "metadata": {},
   "outputs": [],
   "source": [
    "df_fisica.isna().sum()"
   ]
  },
  {
   "cell_type": "code",
   "execution_count": null,
   "id": "2a1121fa-9d0c-4acb-b32f-62feb8bfc2bd",
   "metadata": {},
   "outputs": [],
   "source": [
    "df_moral.isna().sum()"
   ]
  },
  {
   "attachments": {},
   "cell_type": "markdown",
   "id": "44835429-1433-4339-a07e-2f79160cbd37",
   "metadata": {},
   "source": [
    "### Rellenado de colonias en moral\n",
    "\n",
    "Agrupar por alcaldía y colonia\n",
    "\n",
    "Seleccionar las mas ocurrentes en cada alcaldía y rellenarlo"
   ]
  },
  {
   "cell_type": "code",
   "execution_count": null,
   "id": "9f624784-2da0-4075-8e51-faad9ae270e0",
   "metadata": {},
   "outputs": [],
   "source": [
    "# BORRAR REGISTROS QUE EN ALCALDIA CONTENGA CDMX Y FUERA DE CDMX\n",
    "df_moral = df_moral[np.logical_and(df_moral[\"alcaldia\"] != \"CDMX\", df_moral[\"alcaldia\"] != \"FUERA DE CDMX\")]"
   ]
  },
  {
   "cell_type": "code",
   "execution_count": null,
   "id": "9fd0e2e1-05c5-43d7-95e3-ef5df816e572",
   "metadata": {},
   "outputs": [],
   "source": [
    "imputer = SimpleImputer(strategy='most_frequent')\n",
    "\n",
    "def imputacion(x):\n",
    "    #print(x.values.reshape(-1, 1))\n",
    "    return imputer.fit_transform(x.values.reshape(-1, 1)).ravel()"
   ]
  },
  {
   "cell_type": "code",
   "execution_count": null,
   "id": "8cd61d96-6fb8-496e-afe0-5c7c1a1ba651",
   "metadata": {},
   "outputs": [],
   "source": [
    "df_moral['colonia'] = df_moral.groupby('alcaldia')['colonia'].transform(imputacion)"
   ]
  },
  {
   "cell_type": "code",
   "execution_count": null,
   "id": "96c81420-76d4-47ba-9fe9-418cf764f4bd",
   "metadata": {},
   "outputs": [],
   "source": [
    "df_moral.isna().sum()"
   ]
  },
  {
   "attachments": {},
   "cell_type": "markdown",
   "id": "d78d9524-a93a-416f-934f-e0e463c4bf73",
   "metadata": {},
   "source": [
    "### Imputación de las personas físicas"
   ]
  },
  {
   "cell_type": "code",
   "execution_count": null,
   "id": "6cda3219-ee2e-4841-85d5-694350a293cf",
   "metadata": {},
   "outputs": [],
   "source": [
    "df_fisica.isna().count()"
   ]
  },
  {
   "cell_type": "code",
   "execution_count": null,
   "id": "2efa5503-9462-4cbd-a550-4b48e05d80c8",
   "metadata": {},
   "outputs": [],
   "source": [
    "df_fisica.groupby(\"alcaldia\")[\"colonia\"].count()"
   ]
  },
  {
   "cell_type": "code",
   "execution_count": null,
   "id": "8fa837c9-5c32-4486-a536-34727c35759b",
   "metadata": {},
   "outputs": [],
   "source": [
    "df_fisica = df_fisica[np.logical_and(df_fisica[\"alcaldia\"] != \"CDMX\", df_fisica[\"alcaldia\"] != \"FUERA DE CDMX\")]"
   ]
  },
  {
   "cell_type": "code",
   "execution_count": null,
   "id": "8f167146-57df-492d-9ed2-0307cda5b71e",
   "metadata": {},
   "outputs": [],
   "source": [
    "df_fisica['colonia'] = df_fisica.groupby('alcaldia')['colonia'].transform(imputacion)"
   ]
  },
  {
   "cell_type": "code",
   "execution_count": null,
   "id": "6b2e306a-8db9-47a6-91f5-9b9eb7c59d6e",
   "metadata": {},
   "outputs": [],
   "source": [
    "df_fisica.isna().sum()"
   ]
  },
  {
   "attachments": {},
   "cell_type": "markdown",
   "id": "dc4b6498-bf07-422e-94ff-fb54b8c74ee6",
   "metadata": {},
   "source": [
    "### Edades"
   ]
  },
  {
   "cell_type": "code",
   "execution_count": null,
   "id": "ec6df5f2-eb52-4a4b-844c-0883a22540c7",
   "metadata": {},
   "outputs": [],
   "source": [
    "medias_edades = df_fisica.groupby(by=[\"delito\"])[\"edad\"].mean().reset_index()\n",
    "medias_edades.columns = [\"delitos\", \"media_edad\"]\n",
    "#medias_edades[medias_edades[\"delitos\"] == \"ROBO DE OBJETOS\"]"
   ]
  },
  {
   "cell_type": "code",
   "execution_count": null,
   "id": "0c9c2c16-20c4-464b-b585-1755980041dc",
   "metadata": {},
   "outputs": [],
   "source": [
    "delitos_nulos = medias_edades[medias_edades[\"media_edad\"].isna()]\n",
    "delitos_completos = medias_edades[~medias_edades[\"media_edad\"].isna()]"
   ]
  },
  {
   "cell_type": "code",
   "execution_count": null,
   "id": "86e0b420-1dbc-4357-8b1c-da285e497459",
   "metadata": {},
   "outputs": [],
   "source": [
    "delitos_borrar = [x for x, row in delitos_nulos.iterrows()]"
   ]
  },
  {
   "cell_type": "code",
   "execution_count": null,
   "id": "a293d02d-efd8-4280-b75f-6b060f68443b",
   "metadata": {},
   "outputs": [],
   "source": [
    "df_fisica = df_fisica[~df_fisica['delito'].isin(delitos_nulos)]"
   ]
  },
  {
   "cell_type": "code",
   "execution_count": null,
   "id": "e576a7ae-5708-4030-abed-95307d1499d8",
   "metadata": {},
   "outputs": [],
   "source": [
    "for index, row in df_fisica[[\"delito\", \"edad\"]].iterrows():\n",
    "    if not pd.notnull(row[\"edad\"]):\n",
    "        media_edad = medias_edades[medias_edades[\"delitos\"] == row[\"delito\"]][\"media_edad\"]\n",
    "        df_fisica.at[index, \"edad\"] = media_edad\n"
   ]
  },
  {
   "cell_type": "code",
   "execution_count": null,
   "id": "9e1359d9-82a2-4a06-824e-dbb548ad933e",
   "metadata": {},
   "outputs": [],
   "source": [
    "df_fisica.isna().sum()"
   ]
  },
  {
   "cell_type": "code",
   "execution_count": null,
   "id": "4bbfb721-c262-48bb-af0a-b9952837deeb",
   "metadata": {},
   "outputs": [],
   "source": [
    "df_fisica.dropna(inplace=True)"
   ]
  },
  {
   "cell_type": "code",
   "execution_count": null,
   "id": "c7510341-242f-45c1-a577-96a22b1ac4e0",
   "metadata": {},
   "outputs": [],
   "source": [
    "df_fisica[\"edad\"] = df_fisica[\"edad\"].astype(int)"
   ]
  },
  {
   "cell_type": "code",
   "execution_count": null,
   "id": "0d467415-411b-44ce-a6a5-00f0fc0d8f60",
   "metadata": {},
   "outputs": [],
   "source": [
    "df_fisica.drop(columns=\"persona\", inplace = True)"
   ]
  },
  {
   "cell_type": "code",
   "execution_count": null,
   "id": "b09a40c1-69b7-43bc-941b-37fc4fa651b9",
   "metadata": {},
   "outputs": [],
   "source": [
    "df_fisica.isna().sum()"
   ]
  },
  {
   "attachments": {},
   "cell_type": "markdown",
   "id": "606cbc8a-be9a-4608-914d-7411bf6d06da",
   "metadata": {},
   "source": [
    "### Exportando dataframes limpios"
   ]
  },
  {
   "cell_type": "code",
   "execution_count": null,
   "id": "39805212-fdf2-4ad6-9c86-53d304094128",
   "metadata": {},
   "outputs": [],
   "source": [
    "df_fisica.to_csv('data/fisicas.csv', index=False)\n",
    "df_fisica"
   ]
  },
  {
   "cell_type": "code",
   "execution_count": null,
   "id": "517f358e-857a-4619-993a-b802c193009d",
   "metadata": {},
   "outputs": [],
   "source": [
    "df_moral.to_csv('data/morales.csv')"
   ]
  },
  {
   "cell_type": "code",
   "execution_count": null,
   "id": "b02d3a22-771a-4054-b93b-e3506a0c44ae",
   "metadata": {},
   "outputs": [],
   "source": []
  }
 ],
 "metadata": {
  "kernelspec": {
   "display_name": "Python 3 (ipykernel)",
   "language": "python",
   "name": "python3"
  },
  "language_info": {
   "codemirror_mode": {
    "name": "ipython",
    "version": 3
   },
   "file_extension": ".py",
   "mimetype": "text/x-python",
   "name": "python",
   "nbconvert_exporter": "python",
   "pygments_lexer": "ipython3",
   "version": "3.10.6"
  }
 },
 "nbformat": 4,
 "nbformat_minor": 5
}
